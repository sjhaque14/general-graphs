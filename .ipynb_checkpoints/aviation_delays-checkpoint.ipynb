{
 "cells": [
  {
   "cell_type": "code",
   "execution_count": 1,
   "id": "ba245706-43d3-4de4-b624-9a75ca9291df",
   "metadata": {},
   "outputs": [],
   "source": [
    "import numpy as np\n",
    "import scipy.linalg\n",
    "import networkx as nx\n",
    "import matplotlib.pyplot as plt\n",
    "from tqdm import tqdm\n",
    "\n",
    "import gurobipy as gp\n",
    "from gurobipy import GRB\n",
    "\n",
    "from general_graph_utils import *"
   ]
  },
  {
   "cell_type": "markdown",
   "id": "3744718f-7a00-4a5a-8951-42d1e7dd8812",
   "metadata": {},
   "source": [
    "## Motivation\n",
    "\n",
    "The BHH theorem tells us that if we have a Euclidean manifold on where there is a collection of points we want to visit, which are treated as random variables, then the minimum length of tours that include all points has an upper bound given by the density of points. Having this upper bound guarantees nice behavior.\n",
    "\n",
    "We seek to understand if we can apply the BHH to asymptotic behavior in transportation applications. Initially, we sought to apply the BHH to the asymptotic behavior of delays in air transporation networks. To do this, we would associate a probability distribution to each node in the network and understand how delays propagate over time deterministically. \n",
    "\n",
    "More recently, we have decided to shift the application to model spatially constrained food delivery as a function of the number of orders."
   ]
  },
  {
   "cell_type": "markdown",
   "id": "3c55bf26-7c5e-4bd0-bf89-db3e0a6f8cb2",
   "metadata": {},
   "source": [
    "## Beardwood-Halton-Hammersley Theorem\n",
    "\n",
    "Consider a set of points $V = \\{ x_1, \\dots, x_n)$ in $\\mathbb{R}^d$, where each $x_i$ is a vertex in a graph and an edge $e = \\{x_i, x_j\\}$ has length given by the Euclidean distance of the line from $x_i$ to $x_j$, $|e| = |x_i - x_j|$. Consider the functional:\n",
    "\n",
    "$$L(x_1, \\dots, x_n) = \\text{min}_{T} \\sum_{e \\in T} |e| ,$$\n",
    "\n",
    "where the minimum is over all tours $T$ with vertex set $V$.\n",
    "\n",
    "**Beardwood-Halton-Hammersley Theorem.** If $x_i$ are i.i.d. random variables with compact support, then with probability one,\n",
    "\n",
    "$$ \\lim_{n \\to \\infty} L(x_1, \\dots, x_n)/n^{(d-1)/d} = \\beta_d \\int_\\mathbb{R^d} f(x)^{(d-1)/d} dx ,$$\n",
    "\n",
    "where $\\beta_d > 0$ is a constant not depending on the distribution of the $x_i$ and where $f$ is the density of the absolutley continuous part of the distribution of the $x_i$. \n",
    "\n",
    "The easiest case of the theorem is the 2-dimensional case, where the $x_i$ are uniformly distributed on the unit square with bounded support, meaning that the distribution is zero outside a bounded region. The integrand becomes $1^{1/2} = 1$, and then the integral becomes the volume of a unit cube, which evaluates to 1. The theorem, therefore, says that a uniform distribution of $n$ points in the unit square will almost surely be joined in a tour whose length is asymptotic to $\\beta_2 \\sqrt{n}$ as $n \\to \\infty$. \n",
    "\n",
    "On the unit square, $d=2$, so we have\n",
    "\n",
    "$$ \\lim_{n \\to \\infty} \\mathbb{E}[L] = \\beta_2 \\sqrt{n} \\int_{D \\subset \\mathbb{R^2}} 1^{1/2} dx = \\beta_2 \\sqrt{n} .$$\n",
    "\n",
    "For the epsilon-constrained version, we want to change $\\beta_2$ into something that is a function of epsilon, $\\beta_2(\\epsilon)$."
   ]
  },
  {
   "cell_type": "markdown",
   "id": "39bf9050-3e42-4202-a045-84eacb774722",
   "metadata": {},
   "source": [
    "## Implementation of spatially constrained BHH problem\n",
    "\n",
    "First, we need to be able to generate random points on the unit square."
   ]
  },
  {
   "cell_type": "code",
   "execution_count": 9,
   "id": "5813fae7-4a1d-4005-ad3c-27fa93c6e9b5",
   "metadata": {},
   "outputs": [],
   "source": [
    "epsilon = 0.1"
   ]
  },
  {
   "cell_type": "code",
   "execution_count": 10,
   "id": "57b8a2bb-d5e9-4694-9381-501c7731d3c1",
   "metadata": {},
   "outputs": [],
   "source": [
    "# Generate random points in the unit square\n",
    "def generate_points(num_points):\n",
    "    #np.random.seed(42)  # For reproducibility\n",
    "    return np.random.rand(num_points, 2)"
   ]
  },
  {
   "cell_type": "code",
   "execution_count": 11,
   "id": "b7356fb7-0b74-4674-8ef8-aaffed87c055",
   "metadata": {},
   "outputs": [],
   "source": [
    "num_points = 20\n",
    "points = generate_points(num_points)"
   ]
  },
  {
   "cell_type": "code",
   "execution_count": 12,
   "id": "ed13e1c9-7200-43d9-bfb5-a37ee43fc284",
   "metadata": {},
   "outputs": [
    {
     "data": {
      "image/png": "[encoded data removed]",
      "text/plain": [
       "<Figure size 576x576 with 1 Axes>"
      ]
     },
     "metadata": {
      "needs_background": "light"
     },
     "output_type": "display_data"
    }
   ],
   "source": [
    "plt.figure(figsize=(8, 8))\n",
    "plt.scatter(points[:, 0], points[:, 1], c='red', label='Points')\n",
    "for i, (x, y) in enumerate(points):\n",
    "    plt.text(x, y, str(i), fontsize=12, ha='right')\n",
    "plt.title(\"Points on Unit Square\")\n",
    "plt.xlabel(\"X\")\n",
    "plt.ylabel(\"Y\")\n",
    "plt.legend()\n",
    "plt.grid(True)\n",
    "plt.show()"
   ]
  },
  {
   "cell_type": "markdown",
   "id": "7651bb8e-aff5-4c47-a410-abaae8980927",
   "metadata": {},
   "source": [
    "We also need to calculate the Euclidean distances between the points."
   ]
  },
  {
   "cell_type": "code",
   "execution_count": 13,
   "id": "31599d49-c7da-48c4-8fb1-0b3229dd23e6",
   "metadata": {},
   "outputs": [],
   "source": [
    "def calculate_distances(points):\n",
    "    num_points = len(points)\n",
    "    distances = np.zeros((num_points, num_points))\n",
    "    for i in range(num_points):\n",
    "        for j in range(num_points):\n",
    "            distances[i, j] = np.linalg.norm(points[i] - points[j])\n",
    "    return distances"
   ]
  },
  {
   "cell_type": "code",
   "execution_count": 23,
   "id": "8f9bb5e2-3d6f-40ee-803a-35ce7ec7613e",
   "metadata": {},
   "outputs": [],
   "source": [
    "distances = calculate_distances(points)"
   ]
  },
  {
   "cell_type": "markdown",
   "id": "ae676bb8-4e2e-4443-b0b0-0a8a191c761e",
   "metadata": {},
   "source": [
    "What is the probability that $d = \\sqrt{(x_1^2-x_2^2) - (y_1^2 - y_2^2)} \\leq \\epsilon$?"
   ]
  },
  {
   "cell_type": "code",
   "execution_count": 24,
   "id": "011d66bf-38a5-4995-85a7-b0e0918483e3",
   "metadata": {},
   "outputs": [
    {
     "data": {
      "text/plain": [
       "0.07"
      ]
     },
     "execution_count": 24,
     "metadata": {},
     "output_type": "execute_result"
    }
   ],
   "source": [
    "sum(sum(distances < epsilon))/len(distances)**2"
   ]
  },
  {
   "cell_type": "code",
   "execution_count": 30,
   "id": "a14682db-d5f2-4fe8-85be-3c4321b1e27c",
   "metadata": {},
   "outputs": [
    {
     "name": "stderr",
     "output_type": "stream",
     "text": [
      "100%|████████████████████████████████████| 10000/10000 [00:25<00:00, 394.11it/s]\n"
     ]
    }
   ],
   "source": [
    "epsilon = 0.1\n",
    "num_points = 20\n",
    "probs = np.zeros((10000))\n",
    "\n",
    "for i in tqdm(range(10000)):\n",
    "    points = generate_points(num_points)\n",
    "    distances = calculate_distances(points)\n",
    "    probs[i] = sum(sum(distances < epsilon))/len(distances)**2"
   ]
  },
  {
   "cell_type": "code",
   "execution_count": 29,
   "id": "b6cba73a-c665-4a63-a07a-d49a4a556a29",
   "metadata": {},
   "outputs": [
    {
     "data": {
      "text/plain": [
       "0.07728579999995769"
      ]
     },
     "execution_count": 29,
     "metadata": {},
     "output_type": "execute_result"
    }
   ],
   "source": [
    "sum(probs)/len(probs)"
   ]
  },
  {
   "cell_type": "markdown",
   "id": "45f63478-80ae-4877-9691-7fb7a080bf6d",
   "metadata": {},
   "source": [
    "A traveling salesman problem (TSP) is based on trying to find the shortest possible route that allows a salesman to visit each of a set of cities exactly once and return to the starting point. In other words, we want to find the minimum tour $T$ for vertex set $V$ (i.e. the functional $L$). \n",
    "\n",
    "We can use the optimization framework Gurobi to solve the TSP."
   ]
  },
  {
   "cell_type": "code",
   "execution_count": 21,
   "id": "3b1b1295-6dde-46b9-9399-eb8e4a52c72e",
   "metadata": {},
   "outputs": [],
   "source": [
    "def solve_tsp(distances):\n",
    "    num_points = len(distances)\n",
    "    model = gp.Model()\n",
    "\n",
    "    # Decision variables: x[i, j] is 1 if the tour goes directly from i to j\n",
    "    x = model.addVars(num_points, num_points, vtype=GRB.BINARY, name=\"x\")\n",
    "\n",
    "    # Objective: minimize total distance\n",
    "    model.setObjective(gp.quicksum(distances[i][j] * x[i, j] for i in range(num_points) for j in range(num_points)), GRB.MINIMIZE)\n",
    "\n",
    "    # Constraints: each node must have exactly one incoming and one outgoing edge\n",
    "    model.addConstrs(gp.quicksum(x[i, j] for j in range(num_points) if j != i) == 1 for i in range(num_points))\n",
    "    model.addConstrs(gp.quicksum(x[j, i] for j in range(num_points) if j != i) == 1 for i in range(num_points))\n",
    "\n",
    "    # Subtour elimination constraints (MTZ formulation)\n",
    "    u = model.addVars(num_points, vtype=GRB.CONTINUOUS, name=\"u\")\n",
    "    model.addConstrs((u[i] - u[j] + num_points * x[i, j] <= num_points - 1) for i in range(1, num_points) for j in range(1, num_points) if i != j)\n",
    "\n",
    "    # Optimize the model\n",
    "    model.optimize()\n",
    "\n",
    "    # Extract the solution\n",
    "    tour = []\n",
    "    if model.status == GRB.OPTIMAL:\n",
    "        solution = model.getAttr('x', x)\n",
    "        for i in range(num_points):\n",
    "            for j in range(num_points):\n",
    "                if solution[i, j] > 0.5:  # Edge is part of the tour\n",
    "                    tour.append((i, j))\n",
    "    return tour"
   ]
  },
  {
   "cell_type": "markdown",
   "id": "31759efd-ad44-42fc-8a77-f3d161002665",
   "metadata": {},
   "source": [
    "Finally, we can plot the TSP solution."
   ]
  },
  {
   "cell_type": "code",
   "execution_count": 22,
   "id": "819971f6-26a6-483e-a2bc-4bfc6984de14",
   "metadata": {},
   "outputs": [],
   "source": [
    "# Plot the TSP solution\n",
    "def plot_solution(points, tour):\n",
    "    plt.figure(figsize=(8, 8))\n",
    "    plt.scatter(points[:, 0], points[:, 1], c='red', label='Points')\n",
    "    for i, (x, y) in enumerate(points):\n",
    "        plt.text(x, y, str(i), fontsize=12, ha='right')\n",
    "\n",
    "    for i, j in tour:\n",
    "        plt.plot([points[i, 0], points[j, 0]], [points[i, 1], points[j, 1]], 'b-')\n",
    "\n",
    "    plt.title(\"TSP Solution\")\n",
    "    plt.xlabel(\"X\")\n",
    "    plt.ylabel(\"Y\")\n",
    "    plt.legend()\n",
    "    plt.grid(True)\n",
    "    plt.show()"
   ]
  },
  {
   "cell_type": "markdown",
   "id": "181bf30e-bdf1-4457-8dd6-eba6750c42fe",
   "metadata": {},
   "source": [
    "Let's run this."
   ]
  },
  {
   "cell_type": "code",
   "execution_count": 49,
   "id": "f32c76dd-4d99-4dae-a1e1-3660fd73f5fc",
   "metadata": {},
   "outputs": [
    {
     "name": "stdout",
     "output_type": "stream",
     "text": [
      "Gurobi Optimizer version 12.0.0 build v12.0.0rc1 (mac64[rosetta2] - Darwin 23.2.0 23C64)\n",
      "\n",
      "CPU model: Apple M1\n",
      "Thread count: 8 physical cores, 8 logical processors, using up to 8 threads\n",
      "\n",
      "Optimize a model with 382 rows, 420 columns and 1786 nonzeros\n",
      "Model fingerprint: 0x43513adf\n",
      "Variable types: 20 continuous, 400 integer (400 binary)\n",
      "Coefficient statistics:\n",
      "  Matrix range     [1e+00, 2e+01]\n",
      "  Objective range  [2e-02, 1e+00]\n",
      "  Bounds range     [1e+00, 1e+00]\n",
      "  RHS range        [1e+00, 2e+01]\n",
      "Presolve removed 0 rows and 21 columns\n",
      "Presolve time: 0.00s\n",
      "Presolved: 382 rows, 399 columns, 1786 nonzeros\n",
      "Variable types: 19 continuous, 380 integer (380 binary)\n",
      "\n",
      "Root relaxation: objective 3.205959e+00, 64 iterations, 0.00 seconds (0.00 work units)\n",
      "\n",
      "    Nodes    |    Current Node    |     Objective Bounds      |     Work\n",
      " Expl Unexpl |  Obj  Depth IntInf | Incumbent    BestBd   Gap | It/Node Time\n",
      "\n",
      "     0     0    3.20596    0   32          -    3.20596      -     -    0s\n",
      "     0     0    3.62449    0   34          -    3.62449      -     -    0s\n",
      "H    0     0                       5.4701074    3.62449  33.7%     -    0s\n",
      "     0     0    3.62449    0   34    5.47011    3.62449  33.7%     -    0s\n",
      "     0     0    3.62449    0   34    5.47011    3.62449  33.7%     -    0s\n",
      "     0     0    3.62449    0   34    5.47011    3.62449  33.7%     -    0s\n",
      "     0     0    3.62449    0   34    5.47011    3.62449  33.7%     -    0s\n",
      "     0     0    3.62449    0   34    5.47011    3.62449  33.7%     -    0s\n",
      "     0     0    3.62449    0   34    5.47011    3.62449  33.7%     -    0s\n",
      "     0     2    3.62449    0   34    5.47011    3.62449  33.7%     -    0s\n",
      "H  277   322                       4.5253042    3.63742  19.6%   4.0    0s\n",
      "*  941   766              37       4.4372489    3.66328  17.4%   4.5    0s\n",
      "* 1130   883              27       4.4201467    3.68337  16.7%   4.5    0s\n",
      "* 1214   797              36       4.3138581    3.68337  14.6%   4.6    0s\n",
      "* 1432   922              36       4.3138257    3.70645  14.1%   4.8    0s\n",
      "* 1517  1060              19       4.3125361    3.70645  14.1%   4.8    0s\n",
      "* 1518  1059              18       4.3101308    3.70645  14.0%   4.8    0s\n",
      "* 1653  1044              19       4.3034303    3.70645  13.9%   4.9    0s\n",
      "* 1770  1147              23       4.2785567    3.71481  13.2%   5.0    0s\n",
      "* 1983   671              15       4.0044513    3.72023  7.10%   5.4    0s\n",
      "* 2631   128              18       3.9673533    3.78645  4.56%   6.4    0s\n",
      "\n",
      "Cutting planes:\n",
      "  Learned: 10\n",
      "  Gomory: 4\n",
      "  Cover: 4\n",
      "  Implied bound: 18\n",
      "  MIR: 26\n",
      "  Inf proof: 15\n",
      "\n",
      "Explored 2944 nodes (19275 simplex iterations) in 0.53 seconds (0.25 work units)\n",
      "Thread count was 8 (of 8 available processors)\n",
      "\n",
      "Solution count 10: 3.96735 4.00445 4.27856 ... 4.43725\n",
      "\n",
      "Optimal solution found (tolerance 1.00e-04)\n",
      "Best objective 3.967353272833e+00, best bound 3.967353272833e+00, gap 0.0000%\n"
     ]
    },
    {
     "data": {
      "image/png": "[encoded data removed]",
      "text/plain": [
       "<Figure size 576x576 with 1 Axes>"
      ]
     },
     "metadata": {
      "needs_background": "light"
     },
     "output_type": "display_data"
    }
   ],
   "source": [
    "num_points = 20\n",
    "points = generate_points(num_points)\n",
    "distances = calculate_distances(points)\n",
    "tour = solve_tsp(distances)\n",
    "plot_solution(points, tour)"
   ]
  },
  {
   "cell_type": "code",
   "execution_count": 51,
   "id": "22af59b6-5c22-4b86-b189-d36d10e7aedd",
   "metadata": {},
   "outputs": [],
   "source": [
    "def expected_tour_length_bhh(num_points):\n",
    "    beta_2 = 0.714  # BHH constant for 2D\n",
    "    area = 1        # Unit square\n",
    "    return beta_2 * np.sqrt(num_points)"
   ]
  },
  {
   "cell_type": "markdown",
   "id": "277f82c2-c635-43d9-aa78-46b79f23141e",
   "metadata": {},
   "source": [
    "We can compute the expected tour length using the BHH theorem using the following funtion."
   ]
  },
  {
   "cell_type": "code",
   "execution_count": 53,
   "id": "8fdac652-86e6-4b2b-85b2-b28527f5d20e",
   "metadata": {},
   "outputs": [
    {
     "data": {
      "text/plain": [
       "3.1931050718696996"
      ]
     },
     "execution_count": 53,
     "metadata": {},
     "output_type": "execute_result"
    }
   ],
   "source": [
    "num_points = 20\n",
    "bhh = expected_tour_length_bhh(num_points)\n",
    "bhh"
   ]
  },
  {
   "cell_type": "markdown",
   "id": "1d11d0d9-37e4-48c8-884a-7d48d26a5e44",
   "metadata": {},
   "source": [
    "Now, let's implement the epsilon constraint. If two points are within $\\epsilon$ of each other, we make them one point."
   ]
  },
  {
   "cell_type": "code",
   "execution_count": 54,
   "id": "80a0f9d4-fa9d-4033-aa30-69d119d2d143",
   "metadata": {},
   "outputs": [
    {
     "name": "stdout",
     "output_type": "stream",
     "text": [
      "Gurobi Optimizer version 12.0.0 build v12.0.0rc1 (mac64[rosetta2] - Darwin 23.2.0 23C64)\n",
      "\n",
      "CPU model: Apple M1\n",
      "Thread count: 8 physical cores, 8 logical processors, using up to 8 threads\n",
      "\n",
      "Optimize a model with 212 rows, 240 columns and 966 nonzeros\n",
      "Model fingerprint: 0x95d680b4\n",
      "Variable types: 15 continuous, 225 integer (225 binary)\n",
      "Coefficient statistics:\n",
      "  Matrix range     [1e+00, 2e+01]\n",
      "  Objective range  [1e-01, 1e+00]\n",
      "  Bounds range     [1e+00, 1e+00]\n",
      "  RHS range        [1e+00, 1e+01]\n",
      "Presolve removed 0 rows and 16 columns\n",
      "Presolve time: 0.00s\n",
      "Presolved: 212 rows, 224 columns, 966 nonzeros\n",
      "Variable types: 14 continuous, 210 integer (210 binary)\n",
      "\n",
      "Root relaxation: objective 3.257899e+00, 45 iterations, 0.00 seconds (0.00 work units)\n",
      "\n",
      "    Nodes    |    Current Node    |     Objective Bounds      |     Work\n",
      " Expl Unexpl |  Obj  Depth IntInf | Incumbent    BestBd   Gap | It/Node Time\n",
      "\n",
      "     0     0    3.25790    0   25          -    3.25790      -     -    0s\n",
      "     0     0    3.64663    0   27          -    3.64663      -     -    0s\n",
      "H    0     0                       4.1929897    3.68546  12.1%     -    0s\n",
      "     0     0    3.68546    0   26    4.19299    3.68546  12.1%     -    0s\n",
      "     0     0    3.68546    0   24    4.19299    3.68546  12.1%     -    0s\n",
      "H    0     0                       4.1702970    3.71662  10.9%     -    0s\n",
      "     0     0    3.71662    0   25    4.17030    3.71662  10.9%     -    0s\n",
      "     0     0    3.77895    0   26    4.17030    3.77895  9.38%     -    0s\n",
      "     0     0    3.77895    0   26    4.17030    3.77895  9.38%     -    0s\n",
      "H    0     0                       4.1603401    3.77895  9.17%     -    0s\n",
      "     0     0    3.77895    0   26    4.16034    3.77895  9.17%     -    0s\n",
      "     0     0    3.77895    0   25    4.16034    3.77895  9.17%     -    0s\n",
      "     0     0    3.77895    0   32    4.16034    3.77895  9.17%     -    0s\n",
      "     0     0    3.77895    0   26    4.16034    3.77895  9.17%     -    0s\n",
      "H    0     0                       4.0461635    3.77895  6.60%     -    0s\n",
      "     0     0    3.77895    0   26    4.04616    3.77895  6.60%     -    0s\n",
      "     0     0    3.77895    0   26    4.04616    3.77895  6.60%     -    0s\n",
      "     0     0    3.77895    0   25    4.04616    3.77895  6.60%     -    0s\n",
      "H    0     0                       3.8717635    3.77895  2.40%     -    0s\n",
      "     0     0    3.77895    0   22    3.87176    3.77895  2.40%     -    0s\n",
      "     0     0    3.77895    0   21    3.87176    3.77895  2.40%     -    0s\n",
      "     0     0    3.77895    0   21    3.87176    3.77895  2.40%     -    0s\n",
      "H    0     0                       3.8221277    3.77895  1.13%     -    0s\n",
      "H    0     0                       3.8116304    3.77895  0.86%     -    0s\n",
      "     0     0    3.77895    0   22    3.81163    3.77895  0.86%     -    0s\n",
      "     0     0    3.77895    0    9    3.81163    3.77895  0.86%     -    0s\n",
      "     0     0    3.80553    0    9    3.81163    3.80553  0.16%     -    0s\n",
      "     0     0    3.81163    0    9    3.81163    3.81163  0.00%     -    0s\n",
      "\n",
      "Cutting planes:\n",
      "  Implied bound: 10\n",
      "  MIR: 3\n",
      "\n",
      "Explored 1 nodes (449 simplex iterations) in 0.17 seconds (0.04 work units)\n",
      "Thread count was 8 (of 8 available processors)\n",
      "\n",
      "Solution count 7: 3.81163 3.82213 3.87176 ... 4.19299\n",
      "\n",
      "Optimal solution found (tolerance 1.00e-04)\n",
      "Best objective 3.811630441949e+00, best bound 3.811630441949e+00, gap 0.0000%\n"
     ]
    },
    {
     "data": {
      "image/png": "[encoded data removed]",
      "text/plain": [
       "<Figure size 576x576 with 1 Axes>"
      ]
     },
     "metadata": {
      "needs_background": "light"
     },
     "output_type": "display_data"
    },
    {
     "data": {
      "text/plain": [
       "15"
      ]
     },
     "execution_count": 54,
     "metadata": {},
     "output_type": "execute_result"
    }
   ],
   "source": [
    "# Simple clustering algorithm based on epsilon distance\n",
    "def cluster_points(points, epsilon):\n",
    "    clustered = []\n",
    "    visited = set()\n",
    "\n",
    "    for i, point in enumerate(points):\n",
    "        if i in visited:\n",
    "            continue\n",
    "        cluster = [point]\n",
    "        visited.add(i)\n",
    "        for j, other_point in enumerate(points):\n",
    "            if j not in visited and np.linalg.norm(point - other_point) <= epsilon:\n",
    "                cluster.append(other_point)\n",
    "                visited.add(j)\n",
    "        # Use the centroid of the cluster as the representative point\n",
    "        centroid = np.mean(cluster, axis=0)\n",
    "        clustered.append(centroid)\n",
    "\n",
    "    return np.array(clustered)\n",
    "\n",
    "num_points = 20\n",
    "epsilon = 0.1  # Distance threshold for clustering\n",
    "points = generate_points(num_points)\n",
    "clustered_points = cluster_points(points, epsilon)\n",
    "distances = calculate_distances(clustered_points)\n",
    "tour = solve_tsp(distances)\n",
    "plot_solution(clustered_points, tour)\n",
    "\n",
    "len(clustered_points)"
   ]
  },
  {
   "cell_type": "code",
   "execution_count": 57,
   "id": "f1ef8b10-e1e1-4e4a-ab98-86910a4674c6",
   "metadata": {},
   "outputs": [
    {
     "data": {
      "text/plain": [
       "2.7653101091920957"
      ]
     },
     "execution_count": 57,
     "metadata": {},
     "output_type": "execute_result"
    }
   ],
   "source": [
    "new_points = len(clustered_points)\n",
    "bhh_e = expected_tour_length_bhh(new_points)\n",
    "bhh_e"
   ]
  },
  {
   "cell_type": "markdown",
   "id": "d7f8aa09-c48c-4385-846f-e338804a1f28",
   "metadata": {},
   "source": [
    "## Previous code"
   ]
  },
  {
   "cell_type": "code",
   "execution_count": 6,
   "id": "e0a0619c-f559-4a2c-8789-ff115e6a6f9b",
   "metadata": {},
   "outputs": [
    {
     "data": {
      "image/png": "[encoded data removed]",
      "text/plain": [
       "<Figure size 432x288 with 1 Axes>"
      ]
     },
     "metadata": {},
     "output_type": "display_data"
    }
   ],
   "source": [
    "node_labels = {}\n",
    "node_labels[1] = \"LGA\"\n",
    "node_labels[2] = \"JFK\"\n",
    "node_labels[3] = \"BOS\"\n",
    "node_labels[4] = \"EWR\"\n",
    "node_labels[5] = \"PHL\"\n",
    "node_labels[6] = \"IAD\"\n",
    "node_labels[7] = \"BWI\"\n",
    "node_labels[8] = \"DCA\"\n",
    "nx.draw(G, pos=nx.circular_layout(G), labels=node_labels, with_labels=True,node_size=2000, node_color = 'lightgray', font_size=18, font_color='black', font_family='sans-serif')"
   ]
  },
  {
   "cell_type": "markdown",
   "id": "a0dea20b-f6e5-4d93-aa4a-9e3f78170cdc",
   "metadata": {},
   "source": [
    "Certain tours will delay the spreading of dealys. A tour in this context is a set of flights that don't go back. A tour of degree 2 is a tour that is not allowed to revisit a node. We can make a more relaxed tour that allows for some backtracking.\n",
    "\n",
    "One of our goals is figuring out how ot translate BHH (which is a property of the length of a tour) into some aspect of time. The J Michael Steele paper has different types of extensions of the BHH to different types of graphs."
   ]
  },
  {
   "cell_type": "code",
   "execution_count": 80,
   "id": "bb68e468-c09c-4140-924f-ff33f852e886",
   "metadata": {},
   "outputs": [
    {
     "data": {
      "text/plain": [
       "[(1, 7),\n",
       " (7, 6),\n",
       " (6, 8),\n",
       " (8, 3),\n",
       " (3, 8),\n",
       " (8, 2),\n",
       " (2, 8),\n",
       " (8, 6),\n",
       " (6, 7),\n",
       " (7, 5),\n",
       " (5, 6),\n",
       " (6, 5),\n",
       " (5, 7),\n",
       " (7, 4),\n",
       " (4, 6),\n",
       " (6, 4),\n",
       " (4, 7),\n",
       " (7, 3),\n",
       " (3, 6),\n",
       " (6, 3),\n",
       " (3, 5),\n",
       " (5, 3),\n",
       " (3, 4),\n",
       " (4, 3),\n",
       " (3, 7),\n",
       " (7, 2),\n",
       " (2, 6),\n",
       " (6, 2),\n",
       " (2, 5),\n",
       " (5, 2),\n",
       " (2, 4),\n",
       " (4, 2),\n",
       " (2, 3),\n",
       " (3, 2),\n",
       " (2, 7),\n",
       " (7, 1),\n",
       " (1, 6),\n",
       " (6, 1),\n",
       " (1, 3),\n",
       " (3, 1),\n",
       " (1, 2),\n",
       " (2, 1)]"
      ]
     },
     "execution_count": 80,
     "metadata": {},
     "output_type": "execute_result"
    }
   ],
   "source": [
    "list(nx.eulerian_circuit(G,source=1))"
   ]
  },
  {
   "cell_type": "code",
   "execution_count": 82,
   "id": "75f58941-5bdf-4b0a-9e84-dfb818e00da0",
   "metadata": {},
   "outputs": [],
   "source": [
    "vertices = [u for u, v in nx.eulerian_circuit(G)]"
   ]
  },
  {
   "cell_type": "code",
   "execution_count": 83,
   "id": "604c3e41-e3bd-4d97-ada5-808fc47c867f",
   "metadata": {},
   "outputs": [
    {
     "name": "stdout",
     "output_type": "stream",
     "text": [
      "LGA\n",
      "BWI\n",
      "IAD\n",
      "DCA\n",
      "BOS\n",
      "DCA\n",
      "JFK\n",
      "DCA\n",
      "IAD\n",
      "BWI\n",
      "PHL\n",
      "IAD\n",
      "PHL\n",
      "BWI\n",
      "EWR\n",
      "IAD\n",
      "EWR\n",
      "BWI\n",
      "BOS\n",
      "IAD\n",
      "BOS\n",
      "PHL\n",
      "BOS\n",
      "EWR\n",
      "BOS\n",
      "BWI\n",
      "JFK\n",
      "IAD\n",
      "JFK\n",
      "PHL\n",
      "JFK\n",
      "EWR\n",
      "JFK\n",
      "BOS\n",
      "JFK\n",
      "BWI\n",
      "LGA\n",
      "IAD\n",
      "LGA\n",
      "BOS\n",
      "LGA\n",
      "JFK\n"
     ]
    }
   ],
   "source": [
    "for i in range(len(vertices)):\n",
    "    print(node_labels[vertices[i]])"
   ]
  },
  {
   "cell_type": "code",
   "execution_count": null,
   "id": "f30df4ec-c503-45b4-a51c-261ffc4b9172",
   "metadata": {},
   "outputs": [],
   "source": []
  }
 ],
 "metadata": {
  "kernelspec": {
   "display_name": "Python 3 (ipykernel)",
   "language": "python",
   "name": "python3"
  },
  "language_info": {
   "codemirror_mode": {
    "name": "ipython",
    "version": 3
   },
   "file_extension": ".py",
   "mimetype": "text/x-python",
   "name": "python",
   "nbconvert_exporter": "python",
   "pygments_lexer": "ipython3",
   "version": "3.9.19"
  }
 },
 "nbformat": 4,
 "nbformat_minor": 5
}
