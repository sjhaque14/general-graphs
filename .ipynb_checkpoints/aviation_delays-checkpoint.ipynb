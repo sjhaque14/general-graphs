{
 "cells": [
  {
   "cell_type": "code",
   "execution_count": 1,
   "id": "ba245706-43d3-4de4-b624-9a75ca9291df",
   "metadata": {},
   "outputs": [],
   "source": [
    "import numpy as np\n",
    "import scipy.linalg\n",
    "import networkx as nx\n",
    "import matplotlib.pyplot as plt\n",
    "from tqdm import tqdm\n",
    "\n",
    "from general_graph_utils import *"
   ]
  },
  {
   "cell_type": "markdown",
   "id": "3744718f-7a00-4a5a-8951-42d1e7dd8812",
   "metadata": {},
   "source": [
    "The BHH theorem tells us that if we have a Euclidean manifold on which there is a collection of points we want to visit, viewed as random variables, then the minimum length of the tours that hits all points has a nice upper bound. This upper bound guarantees nice behavior.\n",
    "\n",
    "Here, we seek to understand if the BHH theorem can help us understand the asymptotic behavior of delays in air traffic networks. We associated with each node of the network a probability distribution, and want to understand how delays propagate."
   ]
  },
  {
   "cell_type": "code",
   "execution_count": 18,
   "id": "2f7fe6b2-fca0-4f80-ab7d-8c005590607b",
   "metadata": {},
   "outputs": [
    {
     "ename": "NameError",
     "evalue": "name 'random_graph_n' is not defined",
     "output_type": "error",
     "traceback": [
      "\u001b[0;31m---------------------------------------------------------------------------\u001b[0m",
      "\u001b[0;31mNameError\u001b[0m                                 Traceback (most recent call last)",
      "\u001b[0;32m/var/folders/ch/f1rl6h5x4fx2wbg2_f5bj5dw0000gn/T/ipykernel_10077/3902707439.py\u001b[0m in \u001b[0;36m<module>\u001b[0;34m\u001b[0m\n\u001b[0;32m----> 1\u001b[0;31m \u001b[0mG\u001b[0m\u001b[0;34m,\u001b[0m \u001b[0mG_ud\u001b[0m \u001b[0;34m=\u001b[0m \u001b[0mrandom_graph_n\u001b[0m\u001b[0;34m(\u001b[0m\u001b[0;36m4\u001b[0m\u001b[0;34m)\u001b[0m\u001b[0;34m\u001b[0m\u001b[0;34m\u001b[0m\u001b[0m\n\u001b[0m",
      "\u001b[0;31mNameError\u001b[0m: name 'random_graph_n' is not defined"
     ]
    }
   ],
   "source": [
    "G, G_ud = random_graph_n(4)"
   ]
  },
  {
   "cell_type": "code",
   "execution_count": 19,
   "id": "e0a0619c-f559-4a2c-8789-ff115e6a6f9b",
   "metadata": {},
   "outputs": [
    {
     "data": {
      "image/png": "[encoded data removed]",
      "text/plain": [
       "<Figure size 432x288 with 1 Axes>"
      ]
     },
     "metadata": {},
     "output_type": "display_data"
    }
   ],
   "source": [
    "node_labels = {}\n",
    "node_labels[1] = \"LGA\"\n",
    "node_labels[2] = \"JFK\"\n",
    "node_labels[3] = \"BOS\"\n",
    "node_labels[4] = \"EWR\"\n",
    "nx.draw(G, pos=nx.circular_layout(G), labels=node_labels, with_labels=True,node_size=2000, node_color = 'lightgray', font_size=18, font_color='black', font_family='sans-serif')"
   ]
  },
  {
   "cell_type": "code",
   "execution_count": null,
   "id": "bb68e468-c09c-4140-924f-ff33f852e886",
   "metadata": {},
   "outputs": [],
   "source": []
  }
 ],
 "metadata": {
  "kernelspec": {
   "display_name": "Python 3 (ipykernel)",
   "language": "python",
   "name": "python3"
  },
  "language_info": {
   "codemirror_mode": {
    "name": "ipython",
    "version": 3
   },
   "file_extension": ".py",
   "mimetype": "text/x-python",
   "name": "python",
   "nbconvert_exporter": "python",
   "pygments_lexer": "ipython3",
   "version": "3.9.19"
  }
 },
 "nbformat": 4,
 "nbformat_minor": 5
}
