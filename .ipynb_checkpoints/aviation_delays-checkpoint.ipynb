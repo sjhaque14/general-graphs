{
 "cells": [
  {
   "cell_type": "code",
   "execution_count": 2,
   "id": "ba245706-43d3-4de4-b624-9a75ca9291df",
   "metadata": {},
   "outputs": [],
   "source": [
    "import numpy as np\n",
    "import scipy.linalg\n",
    "import networkx as nx\n",
    "import matplotlib.pyplot as plt\n",
    "from tqdm import tqdm\n",
    "\n",
    "import gurobipy as gp\n",
    "from gurobipy import GRB\n",
    "\n",
    "from general_graph_utils import *"
   ]
  },
  {
   "cell_type": "markdown",
   "id": "3744718f-7a00-4a5a-8951-42d1e7dd8812",
   "metadata": {},
   "source": [
    "The BHH theorem tells us that if we have a Euclidean manifold on where there is a collection of points we want to visit, which are treated as random variables, then the minimum length of tours that include all points has an upper bound given by the density of points. Having this upper bound guarantees nice behavior.\n",
    "\n",
    "We seek to understand if we can apply the BHH to asymptotic behavior in transportation applications. Initially, we sought to apply the BHH to the asymptotic behavior of dylays in air transporation networks. To do this, we would associate a probability distribution to each node in the network and understand how delays propagate over time deterministically. \n",
    "\n",
    "More recently, we have decided to shift the application to model spatially constrained food delivery as a function of the number of orders."
   ]
  },
  {
   "cell_type": "markdown",
   "id": "3c55bf26-7c5e-4bd0-bf89-db3e0a6f8cb2",
   "metadata": {},
   "source": [
    "Consider a set of points $V = \\{ x_1, \\dots, x_n)$ in $\\mathbb{R}^d$, where each $x_i$ is a vertex in a graph and an edge $e = \\{x_i, x_j\\}$ has length given by the Euclidean distance of the line from $x_i$ to $x_j$, $|e| = |x_i - x_j|$. Consider the functional:\n",
    "\n",
    "$$L(x_1, \\dots, x_n) = \\text{min}_{T} \\sum_{e \\in T} |e| ,$$\n",
    "\n",
    "where the minimum is over all tours $T$ with vertex set $V$.\n",
    "\n",
    "**Beardwood-Halton-Hammersley Theorem.** If $x_i$ are i.i.d. random variables with compact support, then with probability one,\n",
    "\n",
    "$$ lim_{n \\to \\infty} L(x_1, \\dots, x_n)/n^{(d-1)/d} = c_d \\int_\\mathbb{R} f(x)^{(d-1)/d} dx ,$$\n",
    "\n",
    "where $c_d > 0$ is a constant not depending on the distribution of the $x_i$ and where $f$ is the density of the absolutley continuous part of the distribution of the $x_i$. \n",
    "\n",
    "On the unit square, $d=2$, so we have\n",
    "\n",
    "$$ \\mathbb{E}[L] = c_d \\sqrt{n} \\int_{D \\subset \\mathbb{R}} f(x)^{1/2} dx .$$"
   ]
  },
  {
   "cell_type": "markdown",
   "id": "39bf9050-3e42-4202-a045-84eacb774722",
   "metadata": {},
   "source": [
    "First, we need to be able to generate random points on the unit square."
   ]
  },
  {
   "cell_type": "code",
   "execution_count": 7,
   "id": "57b8a2bb-d5e9-4694-9381-501c7731d3c1",
   "metadata": {},
   "outputs": [],
   "source": [
    "# Generate random points in the unit square\n",
    "def generate_points(num_points):\n",
    "    #np.random.seed(42)  # For reproducibility\n",
    "    return np.random.rand(num_points, 2)"
   ]
  },
  {
   "cell_type": "markdown",
   "id": "7651bb8e-aff5-4c47-a410-abaae8980927",
   "metadata": {},
   "source": [
    "We also need to calculate the Euclidean distances between the points."
   ]
  },
  {
   "cell_type": "code",
   "execution_count": 8,
   "id": "31599d49-c7da-48c4-8fb1-0b3229dd23e6",
   "metadata": {},
   "outputs": [],
   "source": [
    "def calculate_distances(points):\n",
    "    num_points = len(points)\n",
    "    distances = np.zeros((num_points, num_points))\n",
    "    for i in range(num_points):\n",
    "        for j in range(num_points):\n",
    "            distances[i, j] = np.linalg.norm(points[i] - points[j])\n",
    "    return distances"
   ]
  },
  {
   "cell_type": "markdown",
   "id": "45f63478-80ae-4877-9691-7fb7a080bf6d",
   "metadata": {},
   "source": [
    "A traveling salesman problem (TSP) is based on trying to find the shortest possible route that allows a salesman to visit each of a set of cities exactly once and return to the starting point. In other words, we want to find the minimum tour $T$ for vertex set $V$ (i.e. the functional $L$). \n",
    "\n",
    "We can use the optimization framework Gurobi to solve the TSP."
   ]
  },
  {
   "cell_type": "code",
   "execution_count": 10,
   "id": "3b1b1295-6dde-46b9-9399-eb8e4a52c72e",
   "metadata": {},
   "outputs": [],
   "source": [
    "def solve_tsp(distances):\n",
    "    num_points = len(distances)\n",
    "    model = gp.Model()\n",
    "\n",
    "    # Decision variables: x[i, j] is 1 if the tour goes directly from i to j\n",
    "    x = model.addVars(num_points, num_points, vtype=GRB.BINARY, name=\"x\")\n",
    "\n",
    "    # Objective: minimize total distance\n",
    "    model.setObjective(gp.quicksum(distances[i][j] * x[i, j] for i in range(num_points) for j in range(num_points)), GRB.MINIMIZE)\n",
    "\n",
    "    # Constraints: each node must have exactly one incoming and one outgoing edge\n",
    "    model.addConstrs(gp.quicksum(x[i, j] for j in range(num_points) if j != i) == 1 for i in range(num_points))\n",
    "    model.addConstrs(gp.quicksum(x[j, i] for j in range(num_points) if j != i) == 1 for i in range(num_points))\n",
    "\n",
    "    # Subtour elimination constraints (MTZ formulation)\n",
    "    u = model.addVars(num_points, vtype=GRB.CONTINUOUS, name=\"u\")\n",
    "    model.addConstrs((u[i] - u[j] + num_points * x[i, j] <= num_points - 1) for i in range(1, num_points) for j in range(1, num_points) if i != j)\n",
    "\n",
    "    # Optimize the model\n",
    "    model.optimize()\n",
    "\n",
    "    # Extract the solution\n",
    "    tour = []\n",
    "    if model.status == GRB.OPTIMAL:\n",
    "        solution = model.getAttr('x', x)\n",
    "        for i in range(num_points):\n",
    "            for j in range(num_points):\n",
    "                if solution[i, j] > 0.5:  # Edge is part of the tour\n",
    "                    tour.append((i, j))\n",
    "    return tour"
   ]
  },
  {
   "cell_type": "markdown",
   "id": "31759efd-ad44-42fc-8a77-f3d161002665",
   "metadata": {},
   "source": [
    "Finally, we can plot the TSP solution."
   ]
  },
  {
   "cell_type": "code",
   "execution_count": 12,
   "id": "819971f6-26a6-483e-a2bc-4bfc6984de14",
   "metadata": {},
   "outputs": [],
   "source": [
    "# Plot the TSP solution\n",
    "def plot_solution(points, tour):\n",
    "    plt.figure(figsize=(8, 8))\n",
    "    plt.scatter(points[:, 0], points[:, 1], c='red', label='Cities')\n",
    "    for i, (x, y) in enumerate(points):\n",
    "        plt.text(x, y, str(i), fontsize=12, ha='right')\n",
    "\n",
    "    for i, j in tour:\n",
    "        plt.plot([points[i, 0], points[j, 0]], [points[i, 1], points[j, 1]], 'b-')\n",
    "\n",
    "    plt.title(\"Traveling Salesman Problem Solution\")\n",
    "    plt.xlabel(\"X\")\n",
    "    plt.ylabel(\"Y\")\n",
    "    plt.legend()\n",
    "    plt.grid(True)\n",
    "    plt.show()"
   ]
  },
  {
   "cell_type": "markdown",
   "id": "181bf30e-bdf1-4457-8dd6-eba6750c42fe",
   "metadata": {},
   "source": [
    "Let's run this."
   ]
  },
  {
   "cell_type": "code",
   "execution_count": 13,
   "id": "f32c76dd-4d99-4dae-a1e1-3660fd73f5fc",
   "metadata": {},
   "outputs": [
    {
     "name": "stdout",
     "output_type": "stream",
     "text": [
      "Gurobi Optimizer version 12.0.0 build v12.0.0rc1 (mac64[rosetta2] - Darwin 23.2.0 23C64)\n",
      "\n",
      "CPU model: Apple M1\n",
      "Thread count: 8 physical cores, 8 logical processors, using up to 8 threads\n",
      "\n",
      "Optimize a model with 92 rows, 110 columns and 396 nonzeros\n",
      "Model fingerprint: 0x56d3375e\n",
      "Variable types: 10 continuous, 100 integer (100 binary)\n",
      "Coefficient statistics:\n",
      "  Matrix range     [1e+00, 1e+01]\n",
      "  Objective range  [6e-02, 9e-01]\n",
      "  Bounds range     [1e+00, 1e+00]\n",
      "  RHS range        [1e+00, 9e+00]\n",
      "Found heuristic solution: objective 5.5030088\n",
      "Presolve removed 0 rows and 11 columns\n",
      "Presolve time: 0.00s\n",
      "Presolved: 92 rows, 99 columns, 396 nonzeros\n",
      "Variable types: 9 continuous, 90 integer (90 binary)\n",
      "\n",
      "Root relaxation: objective 1.542345e+00, 24 iterations, 0.00 seconds (0.00 work units)\n",
      "\n",
      "    Nodes    |    Current Node    |     Objective Bounds      |     Work\n",
      " Expl Unexpl |  Obj  Depth IntInf | Incumbent    BestBd   Gap | It/Node Time\n",
      "\n",
      "     0     0    1.54235    0   16    5.50301    1.54235  72.0%     -    0s\n",
      "H    0     0                       5.1959662    1.54235  70.3%     -    0s\n",
      "H    0     0                       4.4801044    1.54235  65.6%     -    0s\n",
      "     0     0    1.72431    0   23    4.48010    1.72431  61.5%     -    0s\n",
      "H    0     0                       3.9615849    1.75450  55.7%     -    0s\n",
      "H    0     0                       3.2732110    2.00060  38.9%     -    0s\n",
      "     0     0    2.00060    0   14    3.27321    2.00060  38.9%     -    0s\n",
      "H    0     0                       3.0367114    2.01001  33.8%     -    0s\n",
      "     0     0    2.47084    0   16    3.03671    2.47084  18.6%     -    0s\n",
      "H    0     0                       2.7194928    2.56211  5.79%     -    0s\n",
      "     0     0    2.57272    0   14    2.71949    2.57272  5.40%     -    0s\n",
      "     0     0    2.58729    0   17    2.71949    2.58729  4.86%     -    0s\n",
      "H    0     0                       2.6782195    2.58729  3.40%     -    0s\n",
      "\n",
      "Cutting planes:\n",
      "  Learned: 3\n",
      "  Gomory: 2\n",
      "  Cover: 3\n",
      "  Implied bound: 1\n",
      "  MIR: 4\n",
      "  RLT: 2\n",
      "\n",
      "Explored 1 nodes (87 simplex iterations) in 0.07 seconds (0.01 work units)\n",
      "Thread count was 8 (of 8 available processors)\n",
      "\n",
      "Solution count 8: 2.67822 2.71949 3.03671 ... 5.50301\n",
      "\n",
      "Optimal solution found (tolerance 1.00e-04)\n",
      "Best objective 2.678219458964e+00, best bound 2.678219458964e+00, gap 0.0000%\n"
     ]
    },
    {
     "data": {
      "image/png": "[encoded data removed]",
      "text/plain": [
       "<Figure size 576x576 with 1 Axes>"
      ]
     },
     "metadata": {
      "needs_background": "light"
     },
     "output_type": "display_data"
    }
   ],
   "source": [
    "# Main function\n",
    "def main():\n",
    "    num_points = 10\n",
    "    points = generate_points(num_points)\n",
    "    distances = calculate_distances(points)\n",
    "    tour = solve_tsp(distances)\n",
    "    plot_solution(points, tour)\n",
    "\n",
    "if __name__ == \"__main__\":\n",
    "    main()"
   ]
  },
  {
   "cell_type": "code",
   "execution_count": 4,
   "id": "8fdac652-86e6-4b2b-85b2-b28527f5d20e",
   "metadata": {},
   "outputs": [
    {
     "name": "stdout",
     "output_type": "stream",
     "text": [
      "Expected tour length for 10 points: 2.2515\n"
     ]
    }
   ],
   "source": [
    "def expected_tour_length_bhh(num_points):\n",
    "    beta_2 = 0.712  # BHH constant for 2D\n",
    "    area = 1        # Unit square\n",
    "    return beta_2 * np.sqrt(num_points)\n",
    "\n",
    "# Example usage\n",
    "num_points = 10\n",
    "expected_length = expected_tour_length_bhh(num_points)\n",
    "print(f\"Expected tour length for {num_points} points: {expected_length:.4f}\")"
   ]
  },
  {
   "cell_type": "code",
   "execution_count": null,
   "id": "1156ad4d-00be-4210-84f5-1438792ce9df",
   "metadata": {},
   "outputs": [],
   "source": []
  },
  {
   "cell_type": "code",
   "execution_count": null,
   "id": "0267690c-1d3a-48cf-9bc4-6ec6f727023e",
   "metadata": {},
   "outputs": [],
   "source": []
  },
  {
   "cell_type": "code",
   "execution_count": null,
   "id": "51c8a9da-a74b-4ef4-a66d-8d6f2ef4fdc2",
   "metadata": {},
   "outputs": [],
   "source": []
  },
  {
   "cell_type": "code",
   "execution_count": null,
   "id": "6bce5edd-29ce-4077-9853-ce40d7a663b9",
   "metadata": {},
   "outputs": [],
   "source": []
  },
  {
   "cell_type": "code",
   "execution_count": 5,
   "id": "2f7fe6b2-fca0-4f80-ab7d-8c005590607b",
   "metadata": {},
   "outputs": [],
   "source": [
    "G = nx.DiGraph()\n",
    "G_size = 8\n",
    "nodes = np.arange(1,G_size+1,step=1)\n",
    "G.add_nodes_from(nodes)\n",
    "\n",
    "# no flights b/w EWR-LGA, EWR-PHL, PHL-LGA, DCA-IAD, BWI-DCA\n",
    "# flights from BOS, JFK, IAD to everywhere else\n",
    "G.add_edge(1,3, weight = np.random.choice(np.arange(1,10), size=1))\n",
    "G.add_edge(3,1, weight = np.random.choice(np.arange(1,10), size=1))\n",
    "G.add_edge(2,3, weight = np.random.choice(np.arange(1,10), size=1))\n",
    "G.add_edge(3,2, weight = np.random.choice(np.arange(1,10), size=1))\n",
    "G.add_edge(4,3, weight = np.random.choice(np.arange(1,10), size=1))\n",
    "G.add_edge(3,4, weight = np.random.choice(np.arange(1,10), size=1))\n",
    "G.add_edge(5,3, weight = np.random.choice(np.arange(1,10), size=1))\n",
    "G.add_edge(3,5, weight = np.random.choice(np.arange(1,10), size=1))\n",
    "G.add_edge(6,3, weight = np.random.choice(np.arange(1,10), size=1))\n",
    "G.add_edge(3,6, weight = np.random.choice(np.arange(1,10), size=1))\n",
    "G.add_edge(7,3, weight = np.random.choice(np.arange(1,10), size=1))\n",
    "G.add_edge(3,7, weight = np.random.choice(np.arange(1,10), size=1))\n",
    "G.add_edge(8,3, weight = np.random.choice(np.arange(1,10), size=1))\n",
    "G.add_edge(3,8, weight = np.random.choice(np.arange(1,10), size=1))\n",
    "\n",
    "G.add_edge(1,2, weight = np.random.choice(np.arange(1,10), size=1))\n",
    "G.add_edge(2,1, weight = np.random.choice(np.arange(1,10), size=1))\n",
    "G.add_edge(4,2, weight = np.random.choice(np.arange(1,10), size=1))\n",
    "G.add_edge(2,4, weight = np.random.choice(np.arange(1,10), size=1))\n",
    "G.add_edge(5,2, weight = np.random.choice(np.arange(1,10), size=1))\n",
    "G.add_edge(2,5, weight = np.random.choice(np.arange(1,10), size=1))\n",
    "G.add_edge(6,2, weight = np.random.choice(np.arange(1,10), size=1))\n",
    "G.add_edge(2,6, weight = np.random.choice(np.arange(1,10), size=1))\n",
    "G.add_edge(7,2, weight = np.random.choice(np.arange(1,10), size=1))\n",
    "G.add_edge(2,7, weight = np.random.choice(np.arange(1,10), size=1))\n",
    "G.add_edge(8,2, weight = np.random.choice(np.arange(1,10), size=1))\n",
    "G.add_edge(2,8, weight = np.random.choice(np.arange(1,10), size=1))\n",
    "\n",
    "G.add_edge(1,6, weight = np.random.choice(np.arange(1,10), size=1))\n",
    "G.add_edge(6,1, weight = np.random.choice(np.arange(1,10), size=1))\n",
    "G.add_edge(4,6, weight = np.random.choice(np.arange(1,10), size=1))\n",
    "G.add_edge(6,4, weight = np.random.choice(np.arange(1,10), size=1))\n",
    "G.add_edge(5,6, weight = np.random.choice(np.arange(1,10), size=1))\n",
    "G.add_edge(6,5, weight = np.random.choice(np.arange(1,10), size=1))\n",
    "G.add_edge(7,6, weight = np.random.choice(np.arange(1,10), size=1))\n",
    "G.add_edge(6,7, weight = np.random.choice(np.arange(1,10), size=1))\n",
    "G.add_edge(8,6, weight = np.random.choice(np.arange(1,10), size=1))\n",
    "G.add_edge(6,8, weight = np.random.choice(np.arange(1,10), size=1))\n",
    "\n",
    "G.add_edge(1,7, weight = np.random.choice(np.arange(1,10), size=1))\n",
    "G.add_edge(7,1, weight = np.random.choice(np.arange(1,10), size=1))\n",
    "G.add_edge(4,7, weight = np.random.choice(np.arange(1,10), size=1))\n",
    "G.add_edge(7,4, weight = np.random.choice(np.arange(1,10), size=1))\n",
    "G.add_edge(5,7, weight = np.random.choice(np.arange(1,10), size=1))\n",
    "G.add_edge(7,5, weight = np.random.choice(np.arange(1,10), size=1))"
   ]
  },
  {
   "cell_type": "code",
   "execution_count": 6,
   "id": "e0a0619c-f559-4a2c-8789-ff115e6a6f9b",
   "metadata": {},
   "outputs": [
    {
     "data": {
      "image/png": "[encoded data removed]",
      "text/plain": [
       "<Figure size 432x288 with 1 Axes>"
      ]
     },
     "metadata": {},
     "output_type": "display_data"
    }
   ],
   "source": [
    "node_labels = {}\n",
    "node_labels[1] = \"LGA\"\n",
    "node_labels[2] = \"JFK\"\n",
    "node_labels[3] = \"BOS\"\n",
    "node_labels[4] = \"EWR\"\n",
    "node_labels[5] = \"PHL\"\n",
    "node_labels[6] = \"IAD\"\n",
    "node_labels[7] = \"BWI\"\n",
    "node_labels[8] = \"DCA\"\n",
    "nx.draw(G, pos=nx.circular_layout(G), labels=node_labels, with_labels=True,node_size=2000, node_color = 'lightgray', font_size=18, font_color='black', font_family='sans-serif')"
   ]
  },
  {
   "cell_type": "markdown",
   "id": "a0dea20b-f6e5-4d93-aa4a-9e3f78170cdc",
   "metadata": {},
   "source": [
    "Certain tours will delay the spreading of dealys. A tour in this context is a set of flights that don't go back. A tour of degree 2 is a tour that is not allowed to revisit a node. We can make a more relaxed tour that allows for some backtracking.\n",
    "\n",
    "One of our goals is figuring out how ot translate BHH (which is a property of the length of a tour) into some aspect of time. The J Michael Steele paper has different types of extensions of the BHH to different types of graphs."
   ]
  },
  {
   "cell_type": "code",
   "execution_count": 80,
   "id": "bb68e468-c09c-4140-924f-ff33f852e886",
   "metadata": {},
   "outputs": [
    {
     "data": {
      "text/plain": [
       "[(1, 7),\n",
       " (7, 6),\n",
       " (6, 8),\n",
       " (8, 3),\n",
       " (3, 8),\n",
       " (8, 2),\n",
       " (2, 8),\n",
       " (8, 6),\n",
       " (6, 7),\n",
       " (7, 5),\n",
       " (5, 6),\n",
       " (6, 5),\n",
       " (5, 7),\n",
       " (7, 4),\n",
       " (4, 6),\n",
       " (6, 4),\n",
       " (4, 7),\n",
       " (7, 3),\n",
       " (3, 6),\n",
       " (6, 3),\n",
       " (3, 5),\n",
       " (5, 3),\n",
       " (3, 4),\n",
       " (4, 3),\n",
       " (3, 7),\n",
       " (7, 2),\n",
       " (2, 6),\n",
       " (6, 2),\n",
       " (2, 5),\n",
       " (5, 2),\n",
       " (2, 4),\n",
       " (4, 2),\n",
       " (2, 3),\n",
       " (3, 2),\n",
       " (2, 7),\n",
       " (7, 1),\n",
       " (1, 6),\n",
       " (6, 1),\n",
       " (1, 3),\n",
       " (3, 1),\n",
       " (1, 2),\n",
       " (2, 1)]"
      ]
     },
     "execution_count": 80,
     "metadata": {},
     "output_type": "execute_result"
    }
   ],
   "source": [
    "list(nx.eulerian_circuit(G,source=1))"
   ]
  },
  {
   "cell_type": "code",
   "execution_count": 82,
   "id": "75f58941-5bdf-4b0a-9e84-dfb818e00da0",
   "metadata": {},
   "outputs": [],
   "source": [
    "vertices = [u for u, v in nx.eulerian_circuit(G)]"
   ]
  },
  {
   "cell_type": "code",
   "execution_count": 83,
   "id": "604c3e41-e3bd-4d97-ada5-808fc47c867f",
   "metadata": {},
   "outputs": [
    {
     "name": "stdout",
     "output_type": "stream",
     "text": [
      "LGA\n",
      "BWI\n",
      "IAD\n",
      "DCA\n",
      "BOS\n",
      "DCA\n",
      "JFK\n",
      "DCA\n",
      "IAD\n",
      "BWI\n",
      "PHL\n",
      "IAD\n",
      "PHL\n",
      "BWI\n",
      "EWR\n",
      "IAD\n",
      "EWR\n",
      "BWI\n",
      "BOS\n",
      "IAD\n",
      "BOS\n",
      "PHL\n",
      "BOS\n",
      "EWR\n",
      "BOS\n",
      "BWI\n",
      "JFK\n",
      "IAD\n",
      "JFK\n",
      "PHL\n",
      "JFK\n",
      "EWR\n",
      "JFK\n",
      "BOS\n",
      "JFK\n",
      "BWI\n",
      "LGA\n",
      "IAD\n",
      "LGA\n",
      "BOS\n",
      "LGA\n",
      "JFK\n"
     ]
    }
   ],
   "source": [
    "for i in range(len(vertices)):\n",
    "    print(node_labels[vertices[i]])"
   ]
  },
  {
   "cell_type": "code",
   "execution_count": null,
   "id": "f30df4ec-c503-45b4-a51c-261ffc4b9172",
   "metadata": {},
   "outputs": [],
   "source": []
  }
 ],
 "metadata": {
  "kernelspec": {
   "display_name": "Python 3 (ipykernel)",
   "language": "python",
   "name": "python3"
  },
  "language_info": {
   "codemirror_mode": {
    "name": "ipython",
    "version": 3
   },
   "file_extension": ".py",
   "mimetype": "text/x-python",
   "name": "python",
   "nbconvert_exporter": "python",
   "pygments_lexer": "ipython3",
   "version": "3.9.19"
  }
 },
 "nbformat": 4,
 "nbformat_minor": 5
}
