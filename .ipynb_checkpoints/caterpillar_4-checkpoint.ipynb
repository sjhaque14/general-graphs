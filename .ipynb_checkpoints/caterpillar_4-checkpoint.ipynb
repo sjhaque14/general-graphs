{
 "cells": [
  {
   "cell_type": "code",
   "execution_count": null,
   "id": "775b91fa-1591-46a1-86ea-9d3adbe461e8",
   "metadata": {},
   "outputs": [],
   "source": [
    "import matplotlib\n",
    "%matplotlib inline\n",
    "\n",
    "#matplotlib.use('TkAgg')  # Set Matplotlib backend to TkAgg (for interactive plotting on some systems)\n",
    "\n",
    "import numpy as np\n",
    "import matplotlib.pyplot as plt  # Standard plotting\n",
    "from matplotlib.animation import FuncAnimation  # Optional: for animations\n",
    "\n",
    "from shapely.geometry import LineString, Point, MultiPoint, GeometryCollection\n",
    "from shapely.ops import split\n",
    "from shapely.strtree import STRtree  # For spatial indexing of geometries\n",
    "from collections import defaultdict\n",
    "import networkx as nx # reconstruct network\n",
    "import random  # For Python’s own RNG (not used yet)\n",
    "\n",
    "import cv2\n",
    "from StructuralGT.electronic import Electronic\n",
    "from StructuralGT.networks import Network\n",
    "\n",
    "plt.rc(\"text\", usetex=False)  # Use standard text rendering (no LaTeX)\n",
    "plt.rc(\"font\", family = \"serif\")  # Set font to serif\n",
    "plt.rc(\"figure\", figsize=(10,8))  # Default figure size\n",
    "\n",
    "%config InlineBackend.figure_format = 'retina'  # Jupyter setting for high-res inline plots (won’t work in script mode)"
   ]
  },
  {
   "cell_type": "code",
   "execution_count": null,
   "id": "f24327be-8d80-4540-b5eb-efaca8a71538",
   "metadata": {},
   "outputs": [],
   "source": []
  }
 ],
 "metadata": {
  "kernelspec": {
   "display_name": "Python 3 (ipykernel)",
   "language": "python",
   "name": "python3"
  },
  "language_info": {
   "codemirror_mode": {
    "name": "ipython",
    "version": 3
   },
   "file_extension": ".py",
   "mimetype": "text/x-python",
   "name": "python",
   "nbconvert_exporter": "python",
   "pygments_lexer": "ipython3",
   "version": "3.12.11"
  }
 },
 "nbformat": 4,
 "nbformat_minor": 5
}
