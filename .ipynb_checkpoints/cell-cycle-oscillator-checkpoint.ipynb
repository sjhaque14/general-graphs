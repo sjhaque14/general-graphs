{
 "cells": [
  {
   "cell_type": "code",
   "execution_count": 38,
   "id": "a754faf4-8782-4093-a280-2311dc2aba5c",
   "metadata": {},
   "outputs": [],
   "source": [
    "import numpy as np\n",
    "import scipy.linalg\n",
    "import networkx as nx\n",
    "import matplotlib.pyplot as plt\n",
    "from tqdm import tqdm\n",
    "\n",
    "from general_graph_utils import *\n",
    "\n",
    "# plot formatting\n",
    "plt.rc(\"text\", usetex=False)\n",
    "plt.rc(\"font\", family = \"serif\")\n",
    "plt.rc(\"figure\",figsize=(10,8))\n",
    "%config InlineBackend.figure_format = 'retina'"
   ]
  },
  {
   "cell_type": "code",
   "execution_count": 2,
   "id": "abe9650e-14f9-4f29-96f6-29277a92f19c",
   "metadata": {},
   "outputs": [],
   "source": [
    "G = nx.DiGraph()\n",
    "G_size = 3\n",
    "nodes = np.arange(1,G_size+1,step=1)\n",
    "G.add_nodes_from(nodes)\n",
    "\n",
    "G.add_edge(1,3)\n",
    "G.add_edge(3,1)\n",
    "G.add_edge(2,3)\n",
    "G.add_edge(3,2)\n",
    "G.add_edge(1,2)\n",
    "G.add_edge(2,1)\n",
    "\n",
    "\n",
    "G_ud = nx.Graph()\n",
    "G_ud.add_node(1)\n",
    "G_ud.add_node(2)\n",
    "G_ud.add_node(3)\n",
    "G_ud.add_edge(3, 2)\n",
    "G_ud.add_edge(2, 3)\n",
    "G_ud.add_edge(1, 2)\n",
    "G_ud.add_edge(2, 1)\n",
    "G_ud.add_edge(1, 3)\n",
    "G_ud.add_edge(3, 1)"
   ]
  },
  {
   "cell_type": "code",
   "execution_count": 3,
   "id": "a7d3dadb-6f96-42d5-be1a-faaf500be46f",
   "metadata": {},
   "outputs": [
    {
     "data": {
      "image/png": "[encoded data removed]",
      "text/plain": [
       "<Figure size 432x288 with 1 Axes>"
      ]
     },
     "metadata": {},
     "output_type": "display_data"
    }
   ],
   "source": [
    "node_labels = {}\n",
    "node_labels[1] = \"1\"\n",
    "node_labels[2] = \"2\"\n",
    "node_labels[3] = \"3\"\n",
    "nx.draw(G, pos=nx.circular_layout(G), labels=node_labels, with_labels=True,node_size=2000, node_color = 'lightgray', font_size=18, font_color='black', font_family='sans-serif')"
   ]
  },
  {
   "cell_type": "code",
   "execution_count": 4,
   "id": "178bc02b-bf1e-41bf-abb4-bb96d0ffff95",
   "metadata": {},
   "outputs": [],
   "source": [
    "node_list = get_nodes(G)\n",
    "num_nodes = G_size\n",
    "edge_list = get_edges(G)\n",
    "\n",
    "# not needed for 3-cycle graph but we need the data structures\n",
    "cycle_list = get_cycles(G_ud)\n",
    "num_cycles = len(cycle_list)"
   ]
  },
  {
   "cell_type": "code",
   "execution_count": 5,
   "id": "adf9ae8b-e975-4ff0-a64f-68c754cd16d2",
   "metadata": {},
   "outputs": [],
   "source": [
    "label_dict, label_list = get_labels(G)"
   ]
  },
  {
   "cell_type": "code",
   "execution_count": 6,
   "id": "c7128df9-67fe-43f5-80fe-17f969c51b09",
   "metadata": {},
   "outputs": [
    {
     "data": {
      "text/plain": [
       "{(1, 3): 0.24961,\n",
       " (1, 2): 235.3899,\n",
       " (2, 3): 122.10493,\n",
       " (2, 1): 0.05671,\n",
       " (3, 1): 881.82101,\n",
       " (3, 2): 619.09637}"
      ]
     },
     "execution_count": 6,
     "metadata": {},
     "output_type": "execute_result"
    }
   ],
   "source": [
    "label_dict"
   ]
  },
  {
   "cell_type": "code",
   "execution_count": 7,
   "id": "b3b4cf2a-2815-444b-9d24-7c31a3a9ce9b",
   "metadata": {},
   "outputs": [
    {
     "data": {
      "text/plain": [
       "array([2.4961000e-01, 2.3538990e+02, 1.2210493e+02, 5.6710000e-02,\n",
       "       8.8182101e+02, 6.1909637e+02])"
      ]
     },
     "execution_count": 7,
     "metadata": {},
     "output_type": "execute_result"
    }
   ],
   "source": [
    "label_list"
   ]
  },
  {
   "cell_type": "code",
   "execution_count": 8,
   "id": "8ab2d678-e808-4d19-89da-eb6e8178c3ce",
   "metadata": {},
   "outputs": [],
   "source": [
    "L = Laplacian_all(edge_list,label_list,node_list)\n",
    "pi = steady_state_spectrum(L)"
   ]
  },
  {
   "cell_type": "code",
   "execution_count": 9,
   "id": "4094c1bb-73e6-417b-b2f6-c1ea2b5a0e1f",
   "metadata": {},
   "outputs": [
    {
     "data": {
      "text/plain": [
       "array([0.03252789, 0.12096664, 0.84650547])"
      ]
     },
     "execution_count": 9,
     "metadata": {},
     "output_type": "execute_result"
    }
   ],
   "source": [
    "pi"
   ]
  },
  {
   "cell_type": "markdown",
   "id": "0147e1ff-7de1-4b5c-b38d-50505922e84a",
   "metadata": {},
   "source": [
    "How do we enforce the initial conditions we want?\n",
    "\n",
    "* Concentrate all probability at one node\n",
    "* Enforce a flux in one direction"
   ]
  },
  {
   "cell_type": "code",
   "execution_count": 10,
   "id": "d7365db9-4ed4-4118-a781-190838e97e6d",
   "metadata": {},
   "outputs": [],
   "source": [
    "eigvals, eigvecs = scipy.linalg.eig(L)"
   ]
  },
  {
   "cell_type": "code",
   "execution_count": 11,
   "id": "51ddfd09-d13a-4313-b5ef-e09694821643",
   "metadata": {},
   "outputs": [
    {
     "data": {
      "text/plain": [
       "array([ 3.40795876e-14  +0.j        , -9.29359265e+02+162.68865406j,\n",
       "       -9.29359265e+02-162.68865406j])"
      ]
     },
     "execution_count": 11,
     "metadata": {},
     "output_type": "execute_result"
    }
   ],
   "source": [
    "eigvals"
   ]
  },
  {
   "cell_type": "code",
   "execution_count": 35,
   "id": "32c53073-7063-4746-ab93-587ec2493d9a",
   "metadata": {},
   "outputs": [
    {
     "data": {
      "text/plain": [
       "array([0., 0., 0.])"
      ]
     },
     "execution_count": 35,
     "metadata": {},
     "output_type": "execute_result"
    }
   ],
   "source": [
    "all_labels = np.zeros((100,6))\n",
    "all_eigvals_real = np.zeros((100,3))\n",
    "all_eigvals_complex = np.zeros((100,3))\n",
    "\n",
    "all_eigvals_real[1]"
   ]
  },
  {
   "cell_type": "code",
   "execution_count": 36,
   "id": "a1f27836-7df6-46ed-bea8-a850cbdd32b7",
   "metadata": {},
   "outputs": [],
   "source": [
    "for i in range(100):\n",
    "    label_dict, label_list = get_labels(G)\n",
    "    all_labels[i] = label_list\n",
    "    L = Laplacian_all(edge_list,label_list,node_list)\n",
    "    eigvals, eigvecs = scipy.linalg.eig(L)\n",
    "    all_eigvals_real[i] = eigvals.real\n",
    "    all_eigvals_complex[i] = eigvals.imag"
   ]
  },
  {
   "cell_type": "code",
   "execution_count": 40,
   "id": "acaf70f6-1406-4bd1-b4b4-2212be52ddc6",
   "metadata": {},
   "outputs": [],
   "source": [
    "t = np.around(np.arange(100.0,200.0,step=.01), decimals = 2)"
   ]
  },
  {
   "cell_type": "code",
   "execution_count": 59,
   "id": "f8ad6f26-9609-4bdb-929e-d75221ceab39",
   "metadata": {},
   "outputs": [],
   "source": [
    "list_result = list(map(lambda i: scipy.linalg.expm(L*i), t))"
   ]
  },
  {
   "cell_type": "code",
   "execution_count": 43,
   "id": "ac9393be-b343-47ff-9df4-d581a68f0d18",
   "metadata": {},
   "outputs": [
    {
     "data": {
      "text/plain": [
       "array([[0.25383928, 0.20031916, 0.20032832],\n",
       "       [0.31031732, 0.33256426, 0.33256046],\n",
       "       [0.4358434 , 0.46711657, 0.46711122]])"
      ]
     },
     "execution_count": 43,
     "metadata": {},
     "output_type": "execute_result"
    }
   ],
   "source": [
    "list_result[0]"
   ]
  },
  {
   "cell_type": "code",
   "execution_count": 44,
   "id": "9990fc7e-ba6e-4690-b010-74a420a5bab3",
   "metadata": {},
   "outputs": [
    {
     "data": {
      "text/plain": [
       "array([[-2.308000e-02,  1.500000e-03,  9.540000e-03],\n",
       "       [ 1.699000e-02, -2.745782e+01,  1.954105e+01],\n",
       "       [ 6.090000e-03,  2.745632e+01, -1.955059e+01]], dtype=float128)"
      ]
     },
     "execution_count": 44,
     "metadata": {},
     "output_type": "execute_result"
    }
   ],
   "source": [
    "L"
   ]
  },
  {
   "cell_type": "code",
   "execution_count": 52,
   "id": "778b146f-283f-4235-8db9-ef51a0c7408b",
   "metadata": {},
   "outputs": [],
   "source": [
    "P_0 = np.array([1,0,0])"
   ]
  },
  {
   "cell_type": "code",
   "execution_count": 53,
   "id": "436c9328-c6df-47cd-9e69-7a8adb5eda83",
   "metadata": {},
   "outputs": [
    {
     "data": {
      "text/plain": [
       "array([1, 0, 0])"
      ]
     },
     "execution_count": 53,
     "metadata": {},
     "output_type": "execute_result"
    }
   ],
   "source": [
    "P_0"
   ]
  },
  {
   "cell_type": "code",
   "execution_count": 64,
   "id": "f4cb5b5f-ec8e-48b6-8205-db82cb29f433",
   "metadata": {},
   "outputs": [
    {
     "data": {
      "text/plain": [
       "array([-0.06924,  0.05097,  0.01827], dtype=float128)"
      ]
     },
     "execution_count": 64,
     "metadata": {},
     "output_type": "execute_result"
    }
   ],
   "source": [
    "((L*P_0)[:,0])"
   ]
  },
  {
   "cell_type": "code",
   "execution_count": null,
   "id": "abab6bd1-9774-42f3-a1bd-7fbc53363586",
   "metadata": {},
   "outputs": [],
   "source": []
  }
 ],
 "metadata": {
  "kernelspec": {
   "display_name": "Python 3 (ipykernel)",
   "language": "python",
   "name": "python3"
  },
  "language_info": {
   "codemirror_mode": {
    "name": "ipython",
    "version": 3
   },
   "file_extension": ".py",
   "mimetype": "text/x-python",
   "name": "python",
   "nbconvert_exporter": "python",
   "pygments_lexer": "ipython3",
   "version": "3.9.19"
  }
 },
 "nbformat": 4,
 "nbformat_minor": 5
}
