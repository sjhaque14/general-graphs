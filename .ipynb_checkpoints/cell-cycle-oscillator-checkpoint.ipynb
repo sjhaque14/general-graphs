{
 "cells": [
  {
   "cell_type": "code",
   "execution_count": 2,
   "id": "a754faf4-8782-4093-a280-2311dc2aba5c",
   "metadata": {},
   "outputs": [],
   "source": [
    "import numpy as np\n",
    "import scipy.linalg\n",
    "import networkx as nx\n",
    "import matplotlib.pyplot as plt\n",
    "from tqdm import tqdm\n",
    "\n",
    "from general_graph_utils import *"
   ]
  },
  {
   "cell_type": "code",
   "execution_count": 24,
   "id": "abe9650e-14f9-4f29-96f6-29277a92f19c",
   "metadata": {},
   "outputs": [],
   "source": [
    "G = nx.DiGraph()\n",
    "G_size = 3\n",
    "nodes = np.arange(1,G_size+1,step=1)\n",
    "G.add_nodes_from(nodes)\n",
    "\n",
    "G.add_edge(1,3)\n",
    "G.add_edge(3,1)\n",
    "G.add_edge(2,3)\n",
    "G.add_edge(3,2)\n",
    "G.add_edge(1,2)\n",
    "G.add_edge(2,1)\n",
    "\n",
    "\n",
    "G_ud = nx.Graph()\n",
    "G_ud.add_node(1)\n",
    "G_ud.add_node(2)\n",
    "G_ud.add_node(3)\n",
    "G_ud.add_edge(3, 2)\n",
    "G_ud.add_edge(2, 3)\n",
    "G_ud.add_edge(1, 2)\n",
    "G_ud.add_edge(2, 1)\n",
    "G_ud.add_edge(1, 3)\n",
    "G_ud.add_edge(3, 1)"
   ]
  },
  {
   "cell_type": "code",
   "execution_count": 25,
   "id": "a7d3dadb-6f96-42d5-be1a-faaf500be46f",
   "metadata": {},
   "outputs": [
    {
     "data": {
      "image/png": "[encoded data removed]",
      "text/plain": [
       "<Figure size 432x288 with 1 Axes>"
      ]
     },
     "metadata": {},
     "output_type": "display_data"
    }
   ],
   "source": [
    "node_labels = {}\n",
    "node_labels[1] = \"1\"\n",
    "node_labels[2] = \"2\"\n",
    "node_labels[3] = \"3\"\n",
    "nx.draw(G, pos=nx.circular_layout(G), labels=node_labels, with_labels=True,node_size=2000, node_color = 'lightgray', font_size=18, font_color='black', font_family='sans-serif')"
   ]
  },
  {
   "cell_type": "code",
   "execution_count": 26,
   "id": "178bc02b-bf1e-41bf-abb4-bb96d0ffff95",
   "metadata": {},
   "outputs": [],
   "source": [
    "node_list = get_nodes(G)\n",
    "num_nodes = G_size\n",
    "edge_list = get_edges(G)\n",
    "\n",
    "# not needed for 3-cycle graph but we need the data structures\n",
    "cycle_list = get_cycles(G_ud)\n",
    "num_cycles = len(cycle_list)"
   ]
  },
  {
   "cell_type": "code",
   "execution_count": 34,
   "id": "adf9ae8b-e975-4ff0-a64f-68c754cd16d2",
   "metadata": {},
   "outputs": [],
   "source": [
    "label_dict, label_list = get_labels(G)"
   ]
  },
  {
   "cell_type": "code",
   "execution_count": 35,
   "id": "c7128df9-67fe-43f5-80fe-17f969c51b09",
   "metadata": {},
   "outputs": [
    {
     "data": {
      "text/plain": [
       "{(1, 3): 0.00779,\n",
       " (1, 2): 34.53633,\n",
       " (2, 3): 3.07048,\n",
       " (2, 1): 0.07601,\n",
       " (3, 1): 1.87407,\n",
       " (3, 2): 0.32744}"
      ]
     },
     "execution_count": 35,
     "metadata": {},
     "output_type": "execute_result"
    }
   ],
   "source": [
    "label_dict"
   ]
  },
  {
   "cell_type": "code",
   "execution_count": 36,
   "id": "b3b4cf2a-2815-444b-9d24-7c31a3a9ce9b",
   "metadata": {},
   "outputs": [
    {
     "data": {
      "text/plain": [
       "array([7.790000e-03, 3.453633e+01, 3.070480e+00, 7.601000e-02,\n",
       "       1.874070e+00, 3.274400e-01])"
      ]
     },
     "execution_count": 36,
     "metadata": {},
     "output_type": "execute_result"
    }
   ],
   "source": [
    "label_list"
   ]
  },
  {
   "cell_type": "code",
   "execution_count": 37,
   "id": "8ab2d678-e808-4d19-89da-eb6e8178c3ce",
   "metadata": {},
   "outputs": [],
   "source": [
    "L = Laplacian_all(edge_list,label_list,node_list)\n",
    "pi = steady_state_spectrum(L)"
   ]
  },
  {
   "cell_type": "code",
   "execution_count": 38,
   "id": "4094c1bb-73e6-417b-b2f6-c1ea2b5a0e1f",
   "metadata": {},
   "outputs": [
    {
     "data": {
      "text/plain": [
       "array([0.59839977, 0.03370542, 0.36789481])"
      ]
     },
     "execution_count": 38,
     "metadata": {},
     "output_type": "execute_result"
    }
   ],
   "source": [
    "pi"
   ]
  },
  {
   "cell_type": "markdown",
   "id": "0147e1ff-7de1-4b5c-b38d-50505922e84a",
   "metadata": {},
   "source": [
    "How do we enforce the initial conditions we want?\n",
    "\n",
    "* Concentrate all probability at one node\n",
    "* Enforce a flux in one direction"
   ]
  },
  {
   "cell_type": "code",
   "execution_count": null,
   "id": "d7365db9-4ed4-4118-a781-190838e97e6d",
   "metadata": {},
   "outputs": [],
   "source": []
  }
 ],
 "metadata": {
  "kernelspec": {
   "display_name": "Python 3 (ipykernel)",
   "language": "python",
   "name": "python3"
  },
  "language_info": {
   "codemirror_mode": {
    "name": "ipython",
    "version": 3
   },
   "file_extension": ".py",
   "mimetype": "text/x-python",
   "name": "python",
   "nbconvert_exporter": "python",
   "pygments_lexer": "ipython3",
   "version": "3.9.19"
  }
 },
 "nbformat": 4,
 "nbformat_minor": 5
}
