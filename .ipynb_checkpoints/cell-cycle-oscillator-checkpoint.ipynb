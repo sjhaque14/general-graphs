{
 "cells": [
  {
   "cell_type": "code",
   "execution_count": 1,
   "id": "a754faf4-8782-4093-a280-2311dc2aba5c",
   "metadata": {},
   "outputs": [],
   "source": [
    "import numpy as np\n",
    "import scipy.linalg\n",
    "import networkx as nx\n",
    "import matplotlib.pyplot as plt\n",
    "import math\n",
    "from tqdm import tqdm\n",
    "\n",
    "from scipy.linalg import expm\n",
    "from scipy.linalg import null_space\n",
    "\n",
    "from general_graph_utils import *"
   ]
  },
  {
   "cell_type": "code",
   "execution_count": 2,
   "id": "94121850-b431-4c7a-a80b-34bc994b497b",
   "metadata": {},
   "outputs": [],
   "source": [
    "def affinity(k12,k21,k23,k32,k31,k13):\n",
    "    aff = np.log((k12*k23*k31)/(k13*k32*k21))\n",
    "    return aff"
   ]
  },
  {
   "cell_type": "code",
   "execution_count": 3,
   "id": "10d2086d-1aae-4c95-9428-f74d23ae0ad7",
   "metadata": {},
   "outputs": [],
   "source": [
    "# Transition rate matrix W\n",
    "def transition_matrix(k12,k21,k23,k32,k31,k13):\n",
    "    W = np.array([\n",
    "        [-k12 - k13, k21, k31],  # Transition rates from E1\n",
    "        [k12, -k21 - k23, k32],  # Transition rates from E2\n",
    "        [k13, k23, -k31 - k32],  # Transition rates from E3\n",
    "    ])\n",
    "    return W"
   ]
  },
  {
   "cell_type": "code",
   "execution_count": 4,
   "id": "27e3554c-ef5f-471b-aded-1936836dfd41",
   "metadata": {},
   "outputs": [],
   "source": [
    "# Function to compute the correlation function C(t)\n",
    "def correlation_function(t, W):\n",
    "    exp_Wt = expm(W * t) # Compute the matrix exponential e^(Wt)\n",
    "    p = [1,0,0]\n",
    "    return (exp_Wt[0]*p)[0] # e^(Wt)[11] Prob of being in 1 at time t given was in 1 at time 0"
   ]
  },
  {
   "cell_type": "markdown",
   "id": "2d3822e3-58c8-4a46-9f80-b10eee5d980f",
   "metadata": {},
   "source": [
    "All rates = 1.0"
   ]
  },
  {
   "cell_type": "code",
   "execution_count": 5,
   "id": "77f99b23-ac73-4cb5-bb54-c5323c6122dc",
   "metadata": {},
   "outputs": [
    {
     "name": "stdout",
     "output_type": "stream",
     "text": [
      "force: 0.0\n",
      "eigenvalues: [-3.0000000e+00+0.j  4.4408921e-16+0.j -3.0000000e+00+0.j]\n",
      "decay time: 2251799813685248.0\n",
      "period: inf\n",
      "number coherent oscillations: 0.0\n"
     ]
    },
    {
     "name": "stderr",
     "output_type": "stream",
     "text": [
      "/var/folders/ch/f1rl6h5x4fx2wbg2_f5bj5dw0000gn/T/ipykernel_28167/82439275.py:21: RuntimeWarning: divide by zero encountered in double_scalars\n",
      "  omega = (2*math.pi)/x_i\n"
     ]
    }
   ],
   "source": [
    "k12, k21 = 1.0, 1.0  # Rates between E1 and E2\n",
    "k23, k32 = 1.0, 1.0  # Rates between E2 and E3\n",
    "k31, k13 = 1.0, 1.0  # Rates between E3 and E1\n",
    "\n",
    "# force\n",
    "print(\"force: \" + str(affinity(k12,k21,k23,k32,k31,k13)))\n",
    "\n",
    "# eigenvalues of W\n",
    "W = transition_matrix(k12,k21,k23,k32,k31,k13)\n",
    "eigvals, eigvecs = scipy.linalg.eig(W)\n",
    "print(\"eigenvalues: \" + str(eigvals))\n",
    "\n",
    "x_i = np.abs(eigvals[1].imag)\n",
    "x_r = np.abs(eigvals[1].real)\n",
    "\n",
    "# decay time\n",
    "tau = 1/x_r\n",
    "print(\"decay time: \" + str(tau))\n",
    "\n",
    "# oscillation period\n",
    "omega = (2*math.pi)/x_i\n",
    "print(\"period: \" + str(omega))\n",
    "\n",
    "# number of coherent oscillations\n",
    "R = x_i/x_r\n",
    "print(\"number coherent oscillations: \" + str(R/2*math.pi))\n",
    "\n",
    "# Time points for the plot\n",
    "times = np.linspace(0, 4, 500)  # time from 0 to 4 with 500 points\n",
    "# Compute C(t) for each time point\n",
    "correlation_values = [correlation_function(t, W) for t in times]"
   ]
  },
  {
   "cell_type": "code",
   "execution_count": 6,
   "id": "f421d87f-b128-4ea8-81d5-d23cd8a85579",
   "metadata": {},
   "outputs": [
    {
     "data": {
      "image/png": "[encoded data removed]",
      "text/plain": [
       "<Figure size 432x288 with 1 Axes>"
      ]
     },
     "metadata": {
      "needs_background": "light"
     },
     "output_type": "display_data"
    }
   ],
   "source": [
    "plt.plot(times, correlation_values, label='C(t)')\n",
    "plt.xlabel('Time (t)')\n",
    "plt.ylabel('Correlation Function C(t)')\n",
    "plt.title('Correlation Function in a Three-State System')\n",
    "plt.legend()\n",
    "plt.grid()\n",
    "plt.show()"
   ]
  },
  {
   "cell_type": "markdown",
   "id": "7ae6834d-f1d6-4a9a-859b-9bf98e008d6a",
   "metadata": {},
   "source": [
    "$\\mathcal{A}$ = 1.0"
   ]
  },
  {
   "cell_type": "code",
   "execution_count": 7,
   "id": "7e9af4e3-82e0-4c94-b9a5-0af65ff6541c",
   "metadata": {},
   "outputs": [
    {
     "name": "stdout",
     "output_type": "stream",
     "text": [
      "force: 1.0986122886681098\n",
      "eigenvalues: [ 4.4408921e-16+0.j -3.5000000e+00+0.j -4.5000000e+00+0.j]\n",
      "decay time: 0.2857142857142857\n",
      "period: inf\n",
      "number coherent oscillations: 0.0\n"
     ]
    },
    {
     "name": "stderr",
     "output_type": "stream",
     "text": [
      "/var/folders/ch/f1rl6h5x4fx2wbg2_f5bj5dw0000gn/T/ipykernel_28167/1173931952.py:21: RuntimeWarning: divide by zero encountered in double_scalars\n",
      "  omega = (2*math.pi)/x_i\n"
     ]
    }
   ],
   "source": [
    "k12, k21 = 1.0, 2.0  # Rates between E1 and E2\n",
    "k23, k32 = 1.5, 1.0  # Rates between E2 and E3\n",
    "k31, k13 = 2.0, 0.5  # Rates between E3 and E1\n",
    "\n",
    "# force\n",
    "print(\"force: \" + str(affinity(k12,k21,k23,k32,k31,k13)))\n",
    "\n",
    "# eigenvalues of W\n",
    "W = transition_matrix(k12,k21,k23,k32,k31,k13)\n",
    "eigvals, eigvecs = scipy.linalg.eig(W)\n",
    "print(\"eigenvalues: \" + str(eigvals))\n",
    "\n",
    "x_i = np.abs(eigvals[1].imag)\n",
    "x_r = np.abs(eigvals[1].real)\n",
    "\n",
    "# decay time\n",
    "tau = 1/x_r\n",
    "print(\"decay time: \" + str(tau))\n",
    "\n",
    "# oscillation period\n",
    "omega = (2*math.pi)/x_i\n",
    "print(\"period: \" + str(omega))\n",
    "\n",
    "# number of coherent oscillations\n",
    "R = x_i/x_r\n",
    "print(\"number coherent oscillations: \" + str(R/2*math.pi))\n",
    "\n",
    "# Time points for the plot\n",
    "times = np.linspace(0, 4, 500)  # time from 0 to 4 with 500 points\n",
    "# Compute C(t) for each time point\n",
    "correlation_values = [correlation_function(t, W) for t in times]"
   ]
  },
  {
   "cell_type": "code",
   "execution_count": 8,
   "id": "d7418b67-593a-46f6-8227-26332582c6ea",
   "metadata": {},
   "outputs": [
    {
     "data": {
      "image/png": "[encoded data removed]",
      "text/plain": [
       "<Figure size 432x288 with 1 Axes>"
      ]
     },
     "metadata": {
      "needs_background": "light"
     },
     "output_type": "display_data"
    }
   ],
   "source": [
    "plt.plot(times, correlation_values, label='C(t)')\n",
    "plt.xlabel('Time (t)')\n",
    "plt.ylabel('Correlation Function C(t)')\n",
    "plt.title('Correlation Function in a Three-State System')\n",
    "plt.legend()\n",
    "plt.grid()\n",
    "plt.show()"
   ]
  },
  {
   "cell_type": "markdown",
   "id": "7a22ae74-3bae-4c7e-94b6-2af8ebfc2727",
   "metadata": {},
   "source": [
    "Oscillatory transition rates"
   ]
  },
  {
   "cell_type": "code",
   "execution_count": 9,
   "id": "884ea5eb-83d7-47f5-b80c-fd9b6b65b7ad",
   "metadata": {},
   "outputs": [
    {
     "name": "stdout",
     "output_type": "stream",
     "text": [
      "force: 5.703782474656201\n",
      "eigenvalues: [-3.18595413e-16+0.j         -2.65000000e+00+0.99874922j\n",
      " -2.65000000e+00-0.99874922j]\n",
      "decay time: 0.3773584905660376\n",
      "period: 6.291054045776005\n",
      "number coherent oscillations: 0.5920119255341094\n"
     ]
    }
   ],
   "source": [
    "# Oscillatory transition rates\n",
    "k12, k21 = 1.0, 0.5  # Rates between E1 and E2\n",
    "k23, k32 = 1.5, 0.2  # Rates between E2 and E3\n",
    "k31, k13 = 2.0, 0.1  # Rates between E3 and E1\n",
    "\n",
    "# force\n",
    "print(\"force: \" + str(affinity(k12,k21,k23,k32,k31,k13)))\n",
    "\n",
    "# eigenvalues of W\n",
    "W = transition_matrix(k12,k21,k23,k32,k31,k13)\n",
    "eigvals, eigvecs = scipy.linalg.eig(W)\n",
    "print(\"eigenvalues: \" + str(eigvals))\n",
    "\n",
    "x_i = np.abs(eigvals[1].imag)\n",
    "x_r = np.abs(eigvals[1].real)\n",
    "\n",
    "# decay time\n",
    "tau = 1/x_r\n",
    "print(\"decay time: \" + str(tau))\n",
    "\n",
    "# oscillation period\n",
    "omega = (2*math.pi)/x_i\n",
    "print(\"period: \" + str(omega))\n",
    "\n",
    "# number of coherent oscillations\n",
    "R = x_i/x_r\n",
    "print(\"number coherent oscillations: \" + str(R/2*math.pi))\n",
    "\n",
    "# Time points for the plot\n",
    "times = np.linspace(0, 4, 500)  # time from 0 to 4 with 500 points\n",
    "# Compute C(t) for each time point\n",
    "correlation_values = [correlation_function(t, W) for t in times]"
   ]
  },
  {
   "cell_type": "code",
   "execution_count": 10,
   "id": "36cede54-9507-4c86-a98f-3dbf30a3cccb",
   "metadata": {},
   "outputs": [
    {
     "data": {
      "image/png": "[encoded data removed]",
      "text/plain": [
       "<Figure size 432x288 with 1 Axes>"
      ]
     },
     "metadata": {
      "needs_background": "light"
     },
     "output_type": "display_data"
    }
   ],
   "source": [
    "plt.plot(times, correlation_values, label='C(t)')\n",
    "plt.xlabel('Time (t)')\n",
    "plt.ylabel('Correlation Function C(t)')\n",
    "plt.title('Correlation Function in a Three-State System')\n",
    "plt.legend()\n",
    "plt.grid()\n",
    "plt.show()"
   ]
  },
  {
   "cell_type": "markdown",
   "id": "b27a67e4-59f4-40ab-bfd4-18838d2ea78c",
   "metadata": {},
   "source": [
    "Eigenvalues complex"
   ]
  },
  {
   "cell_type": "code",
   "execution_count": 11,
   "id": "d60eed85-1ce0-4142-a0fc-002e7ad8ad60",
   "metadata": {},
   "outputs": [
    {
     "name": "stdout",
     "output_type": "stream",
     "text": [
      "force: -7.325527183964429\n",
      "eigenvalues: [-1.48585000e-01+0.05398063j -1.48585000e-01-0.05398063j\n",
      "  2.38637456e-17+0.j        ]\n",
      "decay time: 6.730154457044786\n",
      "period: 116.39703431960048\n",
      "number coherent oscillations: 0.5706671345841586\n"
     ]
    }
   ],
   "source": [
    "# Oscillatory transition rates\n",
    "k13, k12, k23, k21, k31, k32 = 0.10536, 0.00158, 0.00805, 0.06794, 0.03089, 0.08335\n",
    "\n",
    "# force\n",
    "print(\"force: \" + str(affinity(k12,k21,k23,k32,k31,k13)))\n",
    "\n",
    "# eigenvalues of W\n",
    "W = transition_matrix(k12,k21,k23,k32,k31,k13)\n",
    "eigvals, eigvecs = scipy.linalg.eig(W)\n",
    "print(\"eigenvalues: \" + str(eigvals))\n",
    "\n",
    "x_i = np.abs(eigvals[1].imag)\n",
    "x_r = np.abs(eigvals[1].real)\n",
    "\n",
    "# decay time\n",
    "tau = 1/x_r\n",
    "print(\"decay time: \" + str(tau))\n",
    "\n",
    "# oscillation period\n",
    "omega = (2*math.pi)/x_i\n",
    "print(\"period: \" + str(omega))\n",
    "\n",
    "# number of coherent oscillations\n",
    "R = x_i/x_r\n",
    "print(\"number coherent oscillations: \" + str(R/2*math.pi))\n",
    "\n",
    "# Time points for the plot\n",
    "times = np.linspace(0, 50, 500)  # time from 0 to 50 with 500 points\n",
    "# Compute C(t) for each time point\n",
    "correlation_values = [correlation_function(t, W) for t in times]"
   ]
  },
  {
   "cell_type": "code",
   "execution_count": 12,
   "id": "f8e83ee2-7324-4f05-9a6f-c6f204beab71",
   "metadata": {},
   "outputs": [
    {
     "data": {
      "image/png": "[encoded data removed]",
      "text/plain": [
       "<Figure size 432x288 with 1 Axes>"
      ]
     },
     "metadata": {
      "needs_background": "light"
     },
     "output_type": "display_data"
    }
   ],
   "source": [
    "plt.plot(times, correlation_values, label='C(t)')\n",
    "plt.xlabel('Time (t)')\n",
    "plt.ylabel('Correlation Function C(t)')\n",
    "plt.title('Correlation Function in a Three-State System')\n",
    "plt.legend()\n",
    "plt.grid()\n",
    "plt.show()"
   ]
  },
  {
   "cell_type": "code",
   "execution_count": 13,
   "id": "23c5bf87-bbd4-4b7b-b972-b592ce554da7",
   "metadata": {},
   "outputs": [
    {
     "name": "stdout",
     "output_type": "stream",
     "text": [
      "force: 18.836219768636184\n",
      "eigenvalues: [ 3.58090794e-15+0.j         -1.70362750e+01+8.55151942j\n",
      " -1.70362750e+01-8.55151942j]\n",
      "decay time: 0.058698277645788215\n",
      "period: 0.734744903218277\n",
      "number coherent oscillations: 0.7884760776858771\n"
     ]
    }
   ],
   "source": [
    "# Oscillatory transition rates\n",
    "k13, k12, k23, k21, k31, k32 = 1.160000e-03, 1.330766e+01, 8.319220e+00, 3.330000e-03, 1.046221e+01, 1.978970e+00\n",
    "\n",
    "# force\n",
    "print(\"force: \" + str(affinity(k12,k21,k23,k32,k31,k13)))\n",
    "\n",
    "# eigenvalues of W\n",
    "W = transition_matrix(k12,k21,k23,k32,k31,k13)\n",
    "eigvals, eigvecs = scipy.linalg.eig(W)\n",
    "print(\"eigenvalues: \" + str(eigvals))\n",
    "\n",
    "x_i = np.abs(eigvals[1].imag)\n",
    "x_r = np.abs(eigvals[1].real)\n",
    "\n",
    "# decay time\n",
    "tau = 1/x_r\n",
    "print(\"decay time: \" + str(tau))\n",
    "\n",
    "# oscillation period\n",
    "omega = (2*math.pi)/x_i\n",
    "print(\"period: \" + str(omega))\n",
    "\n",
    "# number of coherent oscillations\n",
    "R = x_i/x_r\n",
    "print(\"number coherent oscillations: \" + str(R/2*math.pi))\n",
    "\n",
    "# Time points for the plot\n",
    "times = np.linspace(0, 1.5, 500)  # time from 0 to 1.5 with 500 points\n",
    "# Compute C(t) for each time point\n",
    "correlation_values = [correlation_function(t, W) for t in times]"
   ]
  },
  {
   "cell_type": "code",
   "execution_count": 14,
   "id": "dacab563-2aa5-43a6-8edf-fe3255ed36ea",
   "metadata": {},
   "outputs": [
    {
     "data": {
      "image/png": "[encoded data removed]",
      "text/plain": [
       "<Figure size 432x288 with 1 Axes>"
      ]
     },
     "metadata": {
      "needs_background": "light"
     },
     "output_type": "display_data"
    }
   ],
   "source": [
    "plt.plot(times, correlation_values, label='C(t)')\n",
    "plt.xlabel('Time (t)')\n",
    "plt.ylabel('Correlation Function C(t)')\n",
    "plt.title('Correlation Function in a Three-State System')\n",
    "plt.legend()\n",
    "plt.grid()\n",
    "plt.show()"
   ]
  },
  {
   "cell_type": "markdown",
   "id": "40053865-7710-426a-8eae-fcf31f556808",
   "metadata": {},
   "source": [
    "Totally away from equilibrium (unidirectional)"
   ]
  },
  {
   "cell_type": "code",
   "execution_count": 15,
   "id": "38915188-1271-4846-a4e8-052ddf9ee296",
   "metadata": {},
   "outputs": [
    {
     "name": "stdout",
     "output_type": "stream",
     "text": [
      "eigenvalues: [-3.00000000e+00+1.73205081j -3.00000000e+00-1.73205081j\n",
      " -6.48686449e-17+0.j        ]\n",
      "decay time: 0.3333333333333333\n",
      "period: 3.627598728468435\n",
      "number coherent oscillations: 0.906899682117109\n"
     ]
    }
   ],
   "source": [
    "# Oscillatory transition rates\n",
    "k12, k21 = 2.0, 0  # Rates between E1 and E2\n",
    "k23, k32 = 2.0, 0  # Rates between E2 and E3\n",
    "k31, k13 = 2.0, 0  # Rates between E3 and E1\n",
    "\n",
    "# force\n",
    "#print(\"force: \" + str(affinity(k12,k21,k23,k32,k31,k13)))\n",
    "\n",
    "# eigenvalues of W\n",
    "W = transition_matrix(k12,k21,k23,k32,k31,k13)\n",
    "eigvals, eigvecs = scipy.linalg.eig(W)\n",
    "print(\"eigenvalues: \" + str(eigvals))\n",
    "\n",
    "x_i = np.abs(eigvals[1].imag)\n",
    "x_r = np.abs(eigvals[1].real)\n",
    "\n",
    "# decay time\n",
    "tau = 1/x_r\n",
    "print(\"decay time: \" + str(tau))\n",
    "\n",
    "# oscillation period\n",
    "omega = (2*math.pi)/x_i\n",
    "print(\"period: \" + str(omega))\n",
    "\n",
    "# number of coherent oscillations\n",
    "R = x_i/x_r\n",
    "print(\"number coherent oscillations: \" + str(R/2*math.pi))\n",
    "\n",
    "# Time points for the plot\n",
    "times = np.linspace(0, 4, 500)  # time from 0 to 4 with 500 points\n",
    "# Compute C(t) for each time point\n",
    "correlation_values = [correlation_function(t, W) for t in times]"
   ]
  },
  {
   "cell_type": "code",
   "execution_count": 16,
   "id": "08c084ec-095c-4b2e-b922-f8f0350859ae",
   "metadata": {},
   "outputs": [
    {
     "data": {
      "image/png": "[encoded data removed]",
      "text/plain": [
       "<Figure size 432x288 with 1 Axes>"
      ]
     },
     "metadata": {
      "needs_background": "light"
     },
     "output_type": "display_data"
    }
   ],
   "source": [
    "plt.plot(times, correlation_values, label='C(t)')\n",
    "plt.xlabel('Time (t)')\n",
    "plt.ylabel('Correlation Function C(t)')\n",
    "plt.title('Correlation Function in a Three-State System')\n",
    "plt.legend()\n",
    "plt.grid()\n",
    "plt.show()"
   ]
  },
  {
   "cell_type": "code",
   "execution_count": 17,
   "id": "bd080d60-87bf-4f92-a66f-bbd84d770e39",
   "metadata": {},
   "outputs": [
    {
     "name": "stdout",
     "output_type": "stream",
     "text": [
      "force: 8.987196820661973\n",
      "eigenvalues: [-3.49536271e-15 +0.j         -3.15000000e+01+16.45448267j\n",
      " -3.15000000e+01-16.45448267j]\n",
      "decay time: 0.03174603174603172\n",
      "period: 0.3818524977335192\n",
      "number coherent oscillations: 0.8205282838202415\n"
     ]
    }
   ],
   "source": [
    "# Oscillatory transition rates\n",
    "k12, k21 = 20.0, 1.0  # Rates between E1 and E2\n",
    "k23, k32 = 20.0, 1.0  # Rates between E2 and E3\n",
    "k31, k13 = 20.0, 1.0  # Rates between E3 and E1\n",
    "\n",
    "# force\n",
    "print(\"force: \" + str(affinity(k12,k21,k23,k32,k31,k13)))\n",
    "\n",
    "# eigenvalues of W\n",
    "W = transition_matrix(k12,k21,k23,k32,k31,k13)\n",
    "eigvals, eigvecs = scipy.linalg.eig(W)\n",
    "print(\"eigenvalues: \" + str(eigvals))\n",
    "\n",
    "x_i = np.abs(eigvals[1].imag)\n",
    "x_r = np.abs(eigvals[1].real)\n",
    "\n",
    "# decay time\n",
    "tau = 1/x_r\n",
    "print(\"decay time: \" + str(tau))\n",
    "\n",
    "# oscillation period\n",
    "omega = (2*math.pi)/x_i\n",
    "print(\"period: \" + str(omega))\n",
    "\n",
    "# number of coherent oscillations\n",
    "R = x_i/x_r\n",
    "print(\"number coherent oscillations: \" + str(R/2*math.pi))\n",
    "\n",
    "# Time points for the plot\n",
    "times = np.linspace(0, 1, 500)  # time from 0 to 1 with 500 points\n",
    "# Compute C(t) for each time point\n",
    "correlation_values = [correlation_function(t, W) for t in times]"
   ]
  },
  {
   "cell_type": "code",
   "execution_count": 18,
   "id": "f08bed5b-3fef-40d4-a42d-b9071a8ff933",
   "metadata": {},
   "outputs": [
    {
     "data": {
      "image/png": "[encoded data removed]",
      "text/plain": [
       "<Figure size 432x288 with 1 Axes>"
      ]
     },
     "metadata": {
      "needs_background": "light"
     },
     "output_type": "display_data"
    }
   ],
   "source": [
    "plt.plot(times, correlation_values, label='C(t)')\n",
    "plt.xlabel('Time (t)')\n",
    "plt.ylabel('Correlation Function C(t)')\n",
    "#plt.title('Correlation Function in a Three-State System')\n",
    "plt.legend()\n",
    "plt.grid()\n",
    "plt.show()"
   ]
  },
  {
   "cell_type": "markdown",
   "id": "18d01f39-9fe0-4ee5-a521-a3005d68e27d",
   "metadata": {},
   "source": [
    "What parameter sets give you complex eigenvalues?"
   ]
  },
  {
   "cell_type": "code",
   "execution_count": 19,
   "id": "db3ed22d-de86-4338-95d8-10c9c4746122",
   "metadata": {},
   "outputs": [],
   "source": [
    "G = nx.DiGraph()\n",
    "G_size = 3\n",
    "nodes = np.arange(1,G_size+1,step=1)\n",
    "G.add_nodes_from(nodes)\n",
    "\n",
    "G.add_edge(1,3)\n",
    "G.add_edge(3,1)\n",
    "G.add_edge(2,3)\n",
    "G.add_edge(3,2)\n",
    "G.add_edge(1,2)\n",
    "G.add_edge(2,1)\n",
    "\n",
    "\n",
    "G_ud = nx.Graph()\n",
    "G_ud.add_node(1)\n",
    "G_ud.add_node(2)\n",
    "G_ud.add_node(3)\n",
    "G_ud.add_edge(3, 2)\n",
    "G_ud.add_edge(2, 3)\n",
    "G_ud.add_edge(1, 2)\n",
    "G_ud.add_edge(2, 1)\n",
    "G_ud.add_edge(1, 3)\n",
    "G_ud.add_edge(3, 1)"
   ]
  },
  {
   "cell_type": "code",
   "execution_count": 20,
   "id": "2e12f715-aeec-40db-bc5c-7c9822a3da64",
   "metadata": {},
   "outputs": [],
   "source": [
    "node_list = get_nodes(G)\n",
    "num_nodes = G_size\n",
    "edge_list = get_edges(G)\n",
    "\n",
    "# not needed for 3-cycle graph but we need the data structures\n",
    "cycle_list = get_cycles(G_ud)\n",
    "num_cycles = len(cycle_list)"
   ]
  },
  {
   "cell_type": "code",
   "execution_count": 21,
   "id": "df50feb1-4a7b-427f-9256-b5094ef19863",
   "metadata": {},
   "outputs": [],
   "source": [
    "label_dict, label_list = get_labels(G)"
   ]
  },
  {
   "cell_type": "code",
   "execution_count": 22,
   "id": "66daee29-eeb9-4ad9-8da6-c81ac62513ed",
   "metadata": {},
   "outputs": [
    {
     "data": {
      "text/plain": [
       "{(1, 3): 0.26638,\n",
       " (1, 2): 105.02515,\n",
       " (2, 3): 0.23904,\n",
       " (2, 1): 969.71381,\n",
       " (3, 1): 3.30573,\n",
       " (3, 2): 604.35918}"
      ]
     },
     "execution_count": 22,
     "metadata": {},
     "output_type": "execute_result"
    }
   ],
   "source": [
    "label_dict"
   ]
  },
  {
   "cell_type": "code",
   "execution_count": 23,
   "id": "32c53073-7063-4746-ab93-587ec2493d9a",
   "metadata": {},
   "outputs": [],
   "source": [
    "all_labels = np.zeros((1000,6))\n",
    "all_eigvals_real = np.zeros((1000,3))\n",
    "all_eigvals_complex = np.zeros((1000,3))\n",
    "all_affinities = np.zeros((1000,1))"
   ]
  },
  {
   "cell_type": "code",
   "execution_count": 24,
   "id": "a1f27836-7df6-46ed-bea8-a850cbdd32b7",
   "metadata": {},
   "outputs": [],
   "source": [
    "for i in range(1000):\n",
    "    label_dict, label_list = get_labels(G)\n",
    "    all_labels[i] = label_list\n",
    "    cycle_edges_forward,cycle_edges_backward,cycle_labels_forward,cycle_labels_backward = get_cycle_labels_edges(cycle_list,label_dict)\n",
    "    products_f, products_b = calculate_cycle_products(cycle_labels_forward,cycle_labels_backward)\n",
    "    total_affinities = calculate_affinities(products_f, products_b, cycle_list)\n",
    "    all_affinities[i] = total_affinities\n",
    "    L = Laplacian_all(edge_list,label_list,node_list)\n",
    "    eigvals, eigvecs = scipy.linalg.eig(L)\n",
    "    eigvals_sorted = np.sort(eigvals)\n",
    "    all_eigvals_real[i] = eigvals_sorted.real\n",
    "    all_eigvals_complex[i] = eigvals_sorted.imag"
   ]
  },
  {
   "cell_type": "code",
   "execution_count": 25,
   "id": "e8b7e38b-044c-499b-975d-f773d2102691",
   "metadata": {},
   "outputs": [
    {
     "data": {
      "text/plain": [
       "<matplotlib.legend.Legend at 0x7fabe9b1cf70>"
      ]
     },
     "execution_count": 25,
     "metadata": {},
     "output_type": "execute_result"
    },
    {
     "data": {
      "image/png": "[encoded data removed]",
      "text/plain": [
       "<Figure size 432x288 with 1 Axes>"
      ]
     },
     "metadata": {
      "needs_background": "light"
     },
     "output_type": "display_data"
    }
   ],
   "source": [
    "plt.scatter(all_affinities, all_eigvals_real[:,0], label='lambda_1')\n",
    "plt.scatter(all_affinities, all_eigvals_real[:,1], label='lambda_2')\n",
    "plt.scatter(all_affinities, all_eigvals_real[:,2], label='lambda_3')\n",
    "plt.xlabel('A')\n",
    "plt.ylabel('Lambda_R')\n",
    "plt.legend()"
   ]
  },
  {
   "cell_type": "code",
   "execution_count": 26,
   "id": "d1825c11-990f-428a-a84f-32c65f917267",
   "metadata": {},
   "outputs": [
    {
     "data": {
      "text/plain": [
       "<matplotlib.legend.Legend at 0x7fabe9b73b80>"
      ]
     },
     "execution_count": 26,
     "metadata": {},
     "output_type": "execute_result"
    },
    {
     "data": {
      "image/png": "[encoded data removed]",
      "text/plain": [
       "<Figure size 432x288 with 1 Axes>"
      ]
     },
     "metadata": {
      "needs_background": "light"
     },
     "output_type": "display_data"
    }
   ],
   "source": [
    "plt.scatter(all_affinities, all_eigvals_complex[:,0], label='lambda_1')\n",
    "plt.scatter(all_affinities, all_eigvals_complex[:,1], label='lambda_2')\n",
    "plt.scatter(all_affinities, all_eigvals_complex[:,2], label='lambda_3')\n",
    "plt.xlabel('A')\n",
    "plt.ylabel('Lambda_C')\n",
    "plt.legend()"
   ]
  },
  {
   "cell_type": "markdown",
   "id": "aaf3dffd-772d-4b66-b6e1-6349414816ff",
   "metadata": {},
   "source": [
    "Find a parameter set that has complex eigenvalues and a particular affinity."
   ]
  },
  {
   "cell_type": "code",
   "execution_count": 27,
   "id": "43c0873b-9e4a-4550-950e-d2a22e975072",
   "metadata": {},
   "outputs": [],
   "source": [
    "indices = np.nonzero(all_eigvals_complex)"
   ]
  },
  {
   "cell_type": "code",
   "execution_count": 28,
   "id": "71e2928e-249c-4e64-87f7-61a5871b5112",
   "metadata": {},
   "outputs": [
    {
     "data": {
      "text/plain": [
       "array([26.88362666])"
      ]
     },
     "execution_count": 28,
     "metadata": {},
     "output_type": "execute_result"
    }
   ],
   "source": [
    "all_affinities[indices[0][0]]"
   ]
  },
  {
   "cell_type": "code",
   "execution_count": 29,
   "id": "e8b45a7d-3e11-41f3-b2df-246fb579c23c",
   "metadata": {},
   "outputs": [
    {
     "data": {
      "text/plain": [
       "array([-41.17621408,  41.17621408,   0.        ])"
      ]
     },
     "execution_count": 29,
     "metadata": {},
     "output_type": "execute_result"
    }
   ],
   "source": [
    "all_eigvals_complex[indices[0][0]]"
   ]
  },
  {
   "cell_type": "code",
   "execution_count": 30,
   "id": "5916e40f-0475-4c8e-ab42-dbf051edb1f7",
   "metadata": {},
   "outputs": [
    {
     "data": {
      "text/plain": [
       "array([1.3930000e-02, 1.0141680e+01, 4.1011335e+02, 1.1490000e-02,\n",
       "       5.1941311e+02, 2.8500000e-02])"
      ]
     },
     "execution_count": 30,
     "metadata": {},
     "output_type": "execute_result"
    }
   ],
   "source": [
    "all_labels[indices[0][0],:]"
   ]
  },
  {
   "cell_type": "code",
   "execution_count": 31,
   "id": "17771a58-287b-45a7-a959-e2ed083da5cc",
   "metadata": {},
   "outputs": [
    {
     "data": {
      "text/plain": [
       "{(1, 3): 266.54397,\n",
       " (1, 2): 41.4658,\n",
       " (2, 3): 0.01411,\n",
       " (2, 1): 0.00228,\n",
       " (3, 1): 2.42911,\n",
       " (3, 2): 2.75583}"
      ]
     },
     "execution_count": 31,
     "metadata": {},
     "output_type": "execute_result"
    }
   ],
   "source": [
    "label_dict # just to see the order of rates"
   ]
  },
  {
   "cell_type": "markdown",
   "id": "2f3cc174-75e5-456c-a9c1-d323dee74f6d",
   "metadata": {},
   "source": [
    "Five-state graph"
   ]
  },
  {
   "cell_type": "code",
   "execution_count": 32,
   "id": "8b96a54e-79f8-405a-8a11-a77bd81fb14f",
   "metadata": {},
   "outputs": [],
   "source": [
    "k12,k21,k23,k32,k34,k43,k45,k54,k15,k51 = 1.0, 1.0, 1.0, 1.0, 1.0, 1.0, 1.0, 1.0, 1.0, 1.0"
   ]
  },
  {
   "cell_type": "code",
   "execution_count": 33,
   "id": "07555e8b-f6a6-4f63-a169-466cda713da1",
   "metadata": {},
   "outputs": [],
   "source": [
    "def affinity5(k12,k21,k23,k32,k34,k43,k45,k54,k15,k51):\n",
    "    aff = np.log((k12*k23*k34*k45*k51)/(k15*k54*k43*k32*k21))\n",
    "    return aff"
   ]
  },
  {
   "cell_type": "code",
   "execution_count": 34,
   "id": "9bf658f2-bc2e-4107-a075-1d286bab3449",
   "metadata": {},
   "outputs": [],
   "source": [
    "# Transition rate matrix W\n",
    "def transition_matrix5(k12,k21,k23,k32,k34,k43,k45,k54,k15,k51):\n",
    "    W = np.array([\n",
    "        [-k12-k15,k21,0,0,k51],  # Transition rates from E1\n",
    "        [k12,-k21-k23,k32,0,0],  # Transition rates from E2\n",
    "        [0,k23,-k32-k34,k43,0],  # Transition rates from E3\n",
    "        [0,0,k34,-k43-k45,k54],  # Transition rates from E4\n",
    "        [k15,0,0,k45,-k51-k54],  # Transition rates from E5\n",
    "    ])\n",
    "    return W"
   ]
  },
  {
   "cell_type": "code",
   "execution_count": 35,
   "id": "4873500c-27c7-4222-b9bf-b2c4658a6b12",
   "metadata": {},
   "outputs": [],
   "source": [
    "# Function to compute the correlation function C(t)\n",
    "def correlation_function5(t, W):\n",
    "    exp_Wt = expm(W * t) # Compute the matrix exponential e^(Wt)\n",
    "    p = [1,0,0,0,0]\n",
    "    return (exp_Wt[0]*p)[0] # e^(Wt)[11] Prob of being in 1 at time t given was in 1 at time 0"
   ]
  },
  {
   "cell_type": "code",
   "execution_count": 36,
   "id": "455b001f-ebd1-472f-8370-24ff4144f3b7",
   "metadata": {},
   "outputs": [
    {
     "name": "stdout",
     "output_type": "stream",
     "text": [
      "force: -inf\n",
      "eigenvalues: [-3.61803399e+00+1.1755705j  -3.61803399e+00-1.1755705j\n",
      " -1.38196601e+00+1.90211303j -1.38196601e+00-1.90211303j\n",
      " -3.05992170e-16+0.j        ]\n",
      "decay time: 0.7236067977499785\n",
      "period: 3.303265999194125\n",
      "number coherent oscillations: 2.1620156649430227\n"
     ]
    },
    {
     "name": "stderr",
     "output_type": "stream",
     "text": [
      "/var/folders/ch/f1rl6h5x4fx2wbg2_f5bj5dw0000gn/T/ipykernel_28167/401400925.py:2: RuntimeWarning: divide by zero encountered in log\n",
      "  aff = np.log((k12*k23*k34*k45*k51)/(k15*k54*k43*k32*k21))\n"
     ]
    }
   ],
   "source": [
    "# Oscillatory transition rates\n",
    "\n",
    "k12, k23, k34, k45, k51 = 0.0, 0.0, 0.0, 0.0, 0.0\n",
    "k21, k32, k43, k54, k15 = 2.0, 2.0, 2.0, 2.0, 2.0\n",
    "\n",
    "#k12, k15, k21, k23, k32, k34, k43, k45, k54, k51 = 6.6867835e+02, 1.2356196e+02, 3.0750714e+02, 4.6800000e-03, 1.0429112e+02, 1.2768300e+01, 1.0017890e+01, 3.5640000e-01, 5.3848260e+01, 1.6982000e-01\n",
    "\n",
    "# force\n",
    "print(\"force: \" + str(affinity5(k12,k21,k23,k32,k34,k43,k45,k54,k15,k51)))\n",
    "\n",
    "# eigenvalues of W\n",
    "W = transition_matrix5(k12,k21,k23,k32,k34,k43,k45,k54,k15,k51)\n",
    "eigvals, eigvecs = scipy.linalg.eig(W)\n",
    "print(\"eigenvalues: \" + str(eigvals))\n",
    "\n",
    "x_i = np.abs(eigvals[2].imag)\n",
    "x_r = np.abs(eigvals[2].real)\n",
    "\n",
    "# decay time\n",
    "tau = 1/x_r\n",
    "print(\"decay time: \" + str(tau))\n",
    "\n",
    "# oscillation period\n",
    "omega = (2*math.pi)/x_i\n",
    "print(\"period: \" + str(omega))\n",
    "\n",
    "# number of coherent oscillations\n",
    "R = x_i/x_r\n",
    "print(\"number coherent oscillations: \" + str(R/2*math.pi))\n",
    "\n",
    "# Time points for the plot\n",
    "times = np.linspace(0, 10, 500)  # time from 0 to 4 with 500 points\n",
    "# Compute C(t) for each time point\n",
    "correlation_values = [correlation_function5(t, W) for t in times]"
   ]
  },
  {
   "cell_type": "code",
   "execution_count": 37,
   "id": "303fdb90-d921-4f81-aff0-8302abb0cf50",
   "metadata": {},
   "outputs": [
    {
     "data": {
      "image/png": "[encoded data removed]",
      "text/plain": [
       "<Figure size 432x288 with 1 Axes>"
      ]
     },
     "metadata": {
      "needs_background": "light"
     },
     "output_type": "display_data"
    }
   ],
   "source": [
    "plt.plot(times, correlation_values, label='C(t)')\n",
    "plt.xlabel('Time (t)')\n",
    "plt.ylabel('Correlation Function C(t)')\n",
    "plt.title('Correlation Function in a Five-State System')\n",
    "plt.legend()\n",
    "plt.grid()\n",
    "plt.show()"
   ]
  },
  {
   "cell_type": "markdown",
   "id": "9ba93104-b2d2-4a97-a5f2-2f6125eff45c",
   "metadata": {},
   "source": [
    "What parameter sets give you complex eigenvalues?"
   ]
  },
  {
   "cell_type": "code",
   "execution_count": 38,
   "id": "c9c40361-309c-4975-b8fa-4e4f8951e972",
   "metadata": {},
   "outputs": [],
   "source": [
    "G = nx.DiGraph()\n",
    "G_size = 5\n",
    "nodes = np.arange(1,G_size+1,step=1)\n",
    "G.add_nodes_from(nodes)\n",
    "\n",
    "G.add_edge(1,2)\n",
    "G.add_edge(2,1)\n",
    "G.add_edge(2,3)\n",
    "G.add_edge(3,2)\n",
    "G.add_edge(4,3)\n",
    "G.add_edge(3,4)\n",
    "G.add_edge(4,5)\n",
    "G.add_edge(5,4)\n",
    "G.add_edge(5,1)\n",
    "G.add_edge(1,5)\n",
    "\n",
    "G_ud = nx.Graph()\n",
    "G_ud.add_node(1)\n",
    "G_ud.add_node(2)\n",
    "G_ud.add_node(3)\n",
    "G_ud.add_edge(3, 2)\n",
    "G_ud.add_edge(2, 3)\n",
    "G_ud.add_edge(1, 2)\n",
    "G_ud.add_edge(2, 1)\n",
    "G_ud.add_edge(4,3)\n",
    "G_ud.add_edge(3,4)\n",
    "G_ud.add_edge(4,5)\n",
    "G_ud.add_edge(5,4)\n",
    "G_ud.add_edge(5,1)\n",
    "G_ud.add_edge(1,5)"
   ]
  },
  {
   "cell_type": "code",
   "execution_count": 39,
   "id": "67aa568a-592a-43b6-8806-4657c989f14e",
   "metadata": {},
   "outputs": [],
   "source": [
    "node_list = get_nodes(G)\n",
    "num_nodes = G_size\n",
    "edge_list = get_edges(G)\n",
    "\n",
    "# not needed for 3-cycle graph but we need the data structures\n",
    "cycle_list = get_cycles(G_ud)\n",
    "num_cycles = len(cycle_list)"
   ]
  },
  {
   "cell_type": "code",
   "execution_count": 40,
   "id": "5a48fd83-fb0a-4c71-b836-f576560f39c0",
   "metadata": {},
   "outputs": [],
   "source": [
    "label_dict, label_list = get_labels(G)"
   ]
  },
  {
   "cell_type": "code",
   "execution_count": 41,
   "id": "f02dd90b-defc-4415-ad23-4cd0bcad641c",
   "metadata": {},
   "outputs": [
    {
     "data": {
      "text/plain": [
       "{(1, 2): 20.32307,\n",
       " (1, 5): 0.11306,\n",
       " (2, 1): 0.39732,\n",
       " (2, 3): 241.71527,\n",
       " (3, 2): 0.04829,\n",
       " (3, 4): 0.20667,\n",
       " (4, 3): 13.19713,\n",
       " (4, 5): 0.47397,\n",
       " (5, 4): 0.16289,\n",
       " (5, 1): 3.45808}"
      ]
     },
     "execution_count": 41,
     "metadata": {},
     "output_type": "execute_result"
    }
   ],
   "source": [
    "label_dict"
   ]
  },
  {
   "cell_type": "code",
   "execution_count": 42,
   "id": "b2d165fb-ed42-4fd2-bd19-d23b49646e78",
   "metadata": {},
   "outputs": [],
   "source": [
    "all_labels = np.zeros((10,10))\n",
    "all_eigvals_real = np.zeros((10,5))\n",
    "all_eigvals_complex = np.zeros((10,5))\n",
    "all_affinities = np.zeros((10))"
   ]
  },
  {
   "cell_type": "code",
   "execution_count": 43,
   "id": "239b6464-1ab5-4921-ab12-64584279f809",
   "metadata": {},
   "outputs": [
    {
     "name": "stdout",
     "output_type": "stream",
     "text": [
      "[1.4989115]\n",
      "[-7.58899839e+02 -3.52060540e+02 -1.40546541e+02 -2.35195310e-02\n",
      "  2.04501032e-14]\n",
      "[0. 0. 0. 0. 0.]\n",
      "[10.50909787]\n",
      "[-2.23500968e+02 -8.46318215e+01 -5.04395508e+00 -1.44958492e+00\n",
      "  3.97405311e-15]\n",
      "[0. 0. 0. 0. 0.]\n",
      "[-8.66737145]\n",
      "[-8.95477618e+02 -7.01838399e+02 -4.02699802e+00 -6.16725339e-01\n",
      " -3.77877888e-15]\n",
      "[0. 0. 0. 0. 0.]\n",
      "[-24.16574882]\n",
      "[-1.39283740e+03 -5.57327705e+02 -1.70300282e+02 -8.39146793e+00\n",
      "  1.83751247e-14]\n",
      "[0. 0. 0. 0. 0.]\n",
      "[17.06419645]\n",
      "[-1.24368369e+01 -5.28076992e-01 -4.19376657e-01 -1.38069472e-01\n",
      " -2.43083756e-15]\n",
      "[0. 0. 0. 0. 0.]\n",
      "[17.54619819]\n",
      "[-9.15721367e+01 -7.99137334e+01 -6.59902580e+01 -1.68261189e+00\n",
      "  1.24344979e-14]\n",
      "[0. 0. 0. 0. 0.]\n",
      "[-10.16617353]\n",
      "[-1.10459947e+03 -7.05663652e+02 -3.46318348e+02 -1.35944385e+02\n",
      "  5.13042858e-14]\n",
      "[0. 0. 0. 0. 0.]\n",
      "[31.1723303]\n",
      "[-1.39386883e+02 -4.36922158e+01 -1.16172757e+01 -1.68281586e+00\n",
      " -2.68386869e-15]\n",
      "[0. 0. 0. 0. 0.]\n",
      "[-24.32078156]\n",
      "[-3.35073359e+02 -3.41449705e+01 -5.95595521e+00 -5.95595521e+00\n",
      " -5.77573109e-15]\n",
      "[ 0.          0.         -1.85702068  1.85702068  0.        ]\n",
      "[22.1809421]\n",
      "[-6.20164807e+02 -2.87765558e+02 -2.61964403e+02 -5.37911815e-01\n",
      " -1.17279396e-14]\n",
      "[0. 0. 0. 0. 0.]\n"
     ]
    }
   ],
   "source": [
    "for i in range(10):\n",
    "    label_dict, label_list = get_labels(G)\n",
    "    all_labels[i] = label_list\n",
    "    cycle_edges_forward,cycle_edges_backward,cycle_labels_forward,cycle_labels_backward = get_cycle_labels_edges(cycle_list,label_dict)\n",
    "    products_f, products_b = calculate_cycle_products(cycle_labels_forward,cycle_labels_backward)\n",
    "    total_affinities = calculate_affinities(products_f, products_b, cycle_list)\n",
    "    all_affinities[i] = total_affinities\n",
    "    print(total_affinities)\n",
    "    L = Laplacian_all(edge_list,label_list,node_list)\n",
    "    eigvals, eigvecs = scipy.linalg.eig(L)\n",
    "    eigvals_sorted = np.sort(eigvals)\n",
    "    all_eigvals_real[i] = eigvals_sorted.real\n",
    "    print(eigvals_sorted.real)\n",
    "    all_eigvals_complex[i] = eigvals_sorted.imag\n",
    "    print(eigvals_sorted.imag)"
   ]
  },
  {
   "cell_type": "code",
   "execution_count": 44,
   "id": "bfc1236d-2ef2-4d06-816b-0ec8feef28fb",
   "metadata": {},
   "outputs": [
    {
     "data": {
      "text/plain": [
       "<matplotlib.legend.Legend at 0x7fabe85d4a00>"
      ]
     },
     "execution_count": 44,
     "metadata": {},
     "output_type": "execute_result"
    },
    {
     "data": {
      "image/png": "[encoded data removed]",
      "text/plain": [
       "<Figure size 432x288 with 1 Axes>"
      ]
     },
     "metadata": {
      "needs_background": "light"
     },
     "output_type": "display_data"
    }
   ],
   "source": [
    "plt.scatter(all_affinities, all_eigvals_real[:,0], label='lambda_1')\n",
    "plt.scatter(all_affinities, all_eigvals_real[:,1], label='lambda_2')\n",
    "plt.scatter(all_affinities, all_eigvals_real[:,2], label='lambda_3')\n",
    "plt.scatter(all_affinities, all_eigvals_real[:,3], label='lambda_4')\n",
    "plt.scatter(all_affinities, all_eigvals_real[:,4], label='lambda_5')\n",
    "plt.xlabel('A')\n",
    "plt.ylabel('Lambda_R')\n",
    "plt.legend()"
   ]
  },
  {
   "cell_type": "code",
   "execution_count": 45,
   "id": "0207c8ef-6310-45dd-bc59-f1114b3d5dc5",
   "metadata": {},
   "outputs": [
    {
     "data": {
      "text/plain": [
       "<matplotlib.legend.Legend at 0x7fabf83e3280>"
      ]
     },
     "execution_count": 45,
     "metadata": {},
     "output_type": "execute_result"
    },
    {
     "data": {
      "image/png": "[encoded data removed]",
      "text/plain": [
       "<Figure size 432x288 with 1 Axes>"
      ]
     },
     "metadata": {
      "needs_background": "light"
     },
     "output_type": "display_data"
    }
   ],
   "source": [
    "plt.scatter(all_affinities, all_eigvals_complex[:,0], label='lambda_1')\n",
    "plt.scatter(all_affinities, all_eigvals_complex[:,1], label='lambda_2')\n",
    "plt.scatter(all_affinities, all_eigvals_complex[:,2], label='lambda_3')\n",
    "plt.scatter(all_affinities, all_eigvals_complex[:,3], label='lambda_4')\n",
    "plt.scatter(all_affinities, all_eigvals_complex[:,4], label='lambda_5')\n",
    "plt.xlabel('A')\n",
    "plt.ylabel('Lambda_C')\n",
    "plt.legend()"
   ]
  },
  {
   "cell_type": "markdown",
   "id": "98012b56-7f60-4ddc-a833-52fbd2469827",
   "metadata": {},
   "source": [
    "Find a parameter set that has complex eigenvalues and a particular affinity."
   ]
  },
  {
   "cell_type": "code",
   "execution_count": 46,
   "id": "8ef4f244-eddb-4200-a945-75b627bf627b",
   "metadata": {},
   "outputs": [
    {
     "data": {
      "text/plain": [
       "(array([8, 8]), array([2, 3]))"
      ]
     },
     "execution_count": 46,
     "metadata": {},
     "output_type": "execute_result"
    }
   ],
   "source": [
    "np.nonzero(all_eigvals_complex)"
   ]
  },
  {
   "cell_type": "code",
   "execution_count": 47,
   "id": "cb42648c-1603-4e22-a1f4-877499991124",
   "metadata": {},
   "outputs": [
    {
     "data": {
      "text/plain": [
       "17.06419644981845"
      ]
     },
     "execution_count": 47,
     "metadata": {},
     "output_type": "execute_result"
    }
   ],
   "source": [
    "all_affinities[4]"
   ]
  },
  {
   "cell_type": "code",
   "execution_count": 48,
   "id": "895eda2b-417d-4c7c-90c6-a4f22abcd11b",
   "metadata": {},
   "outputs": [
    {
     "data": {
      "text/plain": [
       "array([0., 0., 0., 0., 0.])"
      ]
     },
     "execution_count": 48,
     "metadata": {},
     "output_type": "execute_result"
    }
   ],
   "source": [
    "all_eigvals_complex[4]"
   ]
  },
  {
   "cell_type": "code",
   "execution_count": 49,
   "id": "34a3681f-990f-4523-bab6-a68730974dc2",
   "metadata": {},
   "outputs": [
    {
     "data": {
      "text/plain": [
       "array([1.242898e+01, 1.200200e-01, 1.050000e-03, 4.058400e-01,\n",
       "       6.570000e-03, 2.298000e-02, 7.555000e-02, 2.879300e-01,\n",
       "       3.520000e-03, 1.699200e-01])"
      ]
     },
     "execution_count": 49,
     "metadata": {},
     "output_type": "execute_result"
    }
   ],
   "source": [
    "all_labels[4,:]"
   ]
  },
  {
   "cell_type": "code",
   "execution_count": 50,
   "id": "4af9a6aa-9af3-45e0-8543-e685d1567838",
   "metadata": {},
   "outputs": [
    {
     "data": {
      "text/plain": [
       "{(1, 2): 285.94555,\n",
       " (1, 5): 0.00545,\n",
       " (2, 1): 0.02853,\n",
       " (2, 3): 0.04782,\n",
       " (3, 2): 1.84272,\n",
       " (3, 4): 197.76658,\n",
       " (4, 3): 0.01372,\n",
       " (4, 5): 0.64484,\n",
       " (5, 4): 64.03117,\n",
       " (5, 1): 620.1063}"
      ]
     },
     "execution_count": 50,
     "metadata": {},
     "output_type": "execute_result"
    }
   ],
   "source": [
    "label_dict # just to see the order of rates\n",
    "#k12, k15, k21, k23, k32, k34, k43, k45, k54, k51 = "
   ]
  },
  {
   "cell_type": "markdown",
   "id": "20b39730-8411-4ca6-b749-c8266b233b02",
   "metadata": {},
   "source": [
    "More formal workflow"
   ]
  },
  {
   "cell_type": "code",
   "execution_count": 51,
   "id": "6987e8bb-bbff-4d34-9465-f3f2ea5354fe",
   "metadata": {},
   "outputs": [],
   "source": [
    "def unicycle_graph(n):\n",
    "    \"\"\"\n",
    "    Generates a reversible unicyclic linear framework graph of size n.\n",
    "    \n",
    "    Parameters\n",
    "    ----------\n",
    "    n : integer\n",
    "        the size (or number of vertices) of the graph\n",
    "    \n",
    "    Returns\n",
    "    -------\n",
    "    G : NetworkX DiGraph object\n",
    "        directed graph\n",
    "    \n",
    "    G_ud : NetworkX Graph object\n",
    "        undirected graph\n",
    "    \"\"\"\n",
    "    \n",
    "    G = nx.DiGraph()\n",
    "    G_ud = nx.Graph()\n",
    "    \n",
    "    # determine the number of nodes in G\n",
    "    G_size = n\n",
    "    \n",
    "    # add nodes to G and G_ud\n",
    "    nodes = np.arange(1,G_size+1,step=1)\n",
    "    G.add_nodes_from(nodes)\n",
    "    G_ud.add_nodes_from(nodes)\n",
    "    \n",
    "    for i in range(2,G_size+1):\n",
    "        u = i-1\n",
    "        v = i\n",
    "        G.add_edge(u,v)\n",
    "        G.add_edge(v,u)\n",
    "        G_ud.add_edge(u,v)\n",
    "        \n",
    "    G.add_edge(G_size,1)\n",
    "    G.add_edge(1,G_size)\n",
    "    G_ud.add_edge(1,G_size)\n",
    "    \n",
    "    return G, G_ud"
   ]
  },
  {
   "cell_type": "code",
   "execution_count": 52,
   "id": "686cbac7-c149-463b-aab0-9afeaaba1d2c",
   "metadata": {},
   "outputs": [],
   "source": [
    "G, G_ud = unicycle_graph(5)"
   ]
  },
  {
   "cell_type": "code",
   "execution_count": 53,
   "id": "8c4a6342-3f48-4a89-aacc-ccd3641bd521",
   "metadata": {},
   "outputs": [],
   "source": [
    "nodes = list(G.nodes())"
   ]
  },
  {
   "cell_type": "code",
   "execution_count": 54,
   "id": "edffe9cf-1079-4e28-9e15-6528b355dda4",
   "metadata": {},
   "outputs": [
    {
     "data": {
      "image/png": "[encoded data removed]",
      "text/plain": [
       "<Figure size 432x288 with 1 Axes>"
      ]
     },
     "metadata": {},
     "output_type": "display_data"
    }
   ],
   "source": [
    "node_labels = {}\n",
    "\n",
    "for node in nodes:\n",
    "    node_labels[node] = str(node)\n",
    "\n",
    "nx.draw(G, pos=nx.circular_layout(G), labels=node_labels, with_labels=True,node_size=2000, node_color = 'lightgray', font_size=18, font_color='black', font_family='sans-serif')"
   ]
  },
  {
   "cell_type": "code",
   "execution_count": 55,
   "id": "178bc02b-bf1e-41bf-abb4-bb96d0ffff95",
   "metadata": {},
   "outputs": [],
   "source": [
    "node_list = get_nodes(G)\n",
    "num_nodes = G_size\n",
    "edge_list = get_edges(G)\n",
    "\n",
    "# not needed for 3-cycle graph but we need the data structures\n",
    "cycle_list = get_cycles(G_ud)\n",
    "num_cycles = len(cycle_list)"
   ]
  },
  {
   "cell_type": "code",
   "execution_count": 56,
   "id": "dc4cd8d1-f2bf-437e-9dba-f6848f4077cd",
   "metadata": {},
   "outputs": [
    {
     "data": {
      "text/plain": [
       "[[2, 3, 4, 5, 1]]"
      ]
     },
     "execution_count": 56,
     "metadata": {},
     "output_type": "execute_result"
    }
   ],
   "source": [
    "cycle_list"
   ]
  },
  {
   "cell_type": "code",
   "execution_count": 57,
   "id": "4951b666-3f4d-42bd-80b9-c4236c08a508",
   "metadata": {},
   "outputs": [
    {
     "data": {
      "text/plain": [
       "array([[1, 2],\n",
       "       [1, 5],\n",
       "       [2, 1],\n",
       "       [2, 3],\n",
       "       [3, 2],\n",
       "       [3, 4],\n",
       "       [4, 3],\n",
       "       [4, 5],\n",
       "       [5, 4],\n",
       "       [5, 1]])"
      ]
     },
     "execution_count": 57,
     "metadata": {},
     "output_type": "execute_result"
    }
   ],
   "source": [
    "np.array(G.edges)"
   ]
  },
  {
   "cell_type": "code",
   "execution_count": 58,
   "id": "44aa0a03-eee1-4b99-8f03-00a10360c06d",
   "metadata": {
    "tags": []
   },
   "outputs": [],
   "source": [
    "edge_tracker = []\n",
    "edge_labels_forward = np.array([])\n",
    "edge_labels_backward = np.array([])\n",
    "\n",
    "for i in range(num_nodes-1):\n",
    "    u = cycle_list[0][i]\n",
    "    v = cycle_list[0][i+1]\n",
    "    \n",
    "    G[u][v]['weight'] = 2.0\n",
    "    edge_labels_forward = np.append(edge_labels_forward, 2.0)\n",
    "    \n",
    "    G[v][u]['weight'] = 1.0\n",
    "    edge_labels_backward = np.append(edge_labels_backward, 1.0)\n",
    "\n",
    "G[cycle_list[0][-1]][cycle_list[0][0]]['weight'] = 2.0\n",
    "edge_labels_forward = np.append(edge_labels_forward, 2.0)\n",
    "G[cycle_list[0][0]][cycle_list[0][-1]]['weight'] = 1.0\n",
    "edge_labels_backward = np.append(edge_labels_backward, 1.0)"
   ]
  },
  {
   "cell_type": "code",
   "execution_count": 59,
   "id": "337bb5fd-53b8-4876-a7f9-9bc65cd3580c",
   "metadata": {},
   "outputs": [
    {
     "data": {
      "text/plain": [
       "{(1, 2): 2.0,\n",
       " (1, 5): 1.0,\n",
       " (2, 1): 1.0,\n",
       " (2, 3): 2.0,\n",
       " (3, 2): 1.0,\n",
       " (3, 4): 2.0,\n",
       " (4, 3): 1.0,\n",
       " (4, 5): 2.0,\n",
       " (5, 4): 1.0,\n",
       " (5, 1): 2.0}"
      ]
     },
     "execution_count": 59,
     "metadata": {},
     "output_type": "execute_result"
    }
   ],
   "source": [
    "label_dict = {e: G[e[0]][e[1]]['weight'] for e in G.edges}\n",
    "label_dict"
   ]
  },
  {
   "cell_type": "code",
   "execution_count": 60,
   "id": "b5a27900-2bc3-4111-a5e3-b968d4bb09f8",
   "metadata": {},
   "outputs": [],
   "source": [
    "label_list = np.fromiter(label_dict.values(), dtype=float)"
   ]
  },
  {
   "cell_type": "code",
   "execution_count": 61,
   "id": "5593515b-8b60-49f9-9798-c2257ae9027d",
   "metadata": {},
   "outputs": [
    {
     "data": {
      "text/plain": [
       "array([[-3.,  2.,  0.,  0.,  1.],\n",
       "       [ 1., -3.,  2.,  0.,  0.],\n",
       "       [ 0.,  1., -3.,  2.,  0.],\n",
       "       [ 0.,  0.,  1., -3.,  2.],\n",
       "       [ 2.,  0.,  0.,  1., -3.]], dtype=float128)"
      ]
     },
     "execution_count": 61,
     "metadata": {},
     "output_type": "execute_result"
    }
   ],
   "source": [
    "W = Laplacian_all(edge_list,label_list,node_list)\n",
    "W"
   ]
  },
  {
   "cell_type": "code",
   "execution_count": 62,
   "id": "7fce59d2-db46-4855-983f-9d168216431e",
   "metadata": {},
   "outputs": [
    {
     "data": {
      "text/plain": [
       "3.4657359027997265"
      ]
     },
     "execution_count": 62,
     "metadata": {},
     "output_type": "execute_result"
    }
   ],
   "source": [
    "affinity = np.log(np.prod(edge_labels_forward)/np.prod(edge_labels_backward))\n",
    "affinity"
   ]
  },
  {
   "cell_type": "code",
   "execution_count": 63,
   "id": "6e4b0cb8-30e4-4664-b913-f810eb51850a",
   "metadata": {},
   "outputs": [],
   "source": [
    "p = np.zeros((1,10))\n",
    "p[0] = 1"
   ]
  },
  {
   "cell_type": "code",
   "execution_count": 64,
   "id": "122697a5-a658-4b4b-8d0e-ceba7590790d",
   "metadata": {},
   "outputs": [],
   "source": [
    "# Function to compute the correlation function C(t)\n",
    "def correlation_function_general(t, W, n):\n",
    "    exp_Wt = expm(W * t) # Compute the matrix exponential e^(Wt)\n",
    "    #p = np.zeros((1,n))\n",
    "    #p[0] = 1\n",
    "    #return (exp_Wt[0]*p)[0] # e^(Wt)[11] Prob of being in 1 at time t given was in 1 at time 0\n",
    "    return exp_Wt[0][0]"
   ]
  },
  {
   "cell_type": "markdown",
   "id": "d0a0dd4a-4a48-4c4e-a587-9aae7c61f192",
   "metadata": {},
   "source": [
    "Checks"
   ]
  },
  {
   "cell_type": "code",
   "execution_count": 65,
   "id": "fde93edb-1727-478f-ba4b-7fc465fd6f4f",
   "metadata": {},
   "outputs": [
    {
     "name": "stdout",
     "output_type": "stream",
     "text": [
      "2 3\n",
      "3 4\n",
      "4 5\n",
      "5 1\n",
      "1 2\n"
     ]
    }
   ],
   "source": [
    "for i in range(num_nodes-1):\n",
    "    print(cycle_list[0][i], cycle_list[0][i+1])\n",
    "print(cycle_list[0][-1], cycle_list[0][0])"
   ]
  },
  {
   "cell_type": "code",
   "execution_count": 66,
   "id": "7b5d9830-6b99-436b-a01e-723aa44d1589",
   "metadata": {},
   "outputs": [
    {
     "data": {
      "text/plain": [
       "32.0"
      ]
     },
     "execution_count": 66,
     "metadata": {},
     "output_type": "execute_result"
    }
   ],
   "source": [
    "np.prod(edge_labels_forward)"
   ]
  },
  {
   "cell_type": "code",
   "execution_count": 67,
   "id": "d5b6075f-e702-4f23-9813-7209fcebe731",
   "metadata": {},
   "outputs": [
    {
     "data": {
      "text/plain": [
       "1267650600228229401496703205376"
      ]
     },
     "execution_count": 67,
     "metadata": {},
     "output_type": "execute_result"
    }
   ],
   "source": [
    "2**100"
   ]
  },
  {
   "cell_type": "code",
   "execution_count": 68,
   "id": "4910b210-4187-4493-935d-7633ecc172f7",
   "metadata": {},
   "outputs": [
    {
     "data": {
      "text/plain": [
       "1.0"
      ]
     },
     "execution_count": 68,
     "metadata": {},
     "output_type": "execute_result"
    }
   ],
   "source": [
    "np.prod(edge_labels_backward)"
   ]
  },
  {
   "cell_type": "markdown",
   "id": "d548b52c-18c8-4fcc-bcd3-be54e1fd3634",
   "metadata": {},
   "source": [
    "Recreate Barato Seifert 2017"
   ]
  },
  {
   "cell_type": "code",
   "execution_count": 290,
   "id": "4f2b50eb-82ef-4ec3-9bc3-baba05d6372d",
   "metadata": {},
   "outputs": [],
   "source": [
    "G, G_ud = unicycle_graph(100)"
   ]
  },
  {
   "cell_type": "code",
   "execution_count": 291,
   "id": "17d7758a-04d9-485c-b340-8bccbd22ce45",
   "metadata": {},
   "outputs": [],
   "source": [
    "node_list = get_nodes(G)\n",
    "num_nodes = len(node_list)\n",
    "edge_list = get_edges(G)\n",
    "\n",
    "cycle_list = get_cycles(G_ud)\n",
    "num_cycles = len(cycle_list)"
   ]
  },
  {
   "cell_type": "code",
   "execution_count": 292,
   "id": "941828c1-1ad8-4e13-9887-84eb4f4d535a",
   "metadata": {},
   "outputs": [
    {
     "data": {
      "image/png": "[encoded data removed]",
      "text/plain": [
       "<Figure size 432x288 with 1 Axes>"
      ]
     },
     "metadata": {},
     "output_type": "display_data"
    }
   ],
   "source": [
    "node_labels = {}\n",
    "\n",
    "for node in node_list:\n",
    "    node_labels[node] = str(node)\n",
    "\n",
    "nx.draw(G, pos=nx.circular_layout(G), labels=node_labels, with_labels=True,node_size=50, node_color = 'lightgray', font_size=10, font_color='black', font_family='sans-serif')"
   ]
  },
  {
   "cell_type": "code",
   "execution_count": 293,
   "id": "4cc52854-6c2f-4b16-93da-2255fe759d3c",
   "metadata": {},
   "outputs": [],
   "source": [
    "edge_labels_forward = np.array([])\n",
    "edge_labels_backward = np.array([])\n",
    "\n",
    "for i in range(num_nodes-1):\n",
    "    u = cycle_list[0][i]\n",
    "    v = cycle_list[0][i+1]\n",
    "    \n",
    "    G[u][v]['weight'] = 7.4\n",
    "    edge_labels_forward = np.append(edge_labels_forward, 7.4)\n",
    "    \n",
    "    G[v][u]['weight'] = 1.0\n",
    "    edge_labels_backward = np.append(edge_labels_backward, 1.0)\n",
    "\n",
    "G[cycle_list[0][-1]][cycle_list[0][0]]['weight'] = 7.4\n",
    "edge_labels_forward = np.append(edge_labels_forward, 7.4)\n",
    "G[cycle_list[0][0]][cycle_list[0][-1]]['weight'] = 1.0\n",
    "edge_labels_backward = np.append(edge_labels_backward, 1.0)"
   ]
  },
  {
   "cell_type": "code",
   "execution_count": 294,
   "id": "251ca07d-89ad-43d8-b390-4bf63b406b9e",
   "metadata": {},
   "outputs": [],
   "source": [
    "label_dict = {e: G[e[0]][e[1]]['weight'] for e in G.edges}"
   ]
  },
  {
   "cell_type": "code",
   "execution_count": 295,
   "id": "42af66c2-fa06-49f1-b1b0-3d4c377c08a5",
   "metadata": {},
   "outputs": [],
   "source": [
    "label_list = np.fromiter(label_dict.values(), dtype=float)"
   ]
  },
  {
   "cell_type": "code",
   "execution_count": 296,
   "id": "044d1ed7-7431-4f07-a2c8-8ea5015f832c",
   "metadata": {},
   "outputs": [],
   "source": [
    "W = Laplacian_all(edge_list,label_list,node_list)"
   ]
  },
  {
   "cell_type": "code",
   "execution_count": 297,
   "id": "b5a706bd-2403-479e-b29e-63f3df77b23a",
   "metadata": {},
   "outputs": [
    {
     "data": {
      "text/plain": [
       "200.14800002101242"
      ]
     },
     "execution_count": 297,
     "metadata": {},
     "output_type": "execute_result"
    }
   ],
   "source": [
    "affinity = np.log(np.prod(edge_labels_forward)/np.prod(edge_labels_backward))\n",
    "affinity"
   ]
  },
  {
   "cell_type": "code",
   "execution_count": 310,
   "id": "8d0e1bca-0956-4675-b051-23a35147292b",
   "metadata": {},
   "outputs": [
    {
     "name": "stdout",
     "output_type": "stream",
     "text": [
      "0.40185932498760435 16.78342451879749\n",
      "decay time: 0.05958259584508494\n",
      "period: 15.635285575053897\n",
      "number coherent oscillations: 0.03761086725011428\n"
     ]
    }
   ],
   "source": [
    "# eigenvalues of W\n",
    "W = Laplacian_all(edge_list,label_list,node_list)\n",
    "eigvals, eigvecs = scipy.linalg.eig(W)\n",
    "\n",
    "x_i = np.abs(eigvals[1].imag)\n",
    "x_r = np.abs(eigvals[1].real)\n",
    "\n",
    "print(x_i, x_r)\n",
    "\n",
    "# decay time\n",
    "tau = 1/x_r\n",
    "print(\"decay time: \" + str(tau))\n",
    "\n",
    "# oscillation period\n",
    "omega = (2*math.pi)/x_i\n",
    "print(\"period: \" + str(omega))\n",
    "\n",
    "# number of coherent oscillations\n",
    "R = x_i/x_r\n",
    "print(\"number coherent oscillations: \" + str(R/2*math.pi))\n",
    "\n",
    "# Time points for the plot\n",
    "times = np.linspace(100, 250, 500)  # time from 0 to 1.5 with 500 points\n",
    "# Compute C(t) for each time point\n",
    "correlation_values = [correlation_function_general(t, W, n=100) for t in times]"
   ]
  },
  {
   "cell_type": "code",
   "execution_count": 311,
   "id": "c1527019-44c3-4336-b42e-785f88806de7",
   "metadata": {},
   "outputs": [
    {
     "data": {
      "image/png": "[encoded data removed]",
      "text/plain": [
       "<Figure size 1008x864 with 1 Axes>"
      ]
     },
     "metadata": {
      "needs_background": "light"
     },
     "output_type": "display_data"
    }
   ],
   "source": [
    "fig, ax = plt.subplots(figsize = (14, 12))\n",
    "plt.plot(times, correlation_values, color = \"orangered\", linewidth=2, label='C(t)')\n",
    "plt.xlabel(r'Time ($t$)')\n",
    "plt.ylabel(r'Correlation Function $C_{1,1}(t)$')\n",
    "plt.title('Correlation Function in a 100-State System')\n",
    "plt.legend()\n",
    "plt.grid()\n",
    "plt.show()"
   ]
  },
  {
   "cell_type": "markdown",
   "id": "d59b6162-54bf-4fab-b093-8976001564dd",
   "metadata": {},
   "source": [
    "What's the minimum number of states to get reasonable oscillations?"
   ]
  },
  {
   "cell_type": "code",
   "execution_count": 149,
   "id": "ed6cdb5b-86f3-41a4-bd17-ebb98827abd6",
   "metadata": {},
   "outputs": [],
   "source": [
    "G, G_ud = unicycle_graph(35)"
   ]
  },
  {
   "cell_type": "code",
   "execution_count": 150,
   "id": "2654a8d5-0be3-448f-bbe4-c49fac620ed1",
   "metadata": {},
   "outputs": [],
   "source": [
    "node_list = get_nodes(G)\n",
    "num_nodes = len(node_list)\n",
    "edge_list = get_edges(G)\n",
    "\n",
    "cycle_list = get_cycles(G_ud)\n",
    "num_cycles = len(cycle_list)"
   ]
  },
  {
   "cell_type": "code",
   "execution_count": 151,
   "id": "bfad3d3a-59e4-4683-ac2a-191ab3c4a973",
   "metadata": {},
   "outputs": [
    {
     "data": {
      "image/png": "[encoded data removed]",
      "text/plain": [
       "<Figure size 432x288 with 1 Axes>"
      ]
     },
     "metadata": {},
     "output_type": "display_data"
    }
   ],
   "source": [
    "node_labels = {}\n",
    "\n",
    "for node in node_list:\n",
    "    node_labels[node] = str(node)\n",
    "\n",
    "nx.draw(G, pos=nx.circular_layout(G), labels=node_labels, with_labels=True,node_size=1000, node_color = 'lightgray', font_size=20, font_color='black', font_family='sans-serif')"
   ]
  },
  {
   "cell_type": "code",
   "execution_count": 152,
   "id": "c0631957-c178-44f3-a079-34a5263ff70d",
   "metadata": {},
   "outputs": [],
   "source": [
    "edge_labels_forward = np.array([])\n",
    "edge_labels_backward = np.array([])\n",
    "\n",
    "for i in range(num_nodes-1):\n",
    "    u = cycle_list[0][i]\n",
    "    v = cycle_list[0][i+1]\n",
    "    \n",
    "    G[u][v]['weight'] = 7.4\n",
    "    edge_labels_forward = np.append(edge_labels_forward, 2.0)\n",
    "    \n",
    "    G[v][u]['weight'] = 1.0\n",
    "    edge_labels_backward = np.append(edge_labels_backward, 1.0)\n",
    "\n",
    "G[cycle_list[0][-1]][cycle_list[0][0]]['weight'] = 2.0\n",
    "edge_labels_forward = np.append(edge_labels_forward, 2.0)\n",
    "G[cycle_list[0][0]][cycle_list[0][-1]]['weight'] = 1.0\n",
    "edge_labels_backward = np.append(edge_labels_backward, 1.0)"
   ]
  },
  {
   "cell_type": "code",
   "execution_count": 153,
   "id": "df1ff8ca-6ef9-47ac-9e33-938e5c99dfbf",
   "metadata": {},
   "outputs": [],
   "source": [
    "label_dict = {e: G[e[0]][e[1]]['weight'] for e in G.edges}"
   ]
  },
  {
   "cell_type": "code",
   "execution_count": 154,
   "id": "029c1ca7-e878-41a5-bd3c-6fb5d5545a5e",
   "metadata": {},
   "outputs": [],
   "source": [
    "label_list = np.fromiter(label_dict.values(), dtype=float)"
   ]
  },
  {
   "cell_type": "code",
   "execution_count": 155,
   "id": "1d74204a-c327-4a2c-87d8-177810979e8f",
   "metadata": {},
   "outputs": [],
   "source": [
    "W = Laplacian_all(edge_list,label_list,node_list)"
   ]
  },
  {
   "cell_type": "code",
   "execution_count": 156,
   "id": "0b400efe-8400-4cca-82d7-af9149144f13",
   "metadata": {},
   "outputs": [
    {
     "data": {
      "text/plain": [
       "24.260151319598087"
      ]
     },
     "execution_count": 156,
     "metadata": {},
     "output_type": "execute_result"
    }
   ],
   "source": [
    "affinity = np.log(np.prod(edge_labels_forward)/np.prod(edge_labels_backward))\n",
    "affinity"
   ]
  },
  {
   "cell_type": "code",
   "execution_count": 157,
   "id": "eedc5525-6b88-4ddd-9529-91097b374094",
   "metadata": {},
   "outputs": [
    {
     "name": "stdout",
     "output_type": "stream",
     "text": [
      "0.5428653464530593 16.410970113528617\n",
      "decay time: 0.06093484986458148\n",
      "period: 11.574113817049259\n",
      "number coherent oscillations: 0.05196102888821567\n"
     ]
    }
   ],
   "source": [
    "# eigenvalues of W\n",
    "W = Laplacian_all(edge_list,label_list,node_list)\n",
    "eigvals, eigvecs = scipy.linalg.eig(W)\n",
    "\n",
    "x_i = np.abs(eigvals[1].imag)\n",
    "x_r = np.abs(eigvals[1].real)\n",
    "\n",
    "print(x_i, x_r)\n",
    "\n",
    "# decay time\n",
    "tau = 1/x_r\n",
    "print(\"decay time: \" + str(tau))\n",
    "\n",
    "# oscillation period\n",
    "omega = (2*math.pi)/x_i\n",
    "print(\"period: \" + str(omega))\n",
    "\n",
    "# number of coherent oscillations\n",
    "R = x_i/x_r\n",
    "print(\"number coherent oscillations: \" + str(R/2*math.pi))\n",
    "\n",
    "# Time points for the plot\n",
    "times = np.linspace(100, 250, 500)  # time from 0 to 1.5 with 500 points\n",
    "# Compute C(t) for each time point\n",
    "correlation_values = [correlation_function_general(t, W, n=100) for t in times]"
   ]
  },
  {
   "cell_type": "code",
   "execution_count": 158,
   "id": "5651a563-bad0-4870-ae09-af032628ecbd",
   "metadata": {},
   "outputs": [
    {
     "data": {
      "image/png": "[encoded data removed]",
      "text/plain": [
       "<Figure size 1008x864 with 1 Axes>"
      ]
     },
     "metadata": {
      "needs_background": "light"
     },
     "output_type": "display_data"
    }
   ],
   "source": [
    "fig, ax = plt.subplots(figsize = (14, 12))\n",
    "plt.plot(times, correlation_values, color = \"orangered\", linewidth=2, label='C(t)')\n",
    "plt.xlabel(r'Time ($t$)')\n",
    "plt.ylabel(r'Correlation Function $C_{1,1}(t)$')\n",
    "plt.title('Correlation Function in a 50-State System')\n",
    "plt.legend()\n",
    "plt.grid()\n",
    "plt.show()"
   ]
  },
  {
   "cell_type": "markdown",
   "id": "5b2e962d-8319-40f9-b492-73dd6159ccaf",
   "metadata": {},
   "source": [
    "Question: why is the $\\mathcal{R}$ quantity not matching up to the paper?"
   ]
  },
  {
   "cell_type": "code",
   "execution_count": null,
   "id": "85f397f1-9e31-4c1e-945b-97a49b91a482",
   "metadata": {},
   "outputs": [],
   "source": []
  }
 ],
 "metadata": {
  "kernelspec": {
   "display_name": "Python 3 (ipykernel)",
   "language": "python",
   "name": "python3"
  },
  "language_info": {
   "codemirror_mode": {
    "name": "ipython",
    "version": 3
   },
   "file_extension": ".py",
   "mimetype": "text/x-python",
   "name": "python",
   "nbconvert_exporter": "python",
   "pygments_lexer": "ipython3",
   "version": "3.9.19"
  }
 },
 "nbformat": 4,
 "nbformat_minor": 5
}
