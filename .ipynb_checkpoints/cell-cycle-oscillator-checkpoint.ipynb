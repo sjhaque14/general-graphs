{
 "cells": [
  {
   "cell_type": "code",
   "execution_count": 1,
   "id": "a754faf4-8782-4093-a280-2311dc2aba5c",
   "metadata": {},
   "outputs": [],
   "source": [
    "import numpy as np\n",
    "import scipy.linalg\n",
    "import networkx as nx\n",
    "import matplotlib.pyplot as plt\n",
    "import math\n",
    "from tqdm import tqdm\n",
    "\n",
    "from scipy.linalg import expm\n",
    "from scipy.linalg import null_space\n",
    "\n",
    "from general_graph_utils import *"
   ]
  },
  {
   "cell_type": "code",
   "execution_count": 2,
   "id": "94121850-b431-4c7a-a80b-34bc994b497b",
   "metadata": {},
   "outputs": [],
   "source": [
    "def affinity(k12,k21,k23,k32,k31,k13):\n",
    "    aff = np.log((k12*k23*k31)/(k13*k32*k21))\n",
    "    return aff"
   ]
  },
  {
   "cell_type": "code",
   "execution_count": 3,
   "id": "10d2086d-1aae-4c95-9428-f74d23ae0ad7",
   "metadata": {},
   "outputs": [],
   "source": [
    "# Transition rate matrix W\n",
    "def transition_matrix(k12,k21,k23,k32,k31,k13):\n",
    "    W = np.array([\n",
    "        [-k12 - k13, k21, k31],  # Transition rates from E1\n",
    "        [k12, -k21 - k23, k32],  # Transition rates from E2\n",
    "        [k13, k23, -k31 - k32],  # Transition rates from E3\n",
    "    ])\n",
    "    return W"
   ]
  },
  {
   "cell_type": "code",
   "execution_count": 4,
   "id": "27e3554c-ef5f-471b-aded-1936836dfd41",
   "metadata": {},
   "outputs": [],
   "source": [
    "# Function to compute the correlation function C(t)\n",
    "def correlation_function(t, W):\n",
    "    exp_Wt = expm(W * t) # Compute the matrix exponential e^(Wt)\n",
    "    p = [1,0,0]\n",
    "    return (exp_Wt[0]*p)[0] # e^(Wt)[11] Prob of being in 1 at time t given was in 1 at time 0"
   ]
  },
  {
   "cell_type": "markdown",
   "id": "2d3822e3-58c8-4a46-9f80-b10eee5d980f",
   "metadata": {},
   "source": [
    "All rates = 1.0"
   ]
  },
  {
   "cell_type": "code",
   "execution_count": 5,
   "id": "77f99b23-ac73-4cb5-bb54-c5323c6122dc",
   "metadata": {},
   "outputs": [
    {
     "name": "stdout",
     "output_type": "stream",
     "text": [
      "force: 0.0\n",
      "eigenvalues: [-3.0000000e+00+0.j  4.4408921e-16+0.j -3.0000000e+00+0.j]\n",
      "decay time: 2251799813685248.0\n",
      "period: inf\n",
      "number coherent oscillations: 0.0\n"
     ]
    },
    {
     "name": "stderr",
     "output_type": "stream",
     "text": [
      "/var/folders/ch/f1rl6h5x4fx2wbg2_f5bj5dw0000gn/T/ipykernel_6847/82439275.py:21: RuntimeWarning: divide by zero encountered in double_scalars\n",
      "  omega = (2*math.pi)/x_i\n"
     ]
    }
   ],
   "source": [
    "k12, k21 = 1.0, 1.0  # Rates between E1 and E2\n",
    "k23, k32 = 1.0, 1.0  # Rates between E2 and E3\n",
    "k31, k13 = 1.0, 1.0  # Rates between E3 and E1\n",
    "\n",
    "# force\n",
    "print(\"force: \" + str(affinity(k12,k21,k23,k32,k31,k13)))\n",
    "\n",
    "# eigenvalues of W\n",
    "W = transition_matrix(k12,k21,k23,k32,k31,k13)\n",
    "eigvals, eigvecs = scipy.linalg.eig(W)\n",
    "print(\"eigenvalues: \" + str(eigvals))\n",
    "\n",
    "x_i = np.abs(eigvals[1].imag)\n",
    "x_r = np.abs(eigvals[1].real)\n",
    "\n",
    "# decay time\n",
    "tau = 1/x_r\n",
    "print(\"decay time: \" + str(tau))\n",
    "\n",
    "# oscillation period\n",
    "omega = (2*math.pi)/x_i\n",
    "print(\"period: \" + str(omega))\n",
    "\n",
    "# number of coherent oscillations\n",
    "R = x_i/x_r\n",
    "print(\"number coherent oscillations: \" + str(R/2*math.pi))\n",
    "\n",
    "# Time points for the plot\n",
    "times = np.linspace(0, 4, 500)  # time from 0 to 4 with 500 points\n",
    "# Compute C(t) for each time point\n",
    "correlation_values = [correlation_function(t, W) for t in times]"
   ]
  },
  {
   "cell_type": "code",
   "execution_count": 6,
   "id": "f421d87f-b128-4ea8-81d5-d23cd8a85579",
   "metadata": {},
   "outputs": [
    {
     "data": {
      "image/png": "[encoded data removed]",
      "text/plain": [
       "<Figure size 432x288 with 1 Axes>"
      ]
     },
     "metadata": {
      "needs_background": "light"
     },
     "output_type": "display_data"
    }
   ],
   "source": [
    "plt.plot(times, correlation_values, label='C(t)')\n",
    "plt.xlabel('Time (t)')\n",
    "plt.ylabel('Correlation Function C(t)')\n",
    "plt.title('Correlation Function in a Three-State System')\n",
    "plt.legend()\n",
    "plt.grid()\n",
    "plt.show()"
   ]
  },
  {
   "cell_type": "markdown",
   "id": "7ae6834d-f1d6-4a9a-859b-9bf98e008d6a",
   "metadata": {},
   "source": [
    "$\\mathcal{A}$ = 1.0"
   ]
  },
  {
   "cell_type": "code",
   "execution_count": 7,
   "id": "7e9af4e3-82e0-4c94-b9a5-0af65ff6541c",
   "metadata": {},
   "outputs": [
    {
     "name": "stdout",
     "output_type": "stream",
     "text": [
      "force: 1.0986122886681098\n",
      "eigenvalues: [ 4.4408921e-16+0.j -3.5000000e+00+0.j -4.5000000e+00+0.j]\n",
      "decay time: 0.2857142857142857\n",
      "period: inf\n",
      "number coherent oscillations: 0.0\n"
     ]
    },
    {
     "name": "stderr",
     "output_type": "stream",
     "text": [
      "/var/folders/ch/f1rl6h5x4fx2wbg2_f5bj5dw0000gn/T/ipykernel_6847/1173931952.py:21: RuntimeWarning: divide by zero encountered in double_scalars\n",
      "  omega = (2*math.pi)/x_i\n"
     ]
    }
   ],
   "source": [
    "k12, k21 = 1.0, 2.0  # Rates between E1 and E2\n",
    "k23, k32 = 1.5, 1.0  # Rates between E2 and E3\n",
    "k31, k13 = 2.0, 0.5  # Rates between E3 and E1\n",
    "\n",
    "# force\n",
    "print(\"force: \" + str(affinity(k12,k21,k23,k32,k31,k13)))\n",
    "\n",
    "# eigenvalues of W\n",
    "W = transition_matrix(k12,k21,k23,k32,k31,k13)\n",
    "eigvals, eigvecs = scipy.linalg.eig(W)\n",
    "print(\"eigenvalues: \" + str(eigvals))\n",
    "\n",
    "x_i = np.abs(eigvals[1].imag)\n",
    "x_r = np.abs(eigvals[1].real)\n",
    "\n",
    "# decay time\n",
    "tau = 1/x_r\n",
    "print(\"decay time: \" + str(tau))\n",
    "\n",
    "# oscillation period\n",
    "omega = (2*math.pi)/x_i\n",
    "print(\"period: \" + str(omega))\n",
    "\n",
    "# number of coherent oscillations\n",
    "R = x_i/x_r\n",
    "print(\"number coherent oscillations: \" + str(R/2*math.pi))\n",
    "\n",
    "# Time points for the plot\n",
    "times = np.linspace(0, 4, 500)  # time from 0 to 4 with 500 points\n",
    "# Compute C(t) for each time point\n",
    "correlation_values = [correlation_function(t, W) for t in times]"
   ]
  },
  {
   "cell_type": "code",
   "execution_count": 8,
   "id": "d7418b67-593a-46f6-8227-26332582c6ea",
   "metadata": {},
   "outputs": [
    {
     "data": {
      "image/png": "[encoded data removed]",
      "text/plain": [
       "<Figure size 432x288 with 1 Axes>"
      ]
     },
     "metadata": {
      "needs_background": "light"
     },
     "output_type": "display_data"
    }
   ],
   "source": [
    "plt.plot(times, correlation_values, label='C(t)')\n",
    "plt.xlabel('Time (t)')\n",
    "plt.ylabel('Correlation Function C(t)')\n",
    "plt.title('Correlation Function in a Three-State System')\n",
    "plt.legend()\n",
    "plt.grid()\n",
    "plt.show()"
   ]
  },
  {
   "cell_type": "markdown",
   "id": "7a22ae74-3bae-4c7e-94b6-2af8ebfc2727",
   "metadata": {},
   "source": [
    "Oscillatory transition rates"
   ]
  },
  {
   "cell_type": "code",
   "execution_count": 9,
   "id": "884ea5eb-83d7-47f5-b80c-fd9b6b65b7ad",
   "metadata": {},
   "outputs": [
    {
     "name": "stdout",
     "output_type": "stream",
     "text": [
      "force: 5.703782474656201\n",
      "eigenvalues: [-3.18595413e-16+0.j         -2.65000000e+00+0.99874922j\n",
      " -2.65000000e+00-0.99874922j]\n",
      "decay time: 0.3773584905660376\n",
      "period: 6.291054045776005\n",
      "number coherent oscillations: 0.5920119255341094\n"
     ]
    }
   ],
   "source": [
    "# Oscillatory transition rates\n",
    "k12, k21 = 1.0, 0.5  # Rates between E1 and E2\n",
    "k23, k32 = 1.5, 0.2  # Rates between E2 and E3\n",
    "k31, k13 = 2.0, 0.1  # Rates between E3 and E1\n",
    "\n",
    "# force\n",
    "print(\"force: \" + str(affinity(k12,k21,k23,k32,k31,k13)))\n",
    "\n",
    "# eigenvalues of W\n",
    "W = transition_matrix(k12,k21,k23,k32,k31,k13)\n",
    "eigvals, eigvecs = scipy.linalg.eig(W)\n",
    "print(\"eigenvalues: \" + str(eigvals))\n",
    "\n",
    "x_i = np.abs(eigvals[1].imag)\n",
    "x_r = np.abs(eigvals[1].real)\n",
    "\n",
    "# decay time\n",
    "tau = 1/x_r\n",
    "print(\"decay time: \" + str(tau))\n",
    "\n",
    "# oscillation period\n",
    "omega = (2*math.pi)/x_i\n",
    "print(\"period: \" + str(omega))\n",
    "\n",
    "# number of coherent oscillations\n",
    "R = x_i/x_r\n",
    "print(\"number coherent oscillations: \" + str(R/2*math.pi))\n",
    "\n",
    "# Time points for the plot\n",
    "times = np.linspace(0, 4, 500)  # time from 0 to 4 with 500 points\n",
    "# Compute C(t) for each time point\n",
    "correlation_values = [correlation_function(t, W) for t in times]"
   ]
  },
  {
   "cell_type": "code",
   "execution_count": 10,
   "id": "36cede54-9507-4c86-a98f-3dbf30a3cccb",
   "metadata": {},
   "outputs": [
    {
     "data": {
      "image/png": "[encoded data removed]",
      "text/plain": [
       "<Figure size 432x288 with 1 Axes>"
      ]
     },
     "metadata": {
      "needs_background": "light"
     },
     "output_type": "display_data"
    }
   ],
   "source": [
    "plt.plot(times, correlation_values, label='C(t)')\n",
    "plt.xlabel('Time (t)')\n",
    "plt.ylabel('Correlation Function C(t)')\n",
    "plt.title('Correlation Function in a Three-State System')\n",
    "plt.legend()\n",
    "plt.grid()\n",
    "plt.show()"
   ]
  },
  {
   "cell_type": "markdown",
   "id": "b27a67e4-59f4-40ab-bfd4-18838d2ea78c",
   "metadata": {},
   "source": [
    "Eigenvalues complex"
   ]
  },
  {
   "cell_type": "code",
   "execution_count": 11,
   "id": "d60eed85-1ce0-4142-a0fc-002e7ad8ad60",
   "metadata": {},
   "outputs": [
    {
     "name": "stdout",
     "output_type": "stream",
     "text": [
      "force: -7.325527183964429\n",
      "eigenvalues: [-1.48585000e-01+0.05398063j -1.48585000e-01-0.05398063j\n",
      "  2.38637456e-17+0.j        ]\n",
      "decay time: 6.730154457044786\n",
      "period: 116.39703431960048\n",
      "number coherent oscillations: 0.5706671345841586\n"
     ]
    }
   ],
   "source": [
    "# Oscillatory transition rates\n",
    "k13, k12, k23, k21, k31, k32 = 0.10536, 0.00158, 0.00805, 0.06794, 0.03089, 0.08335\n",
    "\n",
    "# force\n",
    "print(\"force: \" + str(affinity(k12,k21,k23,k32,k31,k13)))\n",
    "\n",
    "# eigenvalues of W\n",
    "W = transition_matrix(k12,k21,k23,k32,k31,k13)\n",
    "eigvals, eigvecs = scipy.linalg.eig(W)\n",
    "print(\"eigenvalues: \" + str(eigvals))\n",
    "\n",
    "x_i = np.abs(eigvals[1].imag)\n",
    "x_r = np.abs(eigvals[1].real)\n",
    "\n",
    "# decay time\n",
    "tau = 1/x_r\n",
    "print(\"decay time: \" + str(tau))\n",
    "\n",
    "# oscillation period\n",
    "omega = (2*math.pi)/x_i\n",
    "print(\"period: \" + str(omega))\n",
    "\n",
    "# number of coherent oscillations\n",
    "R = x_i/x_r\n",
    "print(\"number coherent oscillations: \" + str(R/2*math.pi))\n",
    "\n",
    "# Time points for the plot\n",
    "times = np.linspace(0, 50, 500)  # time from 0 to 50 with 500 points\n",
    "# Compute C(t) for each time point\n",
    "correlation_values = [correlation_function(t, W) for t in times]"
   ]
  },
  {
   "cell_type": "code",
   "execution_count": 12,
   "id": "f8e83ee2-7324-4f05-9a6f-c6f204beab71",
   "metadata": {},
   "outputs": [
    {
     "data": {
      "image/png": "[encoded data removed]",
      "text/plain": [
       "<Figure size 432x288 with 1 Axes>"
      ]
     },
     "metadata": {
      "needs_background": "light"
     },
     "output_type": "display_data"
    }
   ],
   "source": [
    "plt.plot(times, correlation_values, label='C(t)')\n",
    "plt.xlabel('Time (t)')\n",
    "plt.ylabel('Correlation Function C(t)')\n",
    "plt.title('Correlation Function in a Three-State System')\n",
    "plt.legend()\n",
    "plt.grid()\n",
    "plt.show()"
   ]
  },
  {
   "cell_type": "code",
   "execution_count": 13,
   "id": "23c5bf87-bbd4-4b7b-b972-b592ce554da7",
   "metadata": {},
   "outputs": [
    {
     "name": "stdout",
     "output_type": "stream",
     "text": [
      "force: 18.836219768636184\n",
      "eigenvalues: [ 3.58090794e-15+0.j         -1.70362750e+01+8.55151942j\n",
      " -1.70362750e+01-8.55151942j]\n",
      "decay time: 0.058698277645788215\n",
      "period: 0.734744903218277\n",
      "number coherent oscillations: 0.7884760776858771\n"
     ]
    }
   ],
   "source": [
    "# Oscillatory transition rates\n",
    "k13, k12, k23, k21, k31, k32 = 1.160000e-03, 1.330766e+01, 8.319220e+00, 3.330000e-03, 1.046221e+01, 1.978970e+00\n",
    "\n",
    "# force\n",
    "print(\"force: \" + str(affinity(k12,k21,k23,k32,k31,k13)))\n",
    "\n",
    "# eigenvalues of W\n",
    "W = transition_matrix(k12,k21,k23,k32,k31,k13)\n",
    "eigvals, eigvecs = scipy.linalg.eig(W)\n",
    "print(\"eigenvalues: \" + str(eigvals))\n",
    "\n",
    "x_i = np.abs(eigvals[1].imag)\n",
    "x_r = np.abs(eigvals[1].real)\n",
    "\n",
    "# decay time\n",
    "tau = 1/x_r\n",
    "print(\"decay time: \" + str(tau))\n",
    "\n",
    "# oscillation period\n",
    "omega = (2*math.pi)/x_i\n",
    "print(\"period: \" + str(omega))\n",
    "\n",
    "# number of coherent oscillations\n",
    "R = x_i/x_r\n",
    "print(\"number coherent oscillations: \" + str(R/2*math.pi))\n",
    "\n",
    "# Time points for the plot\n",
    "times = np.linspace(0, 1.5, 500)  # time from 0 to 1.5 with 500 points\n",
    "# Compute C(t) for each time point\n",
    "correlation_values = [correlation_function(t, W) for t in times]"
   ]
  },
  {
   "cell_type": "code",
   "execution_count": 14,
   "id": "dacab563-2aa5-43a6-8edf-fe3255ed36ea",
   "metadata": {},
   "outputs": [
    {
     "data": {
      "image/png": "[encoded data removed]",
      "text/plain": [
       "<Figure size 432x288 with 1 Axes>"
      ]
     },
     "metadata": {
      "needs_background": "light"
     },
     "output_type": "display_data"
    }
   ],
   "source": [
    "plt.plot(times, correlation_values, label='C(t)')\n",
    "plt.xlabel('Time (t)')\n",
    "plt.ylabel('Correlation Function C(t)')\n",
    "plt.title('Correlation Function in a Three-State System')\n",
    "plt.legend()\n",
    "plt.grid()\n",
    "plt.show()"
   ]
  },
  {
   "cell_type": "markdown",
   "id": "40053865-7710-426a-8eae-fcf31f556808",
   "metadata": {},
   "source": [
    "Totally away from equilibrium (unidirectional)"
   ]
  },
  {
   "cell_type": "code",
   "execution_count": 15,
   "id": "38915188-1271-4846-a4e8-052ddf9ee296",
   "metadata": {},
   "outputs": [
    {
     "name": "stdout",
     "output_type": "stream",
     "text": [
      "eigenvalues: [-3.00000000e+00+1.73205081j -3.00000000e+00-1.73205081j\n",
      " -6.48686449e-17+0.j        ]\n",
      "decay time: 0.3333333333333333\n",
      "period: 3.627598728468435\n",
      "number coherent oscillations: 0.906899682117109\n"
     ]
    }
   ],
   "source": [
    "# Oscillatory transition rates\n",
    "k12, k21 = 2.0, 0  # Rates between E1 and E2\n",
    "k23, k32 = 2.0, 0  # Rates between E2 and E3\n",
    "k31, k13 = 2.0, 0  # Rates between E3 and E1\n",
    "\n",
    "# force\n",
    "#print(\"force: \" + str(affinity(k12,k21,k23,k32,k31,k13)))\n",
    "\n",
    "# eigenvalues of W\n",
    "W = transition_matrix(k12,k21,k23,k32,k31,k13)\n",
    "eigvals, eigvecs = scipy.linalg.eig(W)\n",
    "print(\"eigenvalues: \" + str(eigvals))\n",
    "\n",
    "x_i = np.abs(eigvals[1].imag)\n",
    "x_r = np.abs(eigvals[1].real)\n",
    "\n",
    "# decay time\n",
    "tau = 1/x_r\n",
    "print(\"decay time: \" + str(tau))\n",
    "\n",
    "# oscillation period\n",
    "omega = (2*math.pi)/x_i\n",
    "print(\"period: \" + str(omega))\n",
    "\n",
    "# number of coherent oscillations\n",
    "R = x_i/x_r\n",
    "print(\"number coherent oscillations: \" + str(R/2*math.pi))\n",
    "\n",
    "# Time points for the plot\n",
    "times = np.linspace(0, 4, 500)  # time from 0 to 4 with 500 points\n",
    "# Compute C(t) for each time point\n",
    "correlation_values = [correlation_function(t, W) for t in times]"
   ]
  },
  {
   "cell_type": "code",
   "execution_count": 16,
   "id": "08c084ec-095c-4b2e-b922-f8f0350859ae",
   "metadata": {},
   "outputs": [
    {
     "data": {
      "image/png": "[encoded data removed]",
      "text/plain": [
       "<Figure size 432x288 with 1 Axes>"
      ]
     },
     "metadata": {
      "needs_background": "light"
     },
     "output_type": "display_data"
    }
   ],
   "source": [
    "plt.plot(times, correlation_values, label='C(t)')\n",
    "plt.xlabel('Time (t)')\n",
    "plt.ylabel('Correlation Function C(t)')\n",
    "plt.title('Correlation Function in a Three-State System')\n",
    "plt.legend()\n",
    "plt.grid()\n",
    "plt.show()"
   ]
  },
  {
   "cell_type": "code",
   "execution_count": 17,
   "id": "bd080d60-87bf-4f92-a66f-bbd84d770e39",
   "metadata": {},
   "outputs": [
    {
     "name": "stdout",
     "output_type": "stream",
     "text": [
      "force: 8.987196820661973\n",
      "eigenvalues: [-3.49536271e-15 +0.j         -3.15000000e+01+16.45448267j\n",
      " -3.15000000e+01-16.45448267j]\n",
      "decay time: 0.03174603174603172\n",
      "period: 0.3818524977335192\n",
      "number coherent oscillations: 0.8205282838202415\n"
     ]
    }
   ],
   "source": [
    "# Oscillatory transition rates\n",
    "k12, k21 = 20.0, 1.0  # Rates between E1 and E2\n",
    "k23, k32 = 20.0, 1.0  # Rates between E2 and E3\n",
    "k31, k13 = 20.0, 1.0  # Rates between E3 and E1\n",
    "\n",
    "# force\n",
    "print(\"force: \" + str(affinity(k12,k21,k23,k32,k31,k13)))\n",
    "\n",
    "# eigenvalues of W\n",
    "W = transition_matrix(k12,k21,k23,k32,k31,k13)\n",
    "eigvals, eigvecs = scipy.linalg.eig(W)\n",
    "print(\"eigenvalues: \" + str(eigvals))\n",
    "\n",
    "x_i = np.abs(eigvals[1].imag)\n",
    "x_r = np.abs(eigvals[1].real)\n",
    "\n",
    "# decay time\n",
    "tau = 1/x_r\n",
    "print(\"decay time: \" + str(tau))\n",
    "\n",
    "# oscillation period\n",
    "omega = (2*math.pi)/x_i\n",
    "print(\"period: \" + str(omega))\n",
    "\n",
    "# number of coherent oscillations\n",
    "R = x_i/x_r\n",
    "print(\"number coherent oscillations: \" + str(R/2*math.pi))\n",
    "\n",
    "# Time points for the plot\n",
    "times = np.linspace(0, 1, 500)  # time from 0 to 1 with 500 points\n",
    "# Compute C(t) for each time point\n",
    "correlation_values = [correlation_function(t, W) for t in times]"
   ]
  },
  {
   "cell_type": "code",
   "execution_count": 18,
   "id": "f08bed5b-3fef-40d4-a42d-b9071a8ff933",
   "metadata": {},
   "outputs": [
    {
     "data": {
      "image/png": "[encoded data removed]",
      "text/plain": [
       "<Figure size 432x288 with 1 Axes>"
      ]
     },
     "metadata": {
      "needs_background": "light"
     },
     "output_type": "display_data"
    }
   ],
   "source": [
    "plt.plot(times, correlation_values, label='C(t)')\n",
    "plt.xlabel('Time (t)')\n",
    "plt.ylabel('Correlation Function C(t)')\n",
    "#plt.title('Correlation Function in a Three-State System')\n",
    "plt.legend()\n",
    "plt.grid()\n",
    "plt.show()"
   ]
  },
  {
   "cell_type": "markdown",
   "id": "18d01f39-9fe0-4ee5-a521-a3005d68e27d",
   "metadata": {},
   "source": [
    "What parameter sets give you complex eigenvalues?"
   ]
  },
  {
   "cell_type": "code",
   "execution_count": 19,
   "id": "db3ed22d-de86-4338-95d8-10c9c4746122",
   "metadata": {},
   "outputs": [],
   "source": [
    "G = nx.DiGraph()\n",
    "G_size = 3\n",
    "nodes = np.arange(1,G_size+1,step=1)\n",
    "G.add_nodes_from(nodes)\n",
    "\n",
    "G.add_edge(1,3)\n",
    "G.add_edge(3,1)\n",
    "G.add_edge(2,3)\n",
    "G.add_edge(3,2)\n",
    "G.add_edge(1,2)\n",
    "G.add_edge(2,1)\n",
    "\n",
    "\n",
    "G_ud = nx.Graph()\n",
    "G_ud.add_node(1)\n",
    "G_ud.add_node(2)\n",
    "G_ud.add_node(3)\n",
    "G_ud.add_edge(3, 2)\n",
    "G_ud.add_edge(2, 3)\n",
    "G_ud.add_edge(1, 2)\n",
    "G_ud.add_edge(2, 1)\n",
    "G_ud.add_edge(1, 3)\n",
    "G_ud.add_edge(3, 1)"
   ]
  },
  {
   "cell_type": "code",
   "execution_count": 20,
   "id": "2e12f715-aeec-40db-bc5c-7c9822a3da64",
   "metadata": {},
   "outputs": [],
   "source": [
    "node_list = get_nodes(G)\n",
    "num_nodes = G_size\n",
    "edge_list = get_edges(G)\n",
    "\n",
    "# not needed for 3-cycle graph but we need the data structures\n",
    "cycle_list = get_cycles(G_ud)\n",
    "num_cycles = len(cycle_list)"
   ]
  },
  {
   "cell_type": "code",
   "execution_count": 21,
   "id": "df50feb1-4a7b-427f-9256-b5094ef19863",
   "metadata": {},
   "outputs": [],
   "source": [
    "label_dict, label_list = get_labels(G)"
   ]
  },
  {
   "cell_type": "code",
   "execution_count": 22,
   "id": "66daee29-eeb9-4ad9-8da6-c81ac62513ed",
   "metadata": {},
   "outputs": [
    {
     "data": {
      "text/plain": [
       "{(1, 3): 23.3768,\n",
       " (1, 2): 0.00177,\n",
       " (2, 3): 0.35942,\n",
       " (2, 1): 194.37814,\n",
       " (3, 1): 0.03499,\n",
       " (3, 2): 0.00566}"
      ]
     },
     "execution_count": 22,
     "metadata": {},
     "output_type": "execute_result"
    }
   ],
   "source": [
    "label_dict"
   ]
  },
  {
   "cell_type": "code",
   "execution_count": 23,
   "id": "32c53073-7063-4746-ab93-587ec2493d9a",
   "metadata": {},
   "outputs": [],
   "source": [
    "all_labels = np.zeros((1000,6))\n",
    "all_eigvals_real = np.zeros((1000,3))\n",
    "all_eigvals_complex = np.zeros((1000,3))\n",
    "all_affinities = np.zeros((1000,1))"
   ]
  },
  {
   "cell_type": "code",
   "execution_count": 24,
   "id": "a1f27836-7df6-46ed-bea8-a850cbdd32b7",
   "metadata": {},
   "outputs": [],
   "source": [
    "for i in range(1000):\n",
    "    label_dict, label_list = get_labels(G)\n",
    "    all_labels[i] = label_list\n",
    "    cycle_edges_forward,cycle_edges_backward,cycle_labels_forward,cycle_labels_backward = get_cycle_labels_edges(cycle_list,label_dict)\n",
    "    products_f, products_b = calculate_cycle_products(cycle_labels_forward,cycle_labels_backward)\n",
    "    total_affinities = calculate_affinities(products_f, products_b, cycle_list)\n",
    "    all_affinities[i] = total_affinities\n",
    "    L = Laplacian_all(edge_list,label_list,node_list)\n",
    "    eigvals, eigvecs = scipy.linalg.eig(L)\n",
    "    eigvals_sorted = np.sort(eigvals)\n",
    "    all_eigvals_real[i] = eigvals_sorted.real\n",
    "    all_eigvals_complex[i] = eigvals_sorted.imag"
   ]
  },
  {
   "cell_type": "code",
   "execution_count": 25,
   "id": "e8b7e38b-044c-499b-975d-f773d2102691",
   "metadata": {},
   "outputs": [
    {
     "data": {
      "text/plain": [
       "<matplotlib.legend.Legend at 0x7f8381da2250>"
      ]
     },
     "execution_count": 25,
     "metadata": {},
     "output_type": "execute_result"
    },
    {
     "data": {
      "image/png": "[encoded data removed]",
      "text/plain": [
       "<Figure size 432x288 with 1 Axes>"
      ]
     },
     "metadata": {
      "needs_background": "light"
     },
     "output_type": "display_data"
    }
   ],
   "source": [
    "plt.scatter(all_affinities, all_eigvals_real[:,0], label='lambda_1')\n",
    "plt.scatter(all_affinities, all_eigvals_real[:,1], label='lambda_2')\n",
    "plt.scatter(all_affinities, all_eigvals_real[:,2], label='lambda_3')\n",
    "plt.xlabel('A')\n",
    "plt.ylabel('Lambda_R')\n",
    "plt.legend()"
   ]
  },
  {
   "cell_type": "code",
   "execution_count": 26,
   "id": "d1825c11-990f-428a-a84f-32c65f917267",
   "metadata": {},
   "outputs": [
    {
     "data": {
      "text/plain": [
       "<matplotlib.legend.Legend at 0x7f8381da2820>"
      ]
     },
     "execution_count": 26,
     "metadata": {},
     "output_type": "execute_result"
    },
    {
     "data": {
      "image/png": "[encoded data removed]",
      "text/plain": [
       "<Figure size 432x288 with 1 Axes>"
      ]
     },
     "metadata": {
      "needs_background": "light"
     },
     "output_type": "display_data"
    }
   ],
   "source": [
    "plt.scatter(all_affinities, all_eigvals_complex[:,0], label='lambda_1')\n",
    "plt.scatter(all_affinities, all_eigvals_complex[:,1], label='lambda_2')\n",
    "plt.scatter(all_affinities, all_eigvals_complex[:,2], label='lambda_3')\n",
    "plt.xlabel('A')\n",
    "plt.ylabel('Lambda_C')\n",
    "plt.legend()"
   ]
  },
  {
   "cell_type": "markdown",
   "id": "aaf3dffd-772d-4b66-b6e1-6349414816ff",
   "metadata": {},
   "source": [
    "Find a parameter set that has complex eigenvalues and a particular affinity."
   ]
  },
  {
   "cell_type": "code",
   "execution_count": 33,
   "id": "43c0873b-9e4a-4550-950e-d2a22e975072",
   "metadata": {},
   "outputs": [],
   "source": [
    "indices = np.nonzero(all_eigvals_complex)"
   ]
  },
  {
   "cell_type": "code",
   "execution_count": 35,
   "id": "71e2928e-249c-4e64-87f7-61a5871b5112",
   "metadata": {},
   "outputs": [
    {
     "data": {
      "text/plain": [
       "array([19.18288056])"
      ]
     },
     "execution_count": 35,
     "metadata": {},
     "output_type": "execute_result"
    }
   ],
   "source": [
    "all_affinities[indices[0][0]]"
   ]
  },
  {
   "cell_type": "code",
   "execution_count": 36,
   "id": "e8b45a7d-3e11-41f3-b2df-246fb579c23c",
   "metadata": {},
   "outputs": [
    {
     "data": {
      "text/plain": [
       "array([-5.77722768,  5.77722768,  0.        ])"
      ]
     },
     "execution_count": 36,
     "metadata": {},
     "output_type": "execute_result"
    }
   ],
   "source": [
    "all_eigvals_complex[indices[0][0]]"
   ]
  },
  {
   "cell_type": "code",
   "execution_count": 37,
   "id": "5916e40f-0475-4c8e-ab42-dbf051edb1f7",
   "metadata": {},
   "outputs": [
    {
     "data": {
      "text/plain": [
       "array([2.370000e-03, 3.575582e+01, 5.852920e+00, 2.334600e-01,\n",
       "       1.551294e+01, 2.738000e-02])"
      ]
     },
     "execution_count": 37,
     "metadata": {},
     "output_type": "execute_result"
    }
   ],
   "source": [
    "all_labels[indices[0][0],:]"
   ]
  },
  {
   "cell_type": "code",
   "execution_count": 38,
   "id": "17771a58-287b-45a7-a959-e2ed083da5cc",
   "metadata": {},
   "outputs": [
    {
     "data": {
      "text/plain": [
       "{(1, 3): 0.08619,\n",
       " (1, 2): 3.7829,\n",
       " (2, 3): 0.0675,\n",
       " (2, 1): 0.00116,\n",
       " (3, 1): 0.05486,\n",
       " (3, 2): 1.30123}"
      ]
     },
     "execution_count": 38,
     "metadata": {},
     "output_type": "execute_result"
    }
   ],
   "source": [
    "label_dict # just to see the order of rates"
   ]
  },
  {
   "cell_type": "markdown",
   "id": "2f3cc174-75e5-456c-a9c1-d323dee74f6d",
   "metadata": {},
   "source": [
    "Five-state graph"
   ]
  },
  {
   "cell_type": "code",
   "execution_count": 39,
   "id": "8b96a54e-79f8-405a-8a11-a77bd81fb14f",
   "metadata": {},
   "outputs": [],
   "source": [
    "k12,k21,k23,k32,k34,k43,k45,k54,k15,k51 = 1.0, 1.0, 1.0, 1.0, 1.0, 1.0, 1.0, 1.0, 1.0, 1.0"
   ]
  },
  {
   "cell_type": "code",
   "execution_count": 40,
   "id": "07555e8b-f6a6-4f63-a169-466cda713da1",
   "metadata": {},
   "outputs": [],
   "source": [
    "def affinity5(k12,k21,k23,k32,k34,k43,k45,k54,k15,k51):\n",
    "    aff = np.log((k12*k23*k34*k45*k51)/(k15*k54*k43*k32*k21))\n",
    "    return aff"
   ]
  },
  {
   "cell_type": "code",
   "execution_count": 41,
   "id": "9bf658f2-bc2e-4107-a075-1d286bab3449",
   "metadata": {},
   "outputs": [],
   "source": [
    "# Transition rate matrix W\n",
    "def transition_matrix5(k12,k21,k23,k32,k34,k43,k45,k54,k15,k51):\n",
    "    W = np.array([\n",
    "        [-k12-k15,k21,0,0,k51],  # Transition rates from E1\n",
    "        [k12,-k21-k23,k32,0,0],  # Transition rates from E2\n",
    "        [0,k23,-k32-k34,k43,0],  # Transition rates from E3\n",
    "        [0,0,k34,-k43-k45,k54],  # Transition rates from E4\n",
    "        [k15,0,0,k45,-k51-k54],  # Transition rates from E5\n",
    "    ])\n",
    "    return W"
   ]
  },
  {
   "cell_type": "code",
   "execution_count": 42,
   "id": "4873500c-27c7-4222-b9bf-b2c4658a6b12",
   "metadata": {},
   "outputs": [],
   "source": [
    "# Function to compute the correlation function C(t)\n",
    "def correlation_function5(t, W):\n",
    "    exp_Wt = expm(W * t) # Compute the matrix exponential e^(Wt)\n",
    "    p = [1,0,0,0,0]\n",
    "    return (exp_Wt[0]*p)[0] # e^(Wt)[11] Prob of being in 1 at time t given was in 1 at time 0"
   ]
  },
  {
   "cell_type": "code",
   "execution_count": 43,
   "id": "455b001f-ebd1-472f-8370-24ff4144f3b7",
   "metadata": {},
   "outputs": [
    {
     "name": "stdout",
     "output_type": "stream",
     "text": [
      "force: -inf\n",
      "eigenvalues: [-3.61803399e+00+1.1755705j  -3.61803399e+00-1.1755705j\n",
      " -1.38196601e+00+1.90211303j -1.38196601e+00-1.90211303j\n",
      " -3.05992170e-16+0.j        ]\n",
      "decay time: 0.7236067977499785\n",
      "period: 3.303265999194125\n",
      "number coherent oscillations: 2.1620156649430227\n"
     ]
    },
    {
     "name": "stderr",
     "output_type": "stream",
     "text": [
      "/var/folders/ch/f1rl6h5x4fx2wbg2_f5bj5dw0000gn/T/ipykernel_6847/401400925.py:2: RuntimeWarning: divide by zero encountered in log\n",
      "  aff = np.log((k12*k23*k34*k45*k51)/(k15*k54*k43*k32*k21))\n"
     ]
    }
   ],
   "source": [
    "# Oscillatory transition rates\n",
    "\n",
    "k12, k23, k34, k45, k51 = 0.0, 0.0, 0.0, 0.0, 0.0\n",
    "k21, k32, k43, k54, k15 = 2.0, 2.0, 2.0, 2.0, 2.0\n",
    "\n",
    "#k12, k15, k21, k23, k32, k34, k43, k45, k54, k51 = 6.6867835e+02, 1.2356196e+02, 3.0750714e+02, 4.6800000e-03, 1.0429112e+02, 1.2768300e+01, 1.0017890e+01, 3.5640000e-01, 5.3848260e+01, 1.6982000e-01\n",
    "\n",
    "# force\n",
    "print(\"force: \" + str(affinity5(k12,k21,k23,k32,k34,k43,k45,k54,k15,k51)))\n",
    "\n",
    "# eigenvalues of W\n",
    "W = transition_matrix5(k12,k21,k23,k32,k34,k43,k45,k54,k15,k51)\n",
    "eigvals, eigvecs = scipy.linalg.eig(W)\n",
    "print(\"eigenvalues: \" + str(eigvals))\n",
    "\n",
    "x_i = np.abs(eigvals[2].imag)\n",
    "x_r = np.abs(eigvals[2].real)\n",
    "\n",
    "# decay time\n",
    "tau = 1/x_r\n",
    "print(\"decay time: \" + str(tau))\n",
    "\n",
    "# oscillation period\n",
    "omega = (2*math.pi)/x_i\n",
    "print(\"period: \" + str(omega))\n",
    "\n",
    "# number of coherent oscillations\n",
    "R = x_i/x_r\n",
    "print(\"number coherent oscillations: \" + str(R/2*math.pi))\n",
    "\n",
    "# Time points for the plot\n",
    "times = np.linspace(0, 10, 500)  # time from 0 to 4 with 500 points\n",
    "# Compute C(t) for each time point\n",
    "correlation_values = [correlation_function5(t, W) for t in times]"
   ]
  },
  {
   "cell_type": "code",
   "execution_count": 44,
   "id": "303fdb90-d921-4f81-aff0-8302abb0cf50",
   "metadata": {},
   "outputs": [
    {
     "data": {
      "image/png": "[encoded data removed]",
      "text/plain": [
       "<Figure size 432x288 with 1 Axes>"
      ]
     },
     "metadata": {
      "needs_background": "light"
     },
     "output_type": "display_data"
    }
   ],
   "source": [
    "plt.plot(times, correlation_values, label='C(t)')\n",
    "plt.xlabel('Time (t)')\n",
    "plt.ylabel('Correlation Function C(t)')\n",
    "plt.title('Correlation Function in a Five-State System')\n",
    "plt.legend()\n",
    "plt.grid()\n",
    "plt.show()"
   ]
  },
  {
   "cell_type": "markdown",
   "id": "9ba93104-b2d2-4a97-a5f2-2f6125eff45c",
   "metadata": {},
   "source": [
    "What parameter sets give you complex eigenvalues?"
   ]
  },
  {
   "cell_type": "code",
   "execution_count": 45,
   "id": "c9c40361-309c-4975-b8fa-4e4f8951e972",
   "metadata": {},
   "outputs": [],
   "source": [
    "G = nx.DiGraph()\n",
    "G_size = 5\n",
    "nodes = np.arange(1,G_size+1,step=1)\n",
    "G.add_nodes_from(nodes)\n",
    "\n",
    "G.add_edge(1,2)\n",
    "G.add_edge(2,1)\n",
    "G.add_edge(2,3)\n",
    "G.add_edge(3,2)\n",
    "G.add_edge(4,3)\n",
    "G.add_edge(3,4)\n",
    "G.add_edge(4,5)\n",
    "G.add_edge(5,4)\n",
    "G.add_edge(5,1)\n",
    "G.add_edge(1,5)\n",
    "\n",
    "G_ud = nx.Graph()\n",
    "G_ud.add_node(1)\n",
    "G_ud.add_node(2)\n",
    "G_ud.add_node(3)\n",
    "G_ud.add_edge(3, 2)\n",
    "G_ud.add_edge(2, 3)\n",
    "G_ud.add_edge(1, 2)\n",
    "G_ud.add_edge(2, 1)\n",
    "G_ud.add_edge(4,3)\n",
    "G_ud.add_edge(3,4)\n",
    "G_ud.add_edge(4,5)\n",
    "G_ud.add_edge(5,4)\n",
    "G_ud.add_edge(5,1)\n",
    "G_ud.add_edge(1,5)"
   ]
  },
  {
   "cell_type": "code",
   "execution_count": 46,
   "id": "67aa568a-592a-43b6-8806-4657c989f14e",
   "metadata": {},
   "outputs": [],
   "source": [
    "node_list = get_nodes(G)\n",
    "num_nodes = G_size\n",
    "edge_list = get_edges(G)\n",
    "\n",
    "# not needed for 3-cycle graph but we need the data structures\n",
    "cycle_list = get_cycles(G_ud)\n",
    "num_cycles = len(cycle_list)"
   ]
  },
  {
   "cell_type": "code",
   "execution_count": 47,
   "id": "5a48fd83-fb0a-4c71-b836-f576560f39c0",
   "metadata": {},
   "outputs": [],
   "source": [
    "label_dict, label_list = get_labels(G)"
   ]
  },
  {
   "cell_type": "code",
   "execution_count": 48,
   "id": "f02dd90b-defc-4415-ad23-4cd0bcad641c",
   "metadata": {},
   "outputs": [
    {
     "data": {
      "text/plain": [
       "{(1, 2): 0.13827,\n",
       " (1, 5): 2.71732,\n",
       " (2, 1): 0.00149,\n",
       " (2, 3): 0.92044,\n",
       " (3, 2): 17.75244,\n",
       " (3, 4): 81.37468,\n",
       " (4, 3): 0.01785,\n",
       " (4, 5): 8.41359,\n",
       " (5, 4): 0.07654,\n",
       " (5, 1): 153.87409}"
      ]
     },
     "execution_count": 48,
     "metadata": {},
     "output_type": "execute_result"
    }
   ],
   "source": [
    "label_dict"
   ]
  },
  {
   "cell_type": "code",
   "execution_count": 49,
   "id": "b2d165fb-ed42-4fd2-bd19-d23b49646e78",
   "metadata": {},
   "outputs": [],
   "source": [
    "all_labels = np.zeros((10,10))\n",
    "all_eigvals_real = np.zeros((10,5))\n",
    "all_eigvals_complex = np.zeros((10,5))\n",
    "all_affinities = np.zeros((10))"
   ]
  },
  {
   "cell_type": "code",
   "execution_count": 50,
   "id": "239b6464-1ab5-4921-ab12-64584279f809",
   "metadata": {},
   "outputs": [
    {
     "name": "stdout",
     "output_type": "stream",
     "text": [
      "[-24.08684329]\n",
      "[-3.51612783e+02 -4.21877462e+01 -3.63492580e+01 -5.88258358e-03\n",
      "  4.20132332e-15]\n",
      "[0. 0. 0. 0. 0.]\n",
      "[-3.09944535]\n",
      "[-120.10506662   -0.31591645   -0.2724988    -0.14637812    0.        ]\n",
      "[0. 0. 0. 0. 0.]\n",
      "[-1.12854779]\n",
      "[-3.99994174e+02 -1.13558347e+02 -9.30560422e-01 -4.04489666e-02\n",
      "  1.37145951e-14]\n",
      "[0. 0. 0. 0. 0.]\n",
      "[21.84691314]\n",
      "[-5.42841933e+02 -5.75488312e+01 -2.51924652e+00 -4.73491526e-02\n",
      "  5.09513332e-18]\n",
      "[0. 0. 0. 0. 0.]\n",
      "[-1.10219693]\n",
      "[-3.44825963e+02 -1.19879516e+02 -7.08832588e+00 -1.49814987e-01\n",
      " -1.52444829e-15]\n",
      "[0. 0. 0. 0. 0.]\n",
      "[-11.11979905]\n",
      "[-3.62336447e+02 -2.12158623e+02 -3.69572384e+01 -2.02471534e-01\n",
      " -9.60420361e-15]\n",
      "[0. 0. 0. 0. 0.]\n",
      "[15.69657555]\n",
      "[-7.48492646e+01 -1.26608036e+01 -1.01143583e+01 -8.63723564e-01\n",
      "  3.21181903e-15]\n",
      "[0. 0. 0. 0. 0.]\n",
      "[-2.84472852]\n",
      "[-7.40492989e+02 -4.00046031e+02 -1.49468417e+02 -2.08684113e-01\n",
      " -9.32889360e-15]\n",
      "[0. 0. 0. 0. 0.]\n",
      "[-5.96361939]\n",
      "[-8.47620049e+02 -1.98619285e+02 -9.63916468e+00 -2.98160849e-01\n",
      "  5.98027450e-16]\n",
      "[0. 0. 0. 0. 0.]\n",
      "[-16.69308542]\n",
      "[-1.08211572e+03 -3.88708982e+02 -1.08595139e+01 -1.51733607e+00\n",
      "  2.38605058e-16]\n",
      "[0. 0. 0. 0. 0.]\n"
     ]
    }
   ],
   "source": [
    "for i in range(10):\n",
    "    label_dict, label_list = get_labels(G)\n",
    "    all_labels[i] = label_list\n",
    "    cycle_edges_forward,cycle_edges_backward,cycle_labels_forward,cycle_labels_backward = get_cycle_labels_edges(cycle_list,label_dict)\n",
    "    products_f, products_b = calculate_cycle_products(cycle_labels_forward,cycle_labels_backward)\n",
    "    total_affinities = calculate_affinities(products_f, products_b, cycle_list)\n",
    "    all_affinities[i] = total_affinities\n",
    "    print(total_affinities)\n",
    "    L = Laplacian_all(edge_list,label_list,node_list)\n",
    "    eigvals, eigvecs = scipy.linalg.eig(L)\n",
    "    eigvals_sorted = np.sort(eigvals)\n",
    "    all_eigvals_real[i] = eigvals_sorted.real\n",
    "    print(eigvals_sorted.real)\n",
    "    all_eigvals_complex[i] = eigvals_sorted.imag\n",
    "    print(eigvals_sorted.imag)"
   ]
  },
  {
   "cell_type": "code",
   "execution_count": 51,
   "id": "bfc1236d-2ef2-4d06-816b-0ec8feef28fb",
   "metadata": {},
   "outputs": [
    {
     "data": {
      "text/plain": [
       "<matplotlib.legend.Legend at 0x7f8371383430>"
      ]
     },
     "execution_count": 51,
     "metadata": {},
     "output_type": "execute_result"
    },
    {
     "data": {
      "image/png": "[encoded data removed]",
      "text/plain": [
       "<Figure size 432x288 with 1 Axes>"
      ]
     },
     "metadata": {
      "needs_background": "light"
     },
     "output_type": "display_data"
    }
   ],
   "source": [
    "plt.scatter(all_affinities, all_eigvals_real[:,0], label='lambda_1')\n",
    "plt.scatter(all_affinities, all_eigvals_real[:,1], label='lambda_2')\n",
    "plt.scatter(all_affinities, all_eigvals_real[:,2], label='lambda_3')\n",
    "plt.scatter(all_affinities, all_eigvals_real[:,3], label='lambda_4')\n",
    "plt.scatter(all_affinities, all_eigvals_real[:,4], label='lambda_5')\n",
    "plt.xlabel('A')\n",
    "plt.ylabel('Lambda_R')\n",
    "plt.legend()"
   ]
  },
  {
   "cell_type": "code",
   "execution_count": 52,
   "id": "0207c8ef-6310-45dd-bc59-f1114b3d5dc5",
   "metadata": {},
   "outputs": [
    {
     "data": {
      "text/plain": [
       "<matplotlib.legend.Legend at 0x7f8390ab0be0>"
      ]
     },
     "execution_count": 52,
     "metadata": {},
     "output_type": "execute_result"
    },
    {
     "data": {
      "image/png": "[encoded data removed]",
      "text/plain": [
       "<Figure size 432x288 with 1 Axes>"
      ]
     },
     "metadata": {
      "needs_background": "light"
     },
     "output_type": "display_data"
    }
   ],
   "source": [
    "plt.scatter(all_affinities, all_eigvals_complex[:,0], label='lambda_1')\n",
    "plt.scatter(all_affinities, all_eigvals_complex[:,1], label='lambda_2')\n",
    "plt.scatter(all_affinities, all_eigvals_complex[:,2], label='lambda_3')\n",
    "plt.scatter(all_affinities, all_eigvals_complex[:,3], label='lambda_4')\n",
    "plt.scatter(all_affinities, all_eigvals_complex[:,4], label='lambda_5')\n",
    "plt.xlabel('A')\n",
    "plt.ylabel('Lambda_C')\n",
    "plt.legend()"
   ]
  },
  {
   "cell_type": "markdown",
   "id": "98012b56-7f60-4ddc-a833-52fbd2469827",
   "metadata": {},
   "source": [
    "Find a parameter set that has complex eigenvalues and a particular affinity."
   ]
  },
  {
   "cell_type": "code",
   "execution_count": 53,
   "id": "8ef4f244-eddb-4200-a945-75b627bf627b",
   "metadata": {},
   "outputs": [
    {
     "data": {
      "text/plain": [
       "(array([], dtype=int64), array([], dtype=int64))"
      ]
     },
     "execution_count": 53,
     "metadata": {},
     "output_type": "execute_result"
    }
   ],
   "source": [
    "np.nonzero(all_eigvals_complex)"
   ]
  },
  {
   "cell_type": "code",
   "execution_count": 54,
   "id": "cb42648c-1603-4e22-a1f4-877499991124",
   "metadata": {},
   "outputs": [
    {
     "data": {
      "text/plain": [
       "-1.102196934478429"
      ]
     },
     "execution_count": 54,
     "metadata": {},
     "output_type": "execute_result"
    }
   ],
   "source": [
    "all_affinities[4]"
   ]
  },
  {
   "cell_type": "code",
   "execution_count": 55,
   "id": "895eda2b-417d-4c7c-90c6-a4f22abcd11b",
   "metadata": {},
   "outputs": [
    {
     "data": {
      "text/plain": [
       "array([0., 0., 0., 0., 0.])"
      ]
     },
     "execution_count": 55,
     "metadata": {},
     "output_type": "execute_result"
    }
   ],
   "source": [
    "all_eigvals_complex[4]"
   ]
  },
  {
   "cell_type": "code",
   "execution_count": 56,
   "id": "34a3681f-990f-4523-bab6-a68730974dc2",
   "metadata": {},
   "outputs": [
    {
     "data": {
      "text/plain": [
       "array([6.0100000e-03, 9.6469000e-01, 7.0803800e+00, 3.9434240e+01,\n",
       "       5.6000000e-03, 4.4350000e-01, 8.0145920e+01, 3.4379249e+02,\n",
       "       6.8850000e-02, 1.9400000e-03])"
      ]
     },
     "execution_count": 56,
     "metadata": {},
     "output_type": "execute_result"
    }
   ],
   "source": [
    "all_labels[4,:]"
   ]
  },
  {
   "cell_type": "code",
   "execution_count": 57,
   "id": "4af9a6aa-9af3-45e0-8543-e685d1567838",
   "metadata": {},
   "outputs": [
    {
     "data": {
      "text/plain": [
       "{(1, 2): 0.00848,\n",
       " (1, 5): 1.45499,\n",
       " (2, 1): 0.05207,\n",
       " (2, 3): 250.08595,\n",
       " (3, 2): 24.46083,\n",
       " (3, 4): 308.41233,\n",
       " (4, 3): 325.93414,\n",
       " (4, 5): 0.01272,\n",
       " (5, 4): 572.7777,\n",
       " (5, 1): 0.00234}"
      ]
     },
     "execution_count": 57,
     "metadata": {},
     "output_type": "execute_result"
    }
   ],
   "source": [
    "label_dict # just to see the order of rates\n",
    "#k12, k15, k21, k23, k32, k34, k43, k45, k54, k51 = "
   ]
  },
  {
   "cell_type": "markdown",
   "id": "20b39730-8411-4ca6-b749-c8266b233b02",
   "metadata": {},
   "source": [
    "More formal workflow"
   ]
  },
  {
   "cell_type": "code",
   "execution_count": 130,
   "id": "6987e8bb-bbff-4d34-9465-f3f2ea5354fe",
   "metadata": {},
   "outputs": [],
   "source": [
    "def unicycle_graph(n):\n",
    "    \"\"\"\n",
    "    Generates a reversible unicyclic linear framework graph of size n.\n",
    "    \n",
    "    Parameters\n",
    "    ----------\n",
    "    n : integer\n",
    "        the size (or number of vertices) of the graph\n",
    "    \n",
    "    Returns\n",
    "    -------\n",
    "    G : NetworkX DiGraph object\n",
    "        directed graph\n",
    "    \n",
    "    G_ud : NetworkX Graph object\n",
    "        undirected graph\n",
    "    \"\"\"\n",
    "    \n",
    "    G = nx.DiGraph()\n",
    "    G_ud = nx.Graph()\n",
    "    \n",
    "    # determine the number of nodes in G\n",
    "    G_size = n\n",
    "    \n",
    "    # add nodes to G and G_ud\n",
    "    nodes = np.arange(1,G_size+1,step=1)\n",
    "    G.add_nodes_from(nodes)\n",
    "    G_ud.add_nodes_from(nodes)\n",
    "    \n",
    "    for i in range(2,G_size+1):\n",
    "        u = i-1\n",
    "        v = i\n",
    "        G.add_edge(u,v)\n",
    "        G.add_edge(v,u)\n",
    "        G_ud.add_edge(u,v)\n",
    "        \n",
    "    G.add_edge(G_size,1)\n",
    "    G.add_edge(1,G_size)\n",
    "    G_ud.add_edge(1,G_size)\n",
    "    \n",
    "    return G, G_ud"
   ]
  },
  {
   "cell_type": "code",
   "execution_count": 131,
   "id": "686cbac7-c149-463b-aab0-9afeaaba1d2c",
   "metadata": {},
   "outputs": [],
   "source": [
    "G, G_ud = unicycle_graph(5)"
   ]
  },
  {
   "cell_type": "code",
   "execution_count": 132,
   "id": "8c4a6342-3f48-4a89-aacc-ccd3641bd521",
   "metadata": {},
   "outputs": [],
   "source": [
    "nodes = list(G.nodes())"
   ]
  },
  {
   "cell_type": "code",
   "execution_count": 133,
   "id": "edffe9cf-1079-4e28-9e15-6528b355dda4",
   "metadata": {},
   "outputs": [
    {
     "data": {
      "image/png": "[encoded data removed]",
      "text/plain": [
       "<Figure size 432x288 with 1 Axes>"
      ]
     },
     "metadata": {},
     "output_type": "display_data"
    }
   ],
   "source": [
    "node_labels = {}\n",
    "\n",
    "for node in nodes:\n",
    "    node_labels[node] = str(node)\n",
    "\n",
    "nx.draw(G, pos=nx.circular_layout(G), labels=node_labels, with_labels=True,node_size=2000, node_color = 'lightgray', font_size=18, font_color='black', font_family='sans-serif')"
   ]
  },
  {
   "cell_type": "code",
   "execution_count": 127,
   "id": "178bc02b-bf1e-41bf-abb4-bb96d0ffff95",
   "metadata": {},
   "outputs": [],
   "source": [
    "node_list = get_nodes(G)\n",
    "num_nodes = G_size\n",
    "edge_list = get_edges(G)\n",
    "\n",
    "# not needed for 3-cycle graph but we need the data structures\n",
    "cycle_list = get_cycles(G_ud)\n",
    "num_cycles = len(cycle_list)"
   ]
  },
  {
   "cell_type": "code",
   "execution_count": 128,
   "id": "44aa0a03-eee1-4b99-8f03-00a10360c06d",
   "metadata": {
    "tags": []
   },
   "outputs": [],
   "source": [
    "edge_labels_forward = np.array([])\n",
    "edge_labels_backward = np.array([])\n",
    "\n",
    "for edge in G_ud.edges:\n",
    "    u = edge[0]\n",
    "    v = edge[1]\n",
    "    \n",
    "    G[u][v]['weight'] = 2.0\n",
    "    edge_labels_forward = np.append(edge_labels_forward, 2.0)\n",
    "    \n",
    "    G[v][u]['weight'] = 1.0\n",
    "    edge_labels_backward = np.append(edge_labels_backward, 1.0)"
   ]
  },
  {
   "cell_type": "code",
   "execution_count": 129,
   "id": "5593515b-8b60-49f9-9798-c2257ae9027d",
   "metadata": {},
   "outputs": [
    {
     "data": {
      "text/plain": [
       "array([[-8.1800134e+02,  1.1500000e-03,  0.0000000e+00,  0.0000000e+00,\n",
       "         8.1500000e-03],\n",
       "       [ 8.1781681e+02, -1.4678076e+02,  1.8291200e+00,  0.0000000e+00,\n",
       "         0.0000000e+00],\n",
       "       [ 0.0000000e+00,  1.4677961e+02, -3.1814200e+00,  3.2957533e+02,\n",
       "         0.0000000e+00],\n",
       "       [ 0.0000000e+00,  0.0000000e+00,  1.3523000e+00, -3.2989299e+02,\n",
       "         1.2039000e-01],\n",
       "       [ 1.8453000e-01,  0.0000000e+00,  0.0000000e+00,  3.1766000e-01,\n",
       "        -1.2854000e-01]], dtype=float128)"
      ]
     },
     "execution_count": 129,
     "metadata": {},
     "output_type": "execute_result"
    }
   ],
   "source": [
    "W = Laplacian_all(edge_list,label_list,node_list)\n",
    "W"
   ]
  },
  {
   "cell_type": "code",
   "execution_count": 120,
   "id": "7fce59d2-db46-4855-983f-9d168216431e",
   "metadata": {},
   "outputs": [
    {
     "data": {
      "text/plain": [
       "6.931471805599453"
      ]
     },
     "execution_count": 120,
     "metadata": {},
     "output_type": "execute_result"
    }
   ],
   "source": [
    "\n",
    "affinity = np.log(np.prod(edge_labels_forward)/np.prod(edge_labels_backward))\n",
    "affinity"
   ]
  },
  {
   "cell_type": "code",
   "execution_count": null,
   "id": "8d23728a-f1e5-48b4-8ec4-c9c1589ae55d",
   "metadata": {},
   "outputs": [],
   "source": [
    "def get_labels_unicycle(G):\n",
    "    \"\"\"\n",
    "    Extracts the label information for each edge in a NetworkX graph object. If G not labeled, labels are sampled as 10^x, where x is sampled uniformly between -3 and 3.\n",
    "    \n",
    "    Parameters\n",
    "    ----------\n",
    "    G : NetworkX DiGraph object\n",
    "        directed graph\n",
    "            \n",
    "    Returns\n",
    "    -------\n",
    "    label_dict : dictionary\n",
    "        keys: edges in G represented as tuple (source,sink), values: edge labels\n",
    "        \n",
    "    label_list : 1D numpy array\n",
    "        list of edge labels in G\n",
    "        \n",
    "    \"\"\"\n",
    "    \n",
    "    label_dict = {}\n",
    "    \n",
    "    for u, v in G.nodes:\n",
    "        \n",
    "    \n",
    "    label_dict = {e: np.around(10**(np.random.uniform(-3,3, size = 1)[0]),decimals=5) for e in G.edges}\n",
    "    \n",
    "    # create a list of edge labels directly from the dictionary\n",
    "    label_list = np.fromiter(label_dict.values(), dtype=float)\n",
    "    \n",
    "    return label_dict, label_list"
   ]
  },
  {
   "cell_type": "code",
   "execution_count": 105,
   "id": "adf9ae8b-e975-4ff0-a64f-68c754cd16d2",
   "metadata": {},
   "outputs": [],
   "source": [
    "label_dict, label_list = get_labels(G)"
   ]
  },
  {
   "cell_type": "code",
   "execution_count": 106,
   "id": "c7128df9-67fe-43f5-80fe-17f969c51b09",
   "metadata": {},
   "outputs": [
    {
     "data": {
      "text/plain": [
       "{(1, 2): 0.00115,\n",
       " (1, 10): 0.00815,\n",
       " (2, 1): 817.81681,\n",
       " (2, 3): 1.82912,\n",
       " (3, 2): 146.77961,\n",
       " (3, 4): 329.57533,\n",
       " (4, 3): 1.3523,\n",
       " (4, 5): 0.12039,\n",
       " (5, 4): 0.31766,\n",
       " (5, 6): 0.18453,\n",
       " (6, 5): 750.08918,\n",
       " (6, 7): 381.80288,\n",
       " (7, 6): 0.00645,\n",
       " (7, 8): 25.96772,\n",
       " (8, 7): 1.24472,\n",
       " (8, 9): 5.41637,\n",
       " (9, 8): 82.73119,\n",
       " (9, 10): 0.0498,\n",
       " (10, 9): 0.00131,\n",
       " (10, 1): 0.00909}"
      ]
     },
     "execution_count": 106,
     "metadata": {},
     "output_type": "execute_result"
    }
   ],
   "source": [
    "label_dict"
   ]
  },
  {
   "cell_type": "code",
   "execution_count": 62,
   "id": "b3b4cf2a-2815-444b-9d24-7c31a3a9ce9b",
   "metadata": {},
   "outputs": [
    {
     "data": {
      "text/plain": [
       "array([1.00000000e+00, 4.60718663e+28, 4.60718663e+28, 1.00000000e+00,\n",
       "       4.60718663e+28, 1.00000000e+00])"
      ]
     },
     "execution_count": 62,
     "metadata": {},
     "output_type": "execute_result"
    }
   ],
   "source": [
    "label_list"
   ]
  },
  {
   "cell_type": "markdown",
   "id": "ad79fa54-92c3-46c6-ae37-3fe71c80e4e2",
   "metadata": {},
   "source": [
    "Then, we calculate the cycle affinity using the general graphs framework (overkill for the 3-vertex graph, but it works)."
   ]
  },
  {
   "cell_type": "code",
   "execution_count": 63,
   "id": "4ed93966-e932-456a-aec5-ed59e565dad5",
   "metadata": {},
   "outputs": [],
   "source": [
    "cycle_edges_forward,cycle_edges_backward,cycle_labels_forward,cycle_labels_backward = get_cycle_labels_edges(cycle_list,label_dict)"
   ]
  },
  {
   "cell_type": "code",
   "execution_count": 64,
   "id": "8d52f5e8-9a0a-4ba4-abea-7150db4cd7bc",
   "metadata": {},
   "outputs": [
    {
     "name": "stdout",
     "output_type": "stream",
     "text": [
      "[198.]\n"
     ]
    }
   ],
   "source": [
    "products_f, products_b = calculate_cycle_products(cycle_labels_forward,cycle_labels_backward)\n",
    "total_affinities = calculate_affinities(products_f, products_b, cycle_list)\n",
    "print(total_affinities)"
   ]
  },
  {
   "cell_type": "markdown",
   "id": "ef74ec1b-b003-4651-ab87-51987e317dde",
   "metadata": {},
   "source": [
    "For fun, we can calculate the steady state distribution using the spectrum of the Laplacian."
   ]
  },
  {
   "cell_type": "code",
   "execution_count": 65,
   "id": "8ab2d678-e808-4d19-89da-eb6e8178c3ce",
   "metadata": {},
   "outputs": [],
   "source": [
    "L = Laplacian_all(edge_list,label_list,node_list)\n",
    "pi = steady_state_spectrum(L)"
   ]
  },
  {
   "cell_type": "code",
   "execution_count": 66,
   "id": "4094c1bb-73e6-417b-b2f6-c1ea2b5a0e1f",
   "metadata": {},
   "outputs": [
    {
     "data": {
      "text/plain": [
       "array([[-4.60718663e+28,  4.60718663e+28,  1.00000000e+00],\n",
       "       [ 1.00000000e+00, -4.60718663e+28,  4.60718663e+28],\n",
       "       [ 4.60718663e+28,  1.00000000e+00, -4.60718663e+28]],\n",
       "      dtype=float128)"
      ]
     },
     "execution_count": 66,
     "metadata": {},
     "output_type": "execute_result"
    }
   ],
   "source": [
    "L"
   ]
  },
  {
   "cell_type": "markdown",
   "id": "0147e1ff-7de1-4b5c-b38d-50505922e84a",
   "metadata": {},
   "source": [
    "Let's grab the eigenvalues and eigenvectors of the Laplacian matrix."
   ]
  },
  {
   "cell_type": "code",
   "execution_count": 39,
   "id": "d7365db9-4ed4-4118-a781-190838e97e6d",
   "metadata": {},
   "outputs": [],
   "source": [
    "eigvals, eigvecs = scipy.linalg.eig(L)"
   ]
  },
  {
   "cell_type": "code",
   "execution_count": 40,
   "id": "51ddfd09-d13a-4313-b5ef-e09694821643",
   "metadata": {},
   "outputs": [
    {
     "data": {
      "text/plain": [
       "array([-6.91077995e+28+3.98994067e+28j, -6.91077995e+28-3.98994067e+28j,\n",
       "       -6.55378477e+12+0.00000000e+00j])"
      ]
     },
     "execution_count": 40,
     "metadata": {},
     "output_type": "execute_result"
    }
   ],
   "source": [
    "eigvals"
   ]
  },
  {
   "cell_type": "code",
   "execution_count": 41,
   "id": "161c9102-fbc0-467b-a26a-a16d5a35b326",
   "metadata": {},
   "outputs": [
    {
     "data": {
      "text/plain": [
       "array([[-0.28867513+0.5j, -0.28867513-0.5j, -0.57735027+0.j ],\n",
       "       [-0.28867513-0.5j, -0.28867513+0.5j, -0.57735027+0.j ],\n",
       "       [ 0.57735027+0.j ,  0.57735027-0.j , -0.57735027+0.j ]])"
      ]
     },
     "execution_count": 41,
     "metadata": {},
     "output_type": "execute_result"
    }
   ],
   "source": [
    "eigvecs"
   ]
  },
  {
   "cell_type": "markdown",
   "id": "88c975e8-d771-4225-b84b-707efdfbcdcd",
   "metadata": {},
   "source": [
    "Calculate the correlation function $C_{1,1}(t)$"
   ]
  },
  {
   "cell_type": "code",
   "execution_count": 42,
   "id": "acaf70f6-1406-4bd1-b4b4-2212be52ddc6",
   "metadata": {},
   "outputs": [],
   "source": [
    "t = np.around(np.arange(100.0,250.0,step=.01), decimals = 2)"
   ]
  },
  {
   "cell_type": "code",
   "execution_count": 43,
   "id": "f8ad6f26-9609-4bdb-929e-d75221ceab39",
   "metadata": {},
   "outputs": [
    {
     "name": "stderr",
     "output_type": "stream",
     "text": [
      "/Users/sabinahaque/opt/anaconda3/lib/python3.9/site-packages/scipy/sparse/linalg/matfuncs.py:437: RuntimeWarning: overflow encountered in longdouble_scalars\n",
      "  self._d10_exact = _onenorm(self.A10)**(1/10.)\n"
     ]
    }
   ],
   "source": [
    "list_result = list(map(lambda i: scipy.linalg.expm(L*i), t))"
   ]
  },
  {
   "cell_type": "code",
   "execution_count": 44,
   "id": "413de39f-3e4a-4ed2-a06b-ccc51696ef7b",
   "metadata": {},
   "outputs": [
    {
     "data": {
      "text/plain": [
       "array([[-4.60718663e+28,  4.60718663e+28,  1.00000000e+00],\n",
       "       [ 1.00000000e+00, -4.60718663e+28,  4.60718663e+28],\n",
       "       [ 4.60718663e+28,  1.00000000e+00, -4.60718663e+28]],\n",
       "      dtype=float128)"
      ]
     },
     "execution_count": 44,
     "metadata": {},
     "output_type": "execute_result"
    }
   ],
   "source": [
    "L"
   ]
  },
  {
   "cell_type": "code",
   "execution_count": 45,
   "id": "95d00d6e-64a1-4be5-a888-d2cd49667ce7",
   "metadata": {},
   "outputs": [
    {
     "name": "stderr",
     "output_type": "stream",
     "text": [
      "/var/folders/ch/f1rl6h5x4fx2wbg2_f5bj5dw0000gn/T/ipykernel_8972/908813237.py:8: RuntimeWarning: invalid value encountered in multiply\n",
      "  new_list[i] = ((list_result[i]*P_0)[0])[0]\n"
     ]
    }
   ],
   "source": [
    "list_result = list(map(lambda i: scipy.linalg.expm(L*i), t))\n",
    "\n",
    "P_0 = np.array([1,0,0])\n",
    "\n",
    "new_list = np.zeros((len(t),3))\n",
    "\n",
    "for i in range(len(t)):\n",
    "    new_list[i] = ((list_result[i]*P_0)[0])[0]"
   ]
  },
  {
   "cell_type": "code",
   "execution_count": 46,
   "id": "f22df1f2-af29-41b6-be13-314351a88100",
   "metadata": {},
   "outputs": [
    {
     "data": {
      "text/plain": [
       "array([inf, inf, inf])"
      ]
     },
     "execution_count": 46,
     "metadata": {},
     "output_type": "execute_result"
    }
   ],
   "source": [
    "new_list[0]"
   ]
  },
  {
   "cell_type": "code",
   "execution_count": 47,
   "id": "f4cb5b5f-ec8e-48b6-8205-db82cb29f433",
   "metadata": {},
   "outputs": [
    {
     "data": {
      "text/plain": [
       "array([-4.60718663e+28,  1.00000000e+00,  4.60718663e+28], dtype=float128)"
      ]
     },
     "execution_count": 47,
     "metadata": {},
     "output_type": "execute_result"
    }
   ],
   "source": [
    "((L*P_0)[:,0])"
   ]
  },
  {
   "cell_type": "code",
   "execution_count": 50,
   "id": "abab6bd1-9774-42f3-a1bd-7fbc53363586",
   "metadata": {},
   "outputs": [
    {
     "data": {
      "text/plain": [
       "Text(0, 0.5, 'C_1,1(t)')"
      ]
     },
     "execution_count": 50,
     "metadata": {},
     "output_type": "execute_result"
    },
    {
     "data": {
      "image/png": "[encoded data removed]",
      "text/plain": [
       "<Figure size 432x288 with 1 Axes>"
      ]
     },
     "metadata": {
      "needs_background": "light"
     },
     "output_type": "display_data"
    }
   ],
   "source": [
    "plt.plot(t, new_list)\n",
    "plt.xlabel('t')\n",
    "plt.ylabel('C_1,1(t)')\n",
    "#plt.legend()"
   ]
  },
  {
   "cell_type": "code",
   "execution_count": null,
   "id": "e8f688c8-77ef-42d4-85c0-7045156d817a",
   "metadata": {},
   "outputs": [],
   "source": []
  },
  {
   "cell_type": "code",
   "execution_count": null,
   "id": "122697a5-a658-4b4b-8d0e-ceba7590790d",
   "metadata": {},
   "outputs": [],
   "source": []
  }
 ],
 "metadata": {
  "kernelspec": {
   "display_name": "Python 3 (ipykernel)",
   "language": "python",
   "name": "python3"
  },
  "language_info": {
   "codemirror_mode": {
    "name": "ipython",
    "version": 3
   },
   "file_extension": ".py",
   "mimetype": "text/x-python",
   "name": "python",
   "nbconvert_exporter": "python",
   "pygments_lexer": "ipython3",
   "version": "3.9.19"
  }
 },
 "nbformat": 4,
 "nbformat_minor": 5
}
