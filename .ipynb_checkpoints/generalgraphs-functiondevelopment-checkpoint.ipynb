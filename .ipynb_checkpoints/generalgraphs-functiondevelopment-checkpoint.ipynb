{
 "cells": [
  {
   "cell_type": "markdown",
   "id": "1602de8b-1e7f-4dc0-b18c-a556be5a617e",
   "metadata": {},
   "source": [
    "Function development"
   ]
  },
  {
   "cell_type": "code",
   "execution_count": 1,
   "id": "f8681352-8c6e-4dac-9384-b8dd5dfda459",
   "metadata": {},
   "outputs": [],
   "source": [
    "from steinberg_utils import *"
   ]
  },
  {
   "cell_type": "code",
   "execution_count": 2,
   "id": "d3565496-2451-4192-9e96-68ee71b0c58c",
   "metadata": {},
   "outputs": [],
   "source": [
    "import numpy as np"
   ]
  },
  {
   "cell_type": "code",
   "execution_count": 3,
   "id": "c73e81f7-32fa-4288-ae22-54db31b592f9",
   "metadata": {},
   "outputs": [],
   "source": [
    "import scipy.linalg"
   ]
  },
  {
   "cell_type": "code",
   "execution_count": 4,
   "id": "92d8f0ca-59b3-474d-b9d9-292291691c6f",
   "metadata": {},
   "outputs": [],
   "source": [
    "omegas=log_eqparamsample_3vertex()"
   ]
  },
  {
   "cell_type": "code",
   "execution_count": 5,
   "id": "eb4baca4-29f2-44ad-8fcb-4d16de71320d",
   "metadata": {},
   "outputs": [],
   "source": [
    "param_choice = param_choice()"
   ]
  },
  {
   "cell_type": "code",
   "execution_count": 6,
   "id": "94f2be65-aec2-41a1-8f9e-5071123b2864",
   "metadata": {},
   "outputs": [
    {
     "data": {
      "text/plain": [
       "array([3.61344832e-01, 1.97586574e+02, 2.06525519e-01, 7.91581383e-01,\n",
       "       1.38339864e+00, 2.89937757e+03])"
      ]
     },
     "execution_count": 6,
     "metadata": {},
     "output_type": "execute_result"
    }
   ],
   "source": [
    "omegas"
   ]
  },
  {
   "cell_type": "code",
   "execution_count": 7,
   "id": "224c1de8-e4e9-44bb-a43b-2edff0ab28b2",
   "metadata": {},
   "outputs": [
    {
     "data": {
      "text/plain": [
       "4"
      ]
     },
     "execution_count": 7,
     "metadata": {},
     "output_type": "execute_result"
    }
   ],
   "source": [
    "param_choice"
   ]
  },
  {
   "cell_type": "code",
   "execution_count": 14,
   "id": "84e4ace3-744f-46a1-97e2-20f65dca22df",
   "metadata": {},
   "outputs": [],
   "source": [
    "num_perturbations = 10000\n",
    "observable = [3,5,7]\n",
    "tau_n = np.arange(0.01,2.0,step=0.01)"
   ]
  },
  {
   "cell_type": "code",
   "execution_count": 15,
   "id": "08cfe652-f44c-4fcd-82d8-89e39847fef6",
   "metadata": {},
   "outputs": [
    {
     "name": "stderr",
     "output_type": "stream",
     "text": [
      "/Users/sabinahaque/Desktop/Gunawardena-lab/my-stuff/noneq-signatures/steinberg_utils.py:266: RuntimeWarning: invalid value encountered in double_scalars\n",
      "  return np.abs(np.trapz(t)-np.trapz(t_rev))\n",
      "/Users/sabinahaque/opt/anaconda3/lib/python3.9/site-packages/numpy/linalg/linalg.py:2585: RuntimeWarning: overflow encountered in reduce\n",
      "  ret = add.reduce(abs(x), axis=row_axis).max(axis=col_axis)\n"
     ]
    },
    {
     "ename": "OverflowError",
     "evalue": "cannot convert float infinity to integer",
     "output_type": "error",
     "traceback": [
      "\u001b[0;31m---------------------------------------------------------------------------\u001b[0m",
      "\u001b[0;31mOverflowError\u001b[0m                             Traceback (most recent call last)",
      "Input \u001b[0;32mIn [15]\u001b[0m, in \u001b[0;36m<cell line: 1>\u001b[0;34m()\u001b[0m\n\u001b[0;32m----> 1\u001b[0m forces, areas \u001b[38;5;241m=\u001b[39m \u001b[43mforce_area\u001b[49m\u001b[43m(\u001b[49m\u001b[43mnum_perturbations\u001b[49m\u001b[43m,\u001b[49m\u001b[43m \u001b[49m\u001b[43momegas\u001b[49m\u001b[43m,\u001b[49m\u001b[43m \u001b[49m\u001b[43mparam_choice\u001b[49m\u001b[43m,\u001b[49m\u001b[43m \u001b[49m\u001b[43mobservable\u001b[49m\u001b[43m,\u001b[49m\u001b[43m \u001b[49m\u001b[43mtau_n\u001b[49m\u001b[43m)\u001b[49m\n",
      "File \u001b[0;32m~/Desktop/Gunawardena-lab/my-stuff/noneq-signatures/steinberg_utils.py:289\u001b[0m, in \u001b[0;36mforce_area\u001b[0;34m(num_perturbations, omegas, param_choice, observable, tau_n)\u001b[0m\n\u001b[1;32m    285\u001b[0m forces[i] \u001b[38;5;241m=\u001b[39m cycle_affinity_3state(omegas)\n\u001b[1;32m    287\u001b[0m L \u001b[38;5;241m=\u001b[39m Laplacian_3state(omegas)\n\u001b[0;32m--> 289\u001b[0m t, t_rev \u001b[38;5;241m=\u001b[39m \u001b[43mNG_III_autocorrelation_analytical\u001b[49m\u001b[43m(\u001b[49m\u001b[43mobservable\u001b[49m\u001b[43m,\u001b[49m\u001b[43mL\u001b[49m\u001b[43m,\u001b[49m\u001b[43mtau_n\u001b[49m\u001b[43m,\u001b[49m\u001b[43malpha\u001b[49m\u001b[38;5;241;43m=\u001b[39;49m\u001b[38;5;241;43m1\u001b[39;49m\u001b[43m,\u001b[49m\u001b[43mbeta\u001b[49m\u001b[38;5;241;43m=\u001b[39;49m\u001b[38;5;241;43m3\u001b[39;49m\u001b[43m)\u001b[49m\n\u001b[1;32m    291\u001b[0m areas[i] \u001b[38;5;241m=\u001b[39m steinberg_signature(t,t_rev)\n\u001b[1;32m    293\u001b[0m \u001b[38;5;66;03m# modify the value of one parameter\u001b[39;00m\n",
      "File \u001b[0;32m~/Desktop/Gunawardena-lab/my-stuff/noneq-signatures/steinberg_utils.py:252\u001b[0m, in \u001b[0;36mNG_III_autocorrelation_analytical\u001b[0;34m(observable, L, tau_n, alpha, beta)\u001b[0m\n\u001b[1;32m    249\u001b[0m t \u001b[38;5;241m=\u001b[39m np\u001b[38;5;241m.\u001b[39mzeros(\u001b[38;5;28mlen\u001b[39m(tau_n))\n\u001b[1;32m    250\u001b[0m t_rev \u001b[38;5;241m=\u001b[39m np\u001b[38;5;241m.\u001b[39mzeros(\u001b[38;5;28mlen\u001b[39m(tau_n))\n\u001b[0;32m--> 252\u001b[0m list_result \u001b[38;5;241m=\u001b[39m \u001b[38;5;28;43mlist\u001b[39;49m\u001b[43m(\u001b[49m\u001b[38;5;28;43mmap\u001b[39;49m\u001b[43m(\u001b[49m\u001b[38;5;28;43;01mlambda\u001b[39;49;00m\u001b[43m \u001b[49m\u001b[43mi\u001b[49m\u001b[43m:\u001b[49m\u001b[43m \u001b[49m\u001b[43mscipy\u001b[49m\u001b[38;5;241;43m.\u001b[39;49m\u001b[43mlinalg\u001b[49m\u001b[38;5;241;43m.\u001b[39;49m\u001b[43mexpm\u001b[49m\u001b[43m(\u001b[49m\u001b[43mL\u001b[49m\u001b[38;5;241;43m*\u001b[39;49m\u001b[43mi\u001b[49m\u001b[43m)\u001b[49m\u001b[43m,\u001b[49m\u001b[43m \u001b[49m\u001b[43mtau_n\u001b[49m\u001b[43m)\u001b[49m\u001b[43m)\u001b[49m\n\u001b[1;32m    254\u001b[0m \u001b[38;5;66;03m# populate arrays with analytical solution to autocorrelation function\u001b[39;00m\n\u001b[1;32m    255\u001b[0m \u001b[38;5;28;01mfor\u001b[39;00m i \u001b[38;5;129;01min\u001b[39;00m \u001b[38;5;28mrange\u001b[39m(\u001b[38;5;28mlen\u001b[39m(tau_n)):\n",
      "File \u001b[0;32m~/Desktop/Gunawardena-lab/my-stuff/noneq-signatures/steinberg_utils.py:252\u001b[0m, in \u001b[0;36mNG_III_autocorrelation_analytical.<locals>.<lambda>\u001b[0;34m(i)\u001b[0m\n\u001b[1;32m    249\u001b[0m t \u001b[38;5;241m=\u001b[39m np\u001b[38;5;241m.\u001b[39mzeros(\u001b[38;5;28mlen\u001b[39m(tau_n))\n\u001b[1;32m    250\u001b[0m t_rev \u001b[38;5;241m=\u001b[39m np\u001b[38;5;241m.\u001b[39mzeros(\u001b[38;5;28mlen\u001b[39m(tau_n))\n\u001b[0;32m--> 252\u001b[0m list_result \u001b[38;5;241m=\u001b[39m \u001b[38;5;28mlist\u001b[39m(\u001b[38;5;28mmap\u001b[39m(\u001b[38;5;28;01mlambda\u001b[39;00m i: \u001b[43mscipy\u001b[49m\u001b[38;5;241;43m.\u001b[39;49m\u001b[43mlinalg\u001b[49m\u001b[38;5;241;43m.\u001b[39;49m\u001b[43mexpm\u001b[49m\u001b[43m(\u001b[49m\u001b[43mL\u001b[49m\u001b[38;5;241;43m*\u001b[39;49m\u001b[43mi\u001b[49m\u001b[43m)\u001b[49m, tau_n))\n\u001b[1;32m    254\u001b[0m \u001b[38;5;66;03m# populate arrays with analytical solution to autocorrelation function\u001b[39;00m\n\u001b[1;32m    255\u001b[0m \u001b[38;5;28;01mfor\u001b[39;00m i \u001b[38;5;129;01min\u001b[39;00m \u001b[38;5;28mrange\u001b[39m(\u001b[38;5;28mlen\u001b[39m(tau_n)):\n",
      "File \u001b[0;32m~/opt/anaconda3/lib/python3.9/site-packages/scipy/linalg/matfuncs.py:255\u001b[0m, in \u001b[0;36mexpm\u001b[0;34m(A)\u001b[0m\n\u001b[1;32m    253\u001b[0m \u001b[38;5;66;03m# Input checking and conversion is provided by sparse.linalg.expm().\u001b[39;00m\n\u001b[1;32m    254\u001b[0m \u001b[38;5;28;01mimport\u001b[39;00m \u001b[38;5;21;01mscipy\u001b[39;00m\u001b[38;5;21;01m.\u001b[39;00m\u001b[38;5;21;01msparse\u001b[39;00m\u001b[38;5;21;01m.\u001b[39;00m\u001b[38;5;21;01mlinalg\u001b[39;00m\n\u001b[0;32m--> 255\u001b[0m \u001b[38;5;28;01mreturn\u001b[39;00m \u001b[43mscipy\u001b[49m\u001b[38;5;241;43m.\u001b[39;49m\u001b[43msparse\u001b[49m\u001b[38;5;241;43m.\u001b[39;49m\u001b[43mlinalg\u001b[49m\u001b[38;5;241;43m.\u001b[39;49m\u001b[43mexpm\u001b[49m\u001b[43m(\u001b[49m\u001b[43mA\u001b[49m\u001b[43m)\u001b[49m\n",
      "File \u001b[0;32m~/opt/anaconda3/lib/python3.9/site-packages/scipy/sparse/linalg/matfuncs.py:591\u001b[0m, in \u001b[0;36mexpm\u001b[0;34m(A)\u001b[0m\n\u001b[1;32m    546\u001b[0m \u001b[38;5;28;01mdef\u001b[39;00m \u001b[38;5;21mexpm\u001b[39m(A):\n\u001b[1;32m    547\u001b[0m     \u001b[38;5;124;03m\"\"\"\u001b[39;00m\n\u001b[1;32m    548\u001b[0m \u001b[38;5;124;03m    Compute the matrix exponential using Pade approximation.\u001b[39;00m\n\u001b[1;32m    549\u001b[0m \n\u001b[0;32m   (...)\u001b[0m\n\u001b[1;32m    589\u001b[0m \u001b[38;5;124;03m            [  0.        ,   0.        ,  20.08553692]])\u001b[39;00m\n\u001b[1;32m    590\u001b[0m \u001b[38;5;124;03m    \"\"\"\u001b[39;00m\n\u001b[0;32m--> 591\u001b[0m     \u001b[38;5;28;01mreturn\u001b[39;00m \u001b[43m_expm\u001b[49m\u001b[43m(\u001b[49m\u001b[43mA\u001b[49m\u001b[43m,\u001b[49m\u001b[43m \u001b[49m\u001b[43muse_exact_onenorm\u001b[49m\u001b[38;5;241;43m=\u001b[39;49m\u001b[38;5;124;43m'\u001b[39;49m\u001b[38;5;124;43mauto\u001b[39;49m\u001b[38;5;124;43m'\u001b[39;49m\u001b[43m)\u001b[49m\n",
      "File \u001b[0;32m~/opt/anaconda3/lib/python3.9/site-packages/scipy/sparse/linalg/matfuncs.py:670\u001b[0m, in \u001b[0;36m_expm\u001b[0;34m(A, use_exact_onenorm)\u001b[0m\n\u001b[1;32m    668\u001b[0m     s \u001b[38;5;241m=\u001b[39m \u001b[38;5;241m0\u001b[39m\n\u001b[1;32m    669\u001b[0m \u001b[38;5;28;01melse\u001b[39;00m:\n\u001b[0;32m--> 670\u001b[0m     s \u001b[38;5;241m=\u001b[39m \u001b[38;5;28mmax\u001b[39m(\u001b[38;5;28;43mint\u001b[39;49m\u001b[43m(\u001b[49m\u001b[43mnp\u001b[49m\u001b[38;5;241;43m.\u001b[39;49m\u001b[43mceil\u001b[49m\u001b[43m(\u001b[49m\u001b[43mnp\u001b[49m\u001b[38;5;241;43m.\u001b[39;49m\u001b[43mlog2\u001b[49m\u001b[43m(\u001b[49m\u001b[43meta_5\u001b[49m\u001b[43m \u001b[49m\u001b[38;5;241;43m/\u001b[39;49m\u001b[43m \u001b[49m\u001b[43mtheta_13\u001b[49m\u001b[43m)\u001b[49m\u001b[43m)\u001b[49m\u001b[43m)\u001b[49m, \u001b[38;5;241m0\u001b[39m)\n\u001b[1;32m    671\u001b[0m s \u001b[38;5;241m=\u001b[39m s \u001b[38;5;241m+\u001b[39m _ell(\u001b[38;5;241m2\u001b[39m\u001b[38;5;241m*\u001b[39m\u001b[38;5;241m*\u001b[39m\u001b[38;5;241m-\u001b[39ms \u001b[38;5;241m*\u001b[39m h\u001b[38;5;241m.\u001b[39mA, \u001b[38;5;241m13\u001b[39m)\n\u001b[1;32m    672\u001b[0m U, V \u001b[38;5;241m=\u001b[39m h\u001b[38;5;241m.\u001b[39mpade13_scaled(s)\n",
      "\u001b[0;31mOverflowError\u001b[0m: cannot convert float infinity to integer"
     ]
    }
   ],
   "source": [
    "forces, areas = force_area(num_perturbations, omegas, param_choice, observable, tau_n)"
   ]
  },
  {
   "cell_type": "code",
   "execution_count": 16,
   "id": "82b27ac8-cbfc-41cc-a2d4-94cccae0d0b0",
   "metadata": {},
   "outputs": [],
   "source": [
    "import matplotlib.pyplot as plt"
   ]
  },
  {
   "cell_type": "code",
   "execution_count": 17,
   "id": "89e1d674-9f88-47da-a9e0-01d98e1c5d60",
   "metadata": {},
   "outputs": [
    {
     "data": {
      "text/plain": [
       "[<matplotlib.lines.Line2D at 0x7fb0790c3070>]"
      ]
     },
     "execution_count": 17,
     "metadata": {},
     "output_type": "execute_result"
    },
    {
     "data": {
      "image/png": "[encoded data removed]",
      "text/plain": [
       "<Figure size 432x288 with 1 Axes>"
      ]
     },
     "metadata": {
      "needs_background": "light"
     },
     "output_type": "display_data"
    }
   ],
   "source": [
    "plt.plot(forces,areas)"
   ]
  },
  {
   "cell_type": "code",
   "execution_count": null,
   "id": "416fc1e9-c0be-4fb6-9051-68d6122ddcdf",
   "metadata": {},
   "outputs": [],
   "source": []
  }
 ],
 "metadata": {
  "kernelspec": {
   "display_name": "Python 3 (ipykernel)",
   "language": "python",
   "name": "python3"
  },
  "language_info": {
   "codemirror_mode": {
    "name": "ipython",
    "version": 3
   },
   "file_extension": ".py",
   "mimetype": "text/x-python",
   "name": "python",
   "nbconvert_exporter": "python",
   "pygments_lexer": "ipython3",
   "version": "3.9.12"
  }
 },
 "nbformat": 4,
 "nbformat_minor": 5
}
