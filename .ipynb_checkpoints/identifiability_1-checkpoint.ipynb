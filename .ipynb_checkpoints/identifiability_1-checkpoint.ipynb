{
 "cells": [
  {
   "cell_type": "code",
   "execution_count": 1,
   "id": "b46661f0-723e-4cb7-8bc1-e1898b68aabe",
   "metadata": {},
   "outputs": [],
   "source": [
    "from math import *                         # useful math functions\n",
    "import numpy as np                         # useful array objects\n",
    "                                           # (also a core scientific computing library)\n",
    "\n",
    "from scipy.integrate import odeint as ode  # ode solver\n",
    "import matplotlib.pyplot as plt            # nice plotting commands, very similar to Matlab commands\n",
    "from scipy.stats import poisson\n",
    "from scipy.stats import norm\n",
    "import scipy.optimize as optimize          #optimizer function package="
   ]
  },
  {
   "cell_type": "code",
   "execution_count": null,
   "id": "2cddd7a9-a00f-45cc-8060-52051ca0ae0d",
   "metadata": {},
   "outputs": [],
   "source": []
  }
 ],
 "metadata": {
  "kernelspec": {
   "display_name": "Python [conda env:base] *",
   "language": "python",
   "name": "conda-base-py"
  },
  "language_info": {
   "codemirror_mode": {
    "name": "ipython",
    "version": 3
   },
   "file_extension": ".py",
   "mimetype": "text/x-python",
   "name": "python",
   "nbconvert_exporter": "python",
   "pygments_lexer": "ipython3",
   "version": "3.13.5"
  }
 },
 "nbformat": 4,
 "nbformat_minor": 5
}
