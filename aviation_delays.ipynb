{
 "cells": [
  {
   "cell_type": "code",
   "execution_count": 1,
   "id": "ba245706-43d3-4de4-b624-9a75ca9291df",
   "metadata": {},
   "outputs": [],
   "source": [
    "import numpy as np\n",
    "import scipy.linalg\n",
    "import networkx as nx\n",
    "import matplotlib.pyplot as plt\n",
    "from tqdm import tqdm\n",
    "\n",
    "import gurobipy as gp\n",
    "from gurobipy import GRB\n",
    "\n",
    "from general_graph_utils import *"
   ]
  },
  {
   "cell_type": "markdown",
   "id": "3744718f-7a00-4a5a-8951-42d1e7dd8812",
   "metadata": {},
   "source": [
    "The BHH theorem tells us that if we have a Euclidean manifold on which there is a collection of points we want to visit, viewed as random variables, then the minimum length of the tours that hits all points has a nice upper bound. This upper bound guarantees nice behavior.\n",
    "\n",
    "Here, we seek to understand if the BHH theorem can help us understand the asymptotic and dynamic behavior of delays in air transportation networks. We associated with each node of the network a probability distribution, and want to understand how delays propagate. There is a deterministic spreading process of delays, and these delays can propagate throughout the entire network.\n",
    "\n",
    "We start by building a graph that contains all ARR and DEP airports as the set of nodes, and some edges to represent the set of active flights. Randomness will allow us the creation of a new node. The goal is to link propagation behavior of the signals through a random graph."
   ]
  },
  {
   "cell_type": "code",
   "execution_count": 4,
   "id": "3b1b1295-6dde-46b9-9399-eb8e4a52c72e",
   "metadata": {},
   "outputs": [
    {
     "name": "stdout",
     "output_type": "stream",
     "text": [
      "Gurobi Optimizer version 12.0.0 build v12.0.0rc1 (mac64[rosetta2] - Darwin 23.2.0 23C64)\n",
      "\n",
      "CPU model: Apple M1\n",
      "Thread count: 8 physical cores, 8 logical processors, using up to 8 threads\n",
      "\n",
      "Optimize a model with 92 rows, 110 columns and 396 nonzeros\n",
      "Model fingerprint: 0x48d6eb23\n",
      "Variable types: 10 continuous, 100 integer (100 binary)\n",
      "Coefficient statistics:\n",
      "  Matrix range     [1e+00, 1e+01]\n",
      "  Objective range  [3e-02, 1e+00]\n",
      "  Bounds range     [1e+00, 1e+00]\n",
      "  RHS range        [1e+00, 9e+00]\n",
      "Found heuristic solution: objective 5.8394810\n",
      "Presolve removed 0 rows and 11 columns\n",
      "Presolve time: 0.00s\n",
      "Presolved: 92 rows, 99 columns, 396 nonzeros\n",
      "Variable types: 9 continuous, 90 integer (90 binary)\n",
      "\n",
      "Root relaxation: objective 2.815643e+00, 30 iterations, 0.00 seconds (0.00 work units)\n",
      "\n",
      "    Nodes    |    Current Node    |     Objective Bounds      |     Work\n",
      " Expl Unexpl |  Obj  Depth IntInf | Incumbent    BestBd   Gap | It/Node Time\n",
      "\n",
      "     0     0    2.81564    0   10    5.83948    2.81564  51.8%     -    0s\n",
      "H    0     0                       4.7190562    2.81564  40.3%     -    0s\n",
      "H    0     0                       2.9948823    2.81564  5.98%     -    0s\n",
      "\n",
      "Cutting planes:\n",
      "  Learned: 4\n",
      "  Implied bound: 4\n",
      "  MIR: 8\n",
      "\n",
      "Explored 1 nodes (36 simplex iterations) in 0.02 seconds (0.00 work units)\n",
      "Thread count was 8 (of 8 available processors)\n",
      "\n",
      "Solution count 3: 2.99488 4.71906 5.83948 \n",
      "\n",
      "Optimal solution found (tolerance 1.00e-04)\n",
      "Best objective 2.994882318802e+00, best bound 2.994882318802e+00, gap 0.0000%\n"
     ]
    },
    {
     "data": {
      "image/png": "[encoded data removed]",
      "text/plain": [
       "<Figure size 576x576 with 1 Axes>"
      ]
     },
     "metadata": {
      "needs_background": "light"
     },
     "output_type": "display_data"
    }
   ],
   "source": [
    "# Generate random points in the unit square\n",
    "def generate_points(num_points):\n",
    "    #np.random.seed(42)  # For reproducibility\n",
    "    return np.random.rand(num_points, 2)\n",
    "\n",
    "# Calculate pairwise Euclidean distances\n",
    "def calculate_distances(points):\n",
    "    num_points = len(points)\n",
    "    distances = np.zeros((num_points, num_points))\n",
    "    for i in range(num_points):\n",
    "        for j in range(num_points):\n",
    "            distances[i, j] = np.linalg.norm(points[i] - points[j])\n",
    "    return distances\n",
    "\n",
    "# Solve the TSP using Gurobi\n",
    "def solve_tsp(distances):\n",
    "    num_points = len(distances)\n",
    "    model = gp.Model()\n",
    "\n",
    "    # Decision variables: x[i, j] is 1 if the tour goes directly from i to j\n",
    "    x = model.addVars(num_points, num_points, vtype=GRB.BINARY, name=\"x\")\n",
    "\n",
    "    # Objective: minimize total distance\n",
    "    model.setObjective(gp.quicksum(distances[i][j] * x[i, j] for i in range(num_points) for j in range(num_points)), GRB.MINIMIZE)\n",
    "\n",
    "    # Constraints: each node must have exactly one incoming and one outgoing edge\n",
    "    model.addConstrs(gp.quicksum(x[i, j] for j in range(num_points) if j != i) == 1 for i in range(num_points))\n",
    "    model.addConstrs(gp.quicksum(x[j, i] for j in range(num_points) if j != i) == 1 for i in range(num_points))\n",
    "\n",
    "    # Subtour elimination constraints (MTZ formulation)\n",
    "    u = model.addVars(num_points, vtype=GRB.CONTINUOUS, name=\"u\")\n",
    "    model.addConstrs((u[i] - u[j] + num_points * x[i, j] <= num_points - 1) for i in range(1, num_points) for j in range(1, num_points) if i != j)\n",
    "\n",
    "    # Optimize the model\n",
    "    model.optimize()\n",
    "\n",
    "    # Extract the solution\n",
    "    tour = []\n",
    "    if model.status == GRB.OPTIMAL:\n",
    "        solution = model.getAttr('x', x)\n",
    "        for i in range(num_points):\n",
    "            for j in range(num_points):\n",
    "                if solution[i, j] > 0.5:  # Edge is part of the tour\n",
    "                    tour.append((i, j))\n",
    "    return tour\n",
    "\n",
    "# Plot the TSP solution\n",
    "def plot_solution(points, tour):\n",
    "    plt.figure(figsize=(8, 8))\n",
    "    plt.scatter(points[:, 0], points[:, 1], c='red', label='Cities')\n",
    "    for i, (x, y) in enumerate(points):\n",
    "        plt.text(x, y, str(i), fontsize=12, ha='right')\n",
    "\n",
    "    for i, j in tour:\n",
    "        plt.plot([points[i, 0], points[j, 0]], [points[i, 1], points[j, 1]], 'b-')\n",
    "\n",
    "    plt.title(\"Traveling Salesman Problem Solution\")\n",
    "    plt.xlabel(\"X\")\n",
    "    plt.ylabel(\"Y\")\n",
    "    plt.legend()\n",
    "    plt.grid(True)\n",
    "    plt.show()\n",
    "\n",
    "# Main function\n",
    "def main():\n",
    "    num_points = 10\n",
    "    points = generate_points(num_points)\n",
    "    distances = calculate_distances(points)\n",
    "    tour = solve_tsp(distances)\n",
    "    plot_solution(points, tour)\n",
    "\n",
    "if __name__ == \"__main__\":\n",
    "    main()\n"
   ]
  },
  {
   "cell_type": "code",
   "execution_count": 7,
   "id": "8fdac652-86e6-4b2b-85b2-b28527f5d20e",
   "metadata": {},
   "outputs": [
    {
     "name": "stdout",
     "output_type": "stream",
     "text": [
      "Expected tour length for 10 points: 2.2515\n"
     ]
    }
   ],
   "source": [
    "def expected_tour_length_bhh(num_points):\n",
    "    beta_2 = 0.712  # BHH constant for 2D\n",
    "    area = 1        # Unit square\n",
    "    return beta_2 * np.sqrt(num_points)\n",
    "\n",
    "# Example usage\n",
    "num_points = 10\n",
    "expected_length = expected_tour_length_bhh(num_points)\n",
    "print(f\"Expected tour length for {num_points} points: {expected_length:.4f}\")"
   ]
  },
  {
   "cell_type": "code",
   "execution_count": null,
   "id": "1156ad4d-00be-4210-84f5-1438792ce9df",
   "metadata": {},
   "outputs": [],
   "source": []
  },
  {
   "cell_type": "code",
   "execution_count": null,
   "id": "6bce5edd-29ce-4077-9853-ce40d7a663b9",
   "metadata": {},
   "outputs": [],
   "source": []
  },
  {
   "cell_type": "code",
   "execution_count": 78,
   "id": "2f7fe6b2-fca0-4f80-ab7d-8c005590607b",
   "metadata": {},
   "outputs": [],
   "source": [
    "G = nx.DiGraph()\n",
    "G_size = 8\n",
    "nodes = np.arange(1,G_size+1,step=1)\n",
    "G.add_nodes_from(nodes)\n",
    "\n",
    "# no flights b/w EWR-LGA, EWR-PHL, PHL-LGA, DCA-IAD, BWI-DCA\n",
    "# flights from BOS, JFK, IAD to everywhere else\n",
    "G.add_edge(1,3, weight = np.random.choice(np.arange(1,10), size=1))\n",
    "G.add_edge(3,1, weight = np.random.choice(np.arange(1,10), size=1))\n",
    "G.add_edge(2,3, weight = np.random.choice(np.arange(1,10), size=1))\n",
    "G.add_edge(3,2, weight = np.random.choice(np.arange(1,10), size=1))\n",
    "G.add_edge(4,3, weight = np.random.choice(np.arange(1,10), size=1))\n",
    "G.add_edge(3,4, weight = np.random.choice(np.arange(1,10), size=1))\n",
    "G.add_edge(5,3, weight = np.random.choice(np.arange(1,10), size=1))\n",
    "G.add_edge(3,5, weight = np.random.choice(np.arange(1,10), size=1))\n",
    "G.add_edge(6,3, weight = np.random.choice(np.arange(1,10), size=1))\n",
    "G.add_edge(3,6, weight = np.random.choice(np.arange(1,10), size=1))\n",
    "G.add_edge(7,3, weight = np.random.choice(np.arange(1,10), size=1))\n",
    "G.add_edge(3,7, weight = np.random.choice(np.arange(1,10), size=1))\n",
    "G.add_edge(8,3, weight = np.random.choice(np.arange(1,10), size=1))\n",
    "G.add_edge(3,8, weight = np.random.choice(np.arange(1,10), size=1))\n",
    "\n",
    "G.add_edge(1,2, weight = np.random.choice(np.arange(1,10), size=1))\n",
    "G.add_edge(2,1, weight = np.random.choice(np.arange(1,10), size=1))\n",
    "G.add_edge(4,2, weight = np.random.choice(np.arange(1,10), size=1))\n",
    "G.add_edge(2,4, weight = np.random.choice(np.arange(1,10), size=1))\n",
    "G.add_edge(5,2, weight = np.random.choice(np.arange(1,10), size=1))\n",
    "G.add_edge(2,5, weight = np.random.choice(np.arange(1,10), size=1))\n",
    "G.add_edge(6,2, weight = np.random.choice(np.arange(1,10), size=1))\n",
    "G.add_edge(2,6, weight = np.random.choice(np.arange(1,10), size=1))\n",
    "G.add_edge(7,2, weight = np.random.choice(np.arange(1,10), size=1))\n",
    "G.add_edge(2,7, weight = np.random.choice(np.arange(1,10), size=1))\n",
    "G.add_edge(8,2, weight = np.random.choice(np.arange(1,10), size=1))\n",
    "G.add_edge(2,8, weight = np.random.choice(np.arange(1,10), size=1))\n",
    "\n",
    "G.add_edge(1,6, weight = np.random.choice(np.arange(1,10), size=1))\n",
    "G.add_edge(6,1, weight = np.random.choice(np.arange(1,10), size=1))\n",
    "G.add_edge(4,6, weight = np.random.choice(np.arange(1,10), size=1))\n",
    "G.add_edge(6,4, weight = np.random.choice(np.arange(1,10), size=1))\n",
    "G.add_edge(5,6, weight = np.random.choice(np.arange(1,10), size=1))\n",
    "G.add_edge(6,5, weight = np.random.choice(np.arange(1,10), size=1))\n",
    "G.add_edge(7,6, weight = np.random.choice(np.arange(1,10), size=1))\n",
    "G.add_edge(6,7, weight = np.random.choice(np.arange(1,10), size=1))\n",
    "G.add_edge(8,6, weight = np.random.choice(np.arange(1,10), size=1))\n",
    "G.add_edge(6,8, weight = np.random.choice(np.arange(1,10), size=1))\n",
    "\n",
    "G.add_edge(1,7, weight = np.random.choice(np.arange(1,10), size=1))\n",
    "G.add_edge(7,1, weight = np.random.choice(np.arange(1,10), size=1))\n",
    "G.add_edge(4,7, weight = np.random.choice(np.arange(1,10), size=1))\n",
    "G.add_edge(7,4, weight = np.random.choice(np.arange(1,10), size=1))\n",
    "G.add_edge(5,7, weight = np.random.choice(np.arange(1,10), size=1))\n",
    "G.add_edge(7,5, weight = np.random.choice(np.arange(1,10), size=1))"
   ]
  },
  {
   "cell_type": "code",
   "execution_count": 79,
   "id": "e0a0619c-f559-4a2c-8789-ff115e6a6f9b",
   "metadata": {},
   "outputs": [
    {
     "data": {
      "image/png": "[encoded data removed]",
      "text/plain": [
       "<Figure size 432x288 with 1 Axes>"
      ]
     },
     "metadata": {},
     "output_type": "display_data"
    }
   ],
   "source": [
    "node_labels = {}\n",
    "node_labels[1] = \"LGA\"\n",
    "node_labels[2] = \"JFK\"\n",
    "node_labels[3] = \"BOS\"\n",
    "node_labels[4] = \"EWR\"\n",
    "node_labels[5] = \"PHL\"\n",
    "node_labels[6] = \"IAD\"\n",
    "node_labels[7] = \"BWI\"\n",
    "node_labels[8] = \"DCA\"\n",
    "nx.draw(G, pos=nx.circular_layout(G), labels=node_labels, with_labels=True,node_size=2000, node_color = 'lightgray', font_size=18, font_color='black', font_family='sans-serif')"
   ]
  },
  {
   "cell_type": "markdown",
   "id": "a0dea20b-f6e5-4d93-aa4a-9e3f78170cdc",
   "metadata": {},
   "source": [
    "Certain tours will delay the spreading of dealys. A tour in this context is a set of flights that don't go back. A tour of degree 2 is a tour that is not allowed to revisit a node. We can make a more relaxed tour that allows for some backtracking.\n",
    "\n",
    "One of our goals is figuring out how ot translate BHH (which is a property of the length of a tour) into some aspect of time. The J Michael Steele paper has different types of extensions of the BHH to different types of graphs."
   ]
  },
  {
   "cell_type": "code",
   "execution_count": 80,
   "id": "bb68e468-c09c-4140-924f-ff33f852e886",
   "metadata": {},
   "outputs": [
    {
     "data": {
      "text/plain": [
       "[(1, 7),\n",
       " (7, 6),\n",
       " (6, 8),\n",
       " (8, 3),\n",
       " (3, 8),\n",
       " (8, 2),\n",
       " (2, 8),\n",
       " (8, 6),\n",
       " (6, 7),\n",
       " (7, 5),\n",
       " (5, 6),\n",
       " (6, 5),\n",
       " (5, 7),\n",
       " (7, 4),\n",
       " (4, 6),\n",
       " (6, 4),\n",
       " (4, 7),\n",
       " (7, 3),\n",
       " (3, 6),\n",
       " (6, 3),\n",
       " (3, 5),\n",
       " (5, 3),\n",
       " (3, 4),\n",
       " (4, 3),\n",
       " (3, 7),\n",
       " (7, 2),\n",
       " (2, 6),\n",
       " (6, 2),\n",
       " (2, 5),\n",
       " (5, 2),\n",
       " (2, 4),\n",
       " (4, 2),\n",
       " (2, 3),\n",
       " (3, 2),\n",
       " (2, 7),\n",
       " (7, 1),\n",
       " (1, 6),\n",
       " (6, 1),\n",
       " (1, 3),\n",
       " (3, 1),\n",
       " (1, 2),\n",
       " (2, 1)]"
      ]
     },
     "execution_count": 80,
     "metadata": {},
     "output_type": "execute_result"
    }
   ],
   "source": [
    "list(nx.eulerian_circuit(G,source=1))"
   ]
  },
  {
   "cell_type": "code",
   "execution_count": 82,
   "id": "75f58941-5bdf-4b0a-9e84-dfb818e00da0",
   "metadata": {},
   "outputs": [],
   "source": [
    "vertices = [u for u, v in nx.eulerian_circuit(G)]"
   ]
  },
  {
   "cell_type": "code",
   "execution_count": 83,
   "id": "604c3e41-e3bd-4d97-ada5-808fc47c867f",
   "metadata": {},
   "outputs": [
    {
     "name": "stdout",
     "output_type": "stream",
     "text": [
      "LGA\n",
      "BWI\n",
      "IAD\n",
      "DCA\n",
      "BOS\n",
      "DCA\n",
      "JFK\n",
      "DCA\n",
      "IAD\n",
      "BWI\n",
      "PHL\n",
      "IAD\n",
      "PHL\n",
      "BWI\n",
      "EWR\n",
      "IAD\n",
      "EWR\n",
      "BWI\n",
      "BOS\n",
      "IAD\n",
      "BOS\n",
      "PHL\n",
      "BOS\n",
      "EWR\n",
      "BOS\n",
      "BWI\n",
      "JFK\n",
      "IAD\n",
      "JFK\n",
      "PHL\n",
      "JFK\n",
      "EWR\n",
      "JFK\n",
      "BOS\n",
      "JFK\n",
      "BWI\n",
      "LGA\n",
      "IAD\n",
      "LGA\n",
      "BOS\n",
      "LGA\n",
      "JFK\n"
     ]
    }
   ],
   "source": [
    "for i in range(len(vertices)):\n",
    "    print(node_labels[vertices[i]])"
   ]
  },
  {
   "cell_type": "code",
   "execution_count": null,
   "id": "f30df4ec-c503-45b4-a51c-261ffc4b9172",
   "metadata": {},
   "outputs": [],
   "source": []
  }
 ],
 "metadata": {
  "kernelspec": {
   "display_name": "Python 3 (ipykernel)",
   "language": "python",
   "name": "python3"
  },
  "language_info": {
   "codemirror_mode": {
    "name": "ipython",
    "version": 3
   },
   "file_extension": ".py",
   "mimetype": "text/x-python",
   "name": "python",
   "nbconvert_exporter": "python",
   "pygments_lexer": "ipython3",
   "version": "3.9.19"
  }
 },
 "nbformat": 4,
 "nbformat_minor": 5
}
