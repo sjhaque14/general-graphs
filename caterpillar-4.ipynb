{
 "cells": [
  {
   "cell_type": "code",
   "execution_count": 3,
   "id": "da6a10a7-c931-4e0d-a837-fd82097a2b50",
   "metadata": {},
   "outputs": [],
   "source": [
    "import matplotlib\n",
    "%matplotlib inline\n",
    "\n",
    "#matplotlib.use('TkAgg')  # Set Matplotlib backend to TkAgg (for interactive plotting on some systems)\n",
    "\n",
    "import numpy as np\n",
    "import matplotlib.pyplot as plt  # Standard plotting\n",
    "from matplotlib.animation import FuncAnimation  # Optional: for animations\n",
    "\n",
    "from shapely.geometry import LineString, Point, MultiPoint, GeometryCollection\n",
    "from shapely.ops import split\n",
    "from shapely.strtree import STRtree  # For spatial indexing of geometries\n",
    "from collections import defaultdict\n",
    "import networkx as nx # reconstruct network\n",
    "import random  # For Python’s own RNG (not used yet)\n",
    "\n",
    "import cv2\n",
    "from StructuralGT.electronic import Electronic\n",
    "from StructuralGT.networks import Network\n",
    "\n",
    "plt.rc(\"text\", usetex=False)  # Use standard text rendering (no LaTeX)\n",
    "plt.rc(\"font\", family = \"serif\")  # Set font to serif\n",
    "plt.rc(\"figure\", figsize=(10,8))  # Default figure size\n",
    "\n",
    "%config InlineBackend.figure_format = 'retina'  # Jupyter setting for high-res inline plots (won’t work in script mode)"
   ]
  },
  {
   "cell_type": "code",
   "execution_count": null,
   "id": "b432849f-2064-4e1d-876e-499c7ed53892",
   "metadata": {},
   "outputs": [],
   "source": []
  }
 ],
 "metadata": {
  "kernelspec": {
   "display_name": "Python 3 (ipykernel)",
   "language": "python",
   "name": "python3"
  },
  "language_info": {
   "codemirror_mode": {
    "name": "ipython",
    "version": 3
   },
   "file_extension": ".py",
   "mimetype": "text/x-python",
   "name": "python",
   "nbconvert_exporter": "python",
   "pygments_lexer": "ipython3",
   "version": "3.12.11"
  }
 },
 "nbformat": 4,
 "nbformat_minor": 5
}
