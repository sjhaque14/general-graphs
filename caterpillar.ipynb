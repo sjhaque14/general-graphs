{
 "cells": [
  {
   "cell_type": "code",
   "execution_count": 1,
   "id": "0ab3e361-0cee-4f13-8db9-c464c96f709e",
   "metadata": {},
   "outputs": [],
   "source": [
    "import numpy as np\n",
    "import scipy.linalg\n",
    "import networkx as nx\n",
    "import matplotlib.pyplot as plt\n",
    "from tqdm import tqdm\n",
    "\n",
    "from general_graph_utils import *\n",
    "\n",
    "# plot formatting\n",
    "plt.rc(\"text\", usetex=False)\n",
    "plt.rc(\"font\", family = \"serif\")\n",
    "plt.rc(\"figure\",figsize=(10,8))\n",
    "%config InlineBackend.figure_format = 'retina'"
   ]
  },
  {
   "cell_type": "code",
   "execution_count": null,
   "id": "855077ba-e759-42d2-a0df-e0172beb0aa8",
   "metadata": {},
   "outputs": [],
   "source": []
  }
 ],
 "metadata": {
  "kernelspec": {
   "display_name": "Python 3 (ipykernel)",
   "language": "python",
   "name": "python3"
  },
  "language_info": {
   "codemirror_mode": {
    "name": "ipython",
    "version": 3
   },
   "file_extension": ".py",
   "mimetype": "text/x-python",
   "name": "python",
   "nbconvert_exporter": "python",
   "pygments_lexer": "ipython3",
   "version": "3.9.19"
  }
 },
 "nbformat": 4,
 "nbformat_minor": 5
}
