{
 "cells": [
  {
   "cell_type": "code",
   "execution_count": 1,
   "id": "77789c8b-0f7c-495e-8cea-d4c5d85488b8",
   "metadata": {},
   "outputs": [],
   "source": [
    "import matplotlib\n",
    "matplotlib.use('TkAgg')  # Set Matplotlib backend to TkAgg (for interactive plotting on some systems)\n",
    "\n",
    "import numpy as np\n",
    "import matplotlib.pyplot as plt  # Standard plotting\n",
    "from matplotlib.animation import FuncAnimation  # Optional: for animations\n",
    "\n",
    "plt.rc(\"text\", usetex=False)  # Use standard text rendering (no LaTeX)\n",
    "plt.rc(\"font\", family = \"serif\")  # Set font to serif\n",
    "plt.rc(\"figure\", figsize=(10,8))  # Default figure size\n",
    "\n",
    "%config InlineBackend.figure_format = 'retina'  # Jupyter setting for high-res inline plots (won’t work in script mode)"
   ]
  },
  {
   "cell_type": "code",
   "execution_count": null,
   "id": "261e3b0a-6a70-46e5-87cb-961250d1855d",
   "metadata": {},
   "outputs": [],
   "source": [
    "# -----------------------------\n",
    "# Particle class: define properties and parameters for particles\n",
    "# -----------------------------\n",
    "class Particle:\n",
    "    def __init__(self, x, y, p_run, p_tumble, theta, speed, p_link, L_link_mean, L_link_std):\n",
    "        self.position = np.array([x, y])  # Current position (in unit square)\n",
    "        self.p_run = p_run  # Probability of running at each timestep\n",
    "        self.p_tumble = p_tumble  # Probability of tumbling (direction change)\n",
    "        self.theta = theta  # Current heading (angle in radians)\n",
    "        self.speed = speed  # Speed per timestep\n",
    "        self.p_link = p_link  # Probability of laying a link at each timestep\n",
    "        self.L_link_mean = L_link_mean  # Mean link length\n",
    "        self.L_link_std = L_link_std  # Std dev of link length\n",
    "        self.trail = [self.position.copy()]\n",
    "\n"
   ]
  }
 ],
 "metadata": {
  "kernelspec": {
   "display_name": "Python 3 (ipykernel)",
   "language": "python",
   "name": "python3"
  },
  "language_info": {
   "codemirror_mode": {
    "name": "ipython",
    "version": 3
   },
   "file_extension": ".py",
   "mimetype": "text/x-python",
   "name": "python",
   "nbconvert_exporter": "python",
   "pygments_lexer": "ipython3",
   "version": "3.9.19"
  }
 },
 "nbformat": 4,
 "nbformat_minor": 5
}
