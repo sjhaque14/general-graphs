{
 "cells": [
  {
   "cell_type": "code",
   "execution_count": 1,
   "id": "a754faf4-8782-4093-a280-2311dc2aba5c",
   "metadata": {},
   "outputs": [],
   "source": [
    "import numpy as np\n",
    "import scipy.linalg\n",
    "import networkx as nx\n",
    "import matplotlib.pyplot as plt\n",
    "import math\n",
    "from tqdm import tqdm\n",
    "\n",
    "from scipy.linalg import expm\n",
    "from scipy.linalg import null_space\n",
    "\n",
    "from general_graph_utils import *"
   ]
  },
  {
   "cell_type": "code",
   "execution_count": 2,
   "id": "94121850-b431-4c7a-a80b-34bc994b497b",
   "metadata": {},
   "outputs": [],
   "source": [
    "def affinity(k12,k21,k23,k32,k31,k13):\n",
    "    aff = np.log((k12*k23*k31)/(k13*k32*k21))\n",
    "    return aff"
   ]
  },
  {
   "cell_type": "code",
   "execution_count": 3,
   "id": "10d2086d-1aae-4c95-9428-f74d23ae0ad7",
   "metadata": {},
   "outputs": [],
   "source": [
    "# Transition rate matrix W\n",
    "def transition_matrix(k12,k21,k23,k32,k31,k13):\n",
    "    W = np.array([\n",
    "        [-k12 - k13, k21, k31],  # Transition rates from E1\n",
    "        [k12, -k21 - k23, k32],  # Transition rates from E2\n",
    "        [k13, k23, -k31 - k32],  # Transition rates from E3\n",
    "    ])\n",
    "    return W"
   ]
  },
  {
   "cell_type": "code",
   "execution_count": 4,
   "id": "0b2c0a0b-0cbc-4326-b88d-d347fcbc3bba",
   "metadata": {},
   "outputs": [],
   "source": [
    "# Compute the stationary distribution pi\n",
    "def stationary_distribution(W):\n",
    "    W_T = W.T\n",
    "    pi = null_space(W_T).flatten()\n",
    "    pi /= np.sum(pi)  # Normalize to ensure sum(pi) = 1\n",
    "    return pi"
   ]
  },
  {
   "cell_type": "code",
   "execution_count": 5,
   "id": "27e3554c-ef5f-471b-aded-1936836dfd41",
   "metadata": {},
   "outputs": [],
   "source": [
    "# Function to compute the correlation function C(t)\n",
    "def correlation_function(t, W, pi):\n",
    "    exp_Wt = expm(W * t)  # Compute the matrix exponential e^(Wt)\n",
    "    return np.dot(exp_Wt[0], pi)  # e^(Wt)[1j] * pi[j] summed over j"
   ]
  },
  {
   "cell_type": "markdown",
   "id": "2d3822e3-58c8-4a46-9f80-b10eee5d980f",
   "metadata": {},
   "source": [
    "All rates = 1.0"
   ]
  },
  {
   "cell_type": "code",
   "execution_count": 6,
   "id": "77f99b23-ac73-4cb5-bb54-c5323c6122dc",
   "metadata": {},
   "outputs": [
    {
     "name": "stdout",
     "output_type": "stream",
     "text": [
      "0.0\n",
      "[-3.0000000e+00+0.j  4.4408921e-16+0.j -3.0000000e+00+0.j]\n",
      "0.0\n"
     ]
    }
   ],
   "source": [
    "# Parameters for the unicyclic network (from the paper's description)\n",
    "# Rates are chosen to create oscillations similar to those in the paper\n",
    "k12, k21 = 1.0, 1.0  # Rates between E1 and E2\n",
    "k23, k32 = 1.0, 1.0  # Rates between E2 and E3\n",
    "k31, k13 = 1.0, 1.0  # Rates between E3 and E1\n",
    "\n",
    "print(affinity(k12,k21,k23,k32,k31,k13))\n",
    "\n",
    "W = transition_matrix(k12,k21,k23,k32,k31,k13)\n",
    "pi = stationary_distribution(W)\n",
    "eigvals, eigvecs = scipy.linalg.eig(W)\n",
    "print(eigvals)\n",
    "\n",
    "x_i = eigvals[1].imag\n",
    "x_r = eigvals[1].real\n",
    "R = x_i/x_r\n",
    "print(R/2*math.pi)\n",
    "\n",
    "# Time points for the plot\n",
    "times = np.linspace(0, 10, 500)  # Time from 0 to 10 with 500 points\n",
    "# Compute C(t) for each time point\n",
    "correlation_values = [correlation_function(t, W, pi) for t in times]"
   ]
  },
  {
   "cell_type": "code",
   "execution_count": 7,
   "id": "f421d87f-b128-4ea8-81d5-d23cd8a85579",
   "metadata": {},
   "outputs": [
    {
     "data": {
      "image/png": "[encoded data removed]",
      "text/plain": [
       "<Figure size 432x288 with 1 Axes>"
      ]
     },
     "metadata": {
      "needs_background": "light"
     },
     "output_type": "display_data"
    }
   ],
   "source": [
    "plt.plot(times, correlation_values, label='C(t)')\n",
    "plt.xlabel('Time (t)')\n",
    "plt.ylabel('Correlation Function C(t)')\n",
    "plt.title('Correlation Function in a Three-State System')\n",
    "plt.legend()\n",
    "plt.grid()\n",
    "plt.show()"
   ]
  },
  {
   "cell_type": "markdown",
   "id": "7ae6834d-f1d6-4a9a-859b-9bf98e008d6a",
   "metadata": {},
   "source": [
    "$\\mathcal{A}$ = 1.0"
   ]
  },
  {
   "cell_type": "code",
   "execution_count": 8,
   "id": "7e9af4e3-82e0-4c94-b9a5-0af65ff6541c",
   "metadata": {},
   "outputs": [
    {
     "name": "stdout",
     "output_type": "stream",
     "text": [
      "1.0986122886681098\n",
      "[ 4.4408921e-16+0.j -3.5000000e+00+0.j -4.5000000e+00+0.j]\n",
      "0.0\n"
     ]
    }
   ],
   "source": [
    "# Define the transition rate matrix W\n",
    "# Rates: k_ij is the rate from state i to state j\n",
    "k12, k21 = 1.0, 2.0  # Rates between E1 and E2\n",
    "k23, k32 = 1.5, 1.0  # Rates between E2 and E3\n",
    "k31, k13 = 2.0, 0.5  # Rates between E3 and E1\n",
    "\n",
    "print(affinity(k12,k21,k23,k32,k31,k13))\n",
    "\n",
    "W = transition_matrix(k12,k21,k23,k32,k31,k13)\n",
    "pi = stationary_distribution(W)\n",
    "eigvals, eigvecs = scipy.linalg.eig(W)\n",
    "print(eigvals)\n",
    "\n",
    "x_i = np.abs(eigvals[1].imag)\n",
    "x_r = np.abs(eigvals[1].real)\n",
    "R = x_i/x_r\n",
    "print(R/2*math.pi)\n",
    "\n",
    "# Time points for the plot\n",
    "times = np.linspace(0, 10, 500)  # Time from 0 to 10 with 500 points\n",
    "# Compute C(t) for each time point\n",
    "correlation_values = [correlation_function(t, W, pi) for t in times]"
   ]
  },
  {
   "cell_type": "code",
   "execution_count": 9,
   "id": "d7418b67-593a-46f6-8227-26332582c6ea",
   "metadata": {},
   "outputs": [
    {
     "data": {
      "image/png": "[encoded data removed]",
      "text/plain": [
       "<Figure size 432x288 with 1 Axes>"
      ]
     },
     "metadata": {
      "needs_background": "light"
     },
     "output_type": "display_data"
    }
   ],
   "source": [
    "plt.plot(times, correlation_values, label='C(t)')\n",
    "plt.xlabel('Time (t)')\n",
    "plt.ylabel('Correlation Function C(t)')\n",
    "plt.title('Correlation Function in a Three-State System')\n",
    "plt.legend()\n",
    "plt.grid()\n",
    "plt.show()"
   ]
  },
  {
   "cell_type": "markdown",
   "id": "7a22ae74-3bae-4c7e-94b6-2af8ebfc2727",
   "metadata": {},
   "source": [
    "Oscillatory transition rates"
   ]
  },
  {
   "cell_type": "code",
   "execution_count": 10,
   "id": "884ea5eb-83d7-47f5-b80c-fd9b6b65b7ad",
   "metadata": {},
   "outputs": [
    {
     "name": "stdout",
     "output_type": "stream",
     "text": [
      "5.703782474656201\n",
      "[-3.18595413e-16+0.j         -2.65000000e+00+0.99874922j\n",
      " -2.65000000e+00-0.99874922j]\n",
      "0.5920119255341094\n"
     ]
    }
   ],
   "source": [
    "# Oscillatory transition rates\n",
    "k12, k21 = 1.0, 0.5  # Rates between E1 and E2\n",
    "k23, k32 = 1.5, 0.2  # Rates between E2 and E3\n",
    "k31, k13 = 2.0, 0.1  # Rates between E3 and E1\n",
    "\n",
    "print(affinity(k12,k21,k23,k32,k31,k13))\n",
    "\n",
    "W = transition_matrix(k12,k21,k23,k32,k31,k13)\n",
    "pi = stationary_distribution(W)\n",
    "eigvals, eigvecs = scipy.linalg.eig(W)\n",
    "print(eigvals)\n",
    "\n",
    "x_i = np.abs(eigvals[1].imag)\n",
    "x_r = np.abs(eigvals[1].real)\n",
    "R = x_i/x_r\n",
    "print(R/2*math.pi)\n",
    "\n",
    "# Time points for the plot\n",
    "times = np.linspace(0, 10, 500)  # Time from 0 to 10 with 500 points\n",
    "# Compute C(t) for each time point\n",
    "correlation_values = [correlation_function(t, W, pi) for t in times]"
   ]
  },
  {
   "cell_type": "code",
   "execution_count": 11,
   "id": "36cede54-9507-4c86-a98f-3dbf30a3cccb",
   "metadata": {},
   "outputs": [
    {
     "data": {
      "image/png": "[encoded data removed]",
      "text/plain": [
       "<Figure size 432x288 with 1 Axes>"
      ]
     },
     "metadata": {
      "needs_background": "light"
     },
     "output_type": "display_data"
    }
   ],
   "source": [
    "plt.plot(times, correlation_values, label='C(t)')\n",
    "plt.xlabel('Time (t)')\n",
    "plt.ylabel('Correlation Function C(t)')\n",
    "plt.title('Correlation Function in a Three-State System')\n",
    "plt.legend()\n",
    "plt.grid()\n",
    "plt.show()"
   ]
  },
  {
   "cell_type": "markdown",
   "id": "b27a67e4-59f4-40ab-bfd4-18838d2ea78c",
   "metadata": {},
   "source": [
    "Eigenvalues complex"
   ]
  },
  {
   "cell_type": "code",
   "execution_count": 13,
   "id": "d60eed85-1ce0-4142-a0fc-002e7ad8ad60",
   "metadata": {},
   "outputs": [
    {
     "name": "stdout",
     "output_type": "stream",
     "text": [
      "-7.325527183964429\n",
      "[-1.48585000e-01+0.05398063j -1.48585000e-01-0.05398063j\n",
      "  2.38637456e-17+0.j        ]\n",
      "0.5706671345841586\n"
     ]
    }
   ],
   "source": [
    "# Oscillatory transition rates\n",
    "k13, k12, k23, k21, k31, k32 = 0.10536, 0.00158, 0.00805, 0.06794, 0.03089, 0.08335\n",
    "\n",
    "print(affinity(k12,k21,k23,k32,k31,k13))\n",
    "\n",
    "W = transition_matrix(k12,k21,k23,k32,k31,k13)\n",
    "pi = stationary_distribution(W)\n",
    "eigvals, eigvecs = scipy.linalg.eig(W)\n",
    "print(eigvals)\n",
    "\n",
    "x_i = np.abs(eigvals[1].imag)\n",
    "x_r = np.abs(eigvals[1].real)\n",
    "R = x_i/x_r\n",
    "print(R/2*math.pi)\n",
    "\n",
    "# Time points for the plot\n",
    "times = np.linspace(0, 100, 500)  # Time from 0 to 10 with 500 points\n",
    "# Compute C(t) for each time point\n",
    "correlation_values = [correlation_function(t, W, pi) for t in times]"
   ]
  },
  {
   "cell_type": "code",
   "execution_count": 14,
   "id": "f8e83ee2-7324-4f05-9a6f-c6f204beab71",
   "metadata": {},
   "outputs": [
    {
     "data": {
      "image/png": "[encoded data removed]",
      "text/plain": [
       "<Figure size 432x288 with 1 Axes>"
      ]
     },
     "metadata": {
      "needs_background": "light"
     },
     "output_type": "display_data"
    }
   ],
   "source": [
    "plt.plot(times, correlation_values, label='C(t)')\n",
    "plt.xlabel('Time (t)')\n",
    "plt.ylabel('Correlation Function C(t)')\n",
    "plt.title('Correlation Function in a Three-State System')\n",
    "plt.legend()\n",
    "plt.grid()\n",
    "plt.show()"
   ]
  },
  {
   "cell_type": "code",
   "execution_count": 38,
   "id": "23c5bf87-bbd4-4b7b-b972-b592ce554da7",
   "metadata": {},
   "outputs": [
    {
     "name": "stdout",
     "output_type": "stream",
     "text": [
      "18.836219768636184\n",
      "[ 3.58090794e-15+0.j         -1.70362750e+01+8.55151942j\n",
      " -1.70362750e+01-8.55151942j]\n",
      "0.7884760776858771\n"
     ]
    }
   ],
   "source": [
    "# Oscillatory transition rates\n",
    "k13, k12, k23, k21, k31, k32 = 1.160000e-03, 1.330766e+01, 8.319220e+00, 3.330000e-03, 1.046221e+01, 1.978970e+00\n",
    "\n",
    "print(affinity(k12,k21,k23,k32,k31,k13))\n",
    "\n",
    "W = transition_matrix(k12,k21,k23,k32,k31,k13)\n",
    "pi = stationary_distribution(W)\n",
    "eigvals, eigvecs = scipy.linalg.eig(W)\n",
    "print(eigvals)\n",
    "\n",
    "x_i = np.abs(eigvals[1].imag)\n",
    "x_r = np.abs(eigvals[1].real)\n",
    "R = x_i/x_r\n",
    "print(R/2*math.pi)\n",
    "\n",
    "# Time points for the plot\n",
    "times = np.linspace(0, 4, 500)  # Time from 0 to 10 with 500 points\n",
    "# Compute C(t) for each time point\n",
    "correlation_values = [correlation_function(t, W, pi) for t in times]"
   ]
  },
  {
   "cell_type": "code",
   "execution_count": 39,
   "id": "dacab563-2aa5-43a6-8edf-fe3255ed36ea",
   "metadata": {},
   "outputs": [
    {
     "data": {
      "image/png": "[encoded data removed]",
      "text/plain": [
       "<Figure size 432x288 with 1 Axes>"
      ]
     },
     "metadata": {
      "needs_background": "light"
     },
     "output_type": "display_data"
    }
   ],
   "source": [
    "plt.plot(times, correlation_values, label='C(t)')\n",
    "plt.xlabel('Time (t)')\n",
    "plt.ylabel('Correlation Function C(t)')\n",
    "plt.title('Correlation Function in a Three-State System')\n",
    "plt.legend()\n",
    "plt.grid()\n",
    "plt.show()"
   ]
  },
  {
   "cell_type": "markdown",
   "id": "40053865-7710-426a-8eae-fcf31f556808",
   "metadata": {},
   "source": [
    "Totally away from equilibrium (unidirectional)"
   ]
  },
  {
   "cell_type": "code",
   "execution_count": 15,
   "id": "38915188-1271-4846-a4e8-052ddf9ee296",
   "metadata": {},
   "outputs": [
    {
     "name": "stdout",
     "output_type": "stream",
     "text": [
      "[-1.4637965e-16+0.j         -2.2500000e+00+1.19895788j\n",
      " -2.2500000e+00-1.19895788j]\n",
      "0.8370305045274221\n"
     ]
    }
   ],
   "source": [
    "# Oscillatory transition rates\n",
    "k12, k21 = 1.0, 0  # Rates between E1 and E2\n",
    "k23, k32 = 1.5, 0  # Rates between E2 and E3\n",
    "k31, k13 = 2.0, 0  # Rates between E3 and E1\n",
    "\n",
    "W = transition_matrix(k12,k21,k23,k32,k31,k13)\n",
    "pi = stationary_distribution(W)\n",
    "eigvals, eigvecs = scipy.linalg.eig(W)\n",
    "print(eigvals)\n",
    "\n",
    "x_i = np.abs(eigvals[1].imag)\n",
    "x_r = np.abs(eigvals[1].real)\n",
    "R = x_i/x_r\n",
    "print(R/2*math.pi)\n",
    "\n",
    "# Time points for the plot\n",
    "times = np.linspace(0, 10, 500)  # Time from 0 to 10 with 500 points\n",
    "# Compute C(t) for each time point\n",
    "correlation_values = [correlation_function(t, W, pi) for t in times]"
   ]
  },
  {
   "cell_type": "code",
   "execution_count": 16,
   "id": "08c084ec-095c-4b2e-b922-f8f0350859ae",
   "metadata": {},
   "outputs": [
    {
     "data": {
      "image/png": "[encoded data removed]",
      "text/plain": [
       "<Figure size 432x288 with 1 Axes>"
      ]
     },
     "metadata": {
      "needs_background": "light"
     },
     "output_type": "display_data"
    }
   ],
   "source": [
    "plt.plot(times, correlation_values, label='C(t)')\n",
    "plt.xlabel('Time (t)')\n",
    "plt.ylabel('Correlation Function C(t)')\n",
    "plt.title('Correlation Function in a Three-State System')\n",
    "plt.legend()\n",
    "plt.grid()\n",
    "plt.show()"
   ]
  },
  {
   "cell_type": "code",
   "execution_count": 17,
   "id": "bd080d60-87bf-4f92-a66f-bbd84d770e39",
   "metadata": {},
   "outputs": [
    {
     "name": "stdout",
     "output_type": "stream",
     "text": [
      "8.987196820661973\n",
      "[-3.49536271e-15 +0.j         -3.15000000e+01+16.45448267j\n",
      " -3.15000000e+01-16.45448267j]\n",
      "0.8205282838202415\n"
     ]
    }
   ],
   "source": [
    "# Oscillatory transition rates\n",
    "k12, k21 = 20.0, 1.0  # Rates between E1 and E2\n",
    "k23, k32 = 20.0, 1.0  # Rates between E2 and E3\n",
    "k31, k13 = 20.0, 1.0  # Rates between E3 and E1\n",
    "\n",
    "print(affinity(k12,k21,k23,k32,k31,k13))\n",
    "\n",
    "W = transition_matrix(k12,k21,k23,k32,k31,k13)\n",
    "pi = stationary_distribution(W)\n",
    "eigvals, eigvecs = scipy.linalg.eig(W)\n",
    "print(eigvals)\n",
    "\n",
    "x_i = np.abs(eigvals[1].imag)\n",
    "x_r = np.abs(eigvals[1].real)\n",
    "R = x_i/x_r\n",
    "print(R/2*math.pi)\n",
    "\n",
    "# Time points for the plot\n",
    "times = np.linspace(0, 100, 500)  # Time from 0 to 10 with 500 points\n",
    "# Compute C(t) for each time point\n",
    "correlation_values = [correlation_function(t, W, pi) for t in times]"
   ]
  },
  {
   "cell_type": "code",
   "execution_count": 18,
   "id": "f08bed5b-3fef-40d4-a42d-b9071a8ff933",
   "metadata": {},
   "outputs": [
    {
     "data": {
      "image/png": "[encoded data removed]",
      "text/plain": [
       "<Figure size 432x288 with 1 Axes>"
      ]
     },
     "metadata": {
      "needs_background": "light"
     },
     "output_type": "display_data"
    }
   ],
   "source": [
    "plt.plot(times, correlation_values, label='C(t)')\n",
    "plt.xlabel('Time (t)')\n",
    "plt.ylabel('Correlation Function C(t)')\n",
    "#plt.title('Correlation Function in a Three-State System')\n",
    "plt.legend()\n",
    "plt.grid()\n",
    "plt.show()"
   ]
  },
  {
   "cell_type": "markdown",
   "id": "18d01f39-9fe0-4ee5-a521-a3005d68e27d",
   "metadata": {},
   "source": [
    "What parameter sets give you complex eigenvalues?"
   ]
  },
  {
   "cell_type": "code",
   "execution_count": 19,
   "id": "db3ed22d-de86-4338-95d8-10c9c4746122",
   "metadata": {},
   "outputs": [],
   "source": [
    "G = nx.DiGraph()\n",
    "G_size = 3\n",
    "nodes = np.arange(1,G_size+1,step=1)\n",
    "G.add_nodes_from(nodes)\n",
    "\n",
    "G.add_edge(1,3)\n",
    "G.add_edge(3,1)\n",
    "G.add_edge(2,3)\n",
    "G.add_edge(3,2)\n",
    "G.add_edge(1,2)\n",
    "G.add_edge(2,1)\n",
    "\n",
    "\n",
    "G_ud = nx.Graph()\n",
    "G_ud.add_node(1)\n",
    "G_ud.add_node(2)\n",
    "G_ud.add_node(3)\n",
    "G_ud.add_edge(3, 2)\n",
    "G_ud.add_edge(2, 3)\n",
    "G_ud.add_edge(1, 2)\n",
    "G_ud.add_edge(2, 1)\n",
    "G_ud.add_edge(1, 3)\n",
    "G_ud.add_edge(3, 1)"
   ]
  },
  {
   "cell_type": "code",
   "execution_count": 20,
   "id": "2e12f715-aeec-40db-bc5c-7c9822a3da64",
   "metadata": {},
   "outputs": [],
   "source": [
    "node_list = get_nodes(G)\n",
    "num_nodes = G_size\n",
    "edge_list = get_edges(G)\n",
    "\n",
    "# not needed for 3-cycle graph but we need the data structures\n",
    "cycle_list = get_cycles(G_ud)\n",
    "num_cycles = len(cycle_list)"
   ]
  },
  {
   "cell_type": "code",
   "execution_count": 21,
   "id": "df50feb1-4a7b-427f-9256-b5094ef19863",
   "metadata": {},
   "outputs": [],
   "source": [
    "label_dict, label_list = get_labels(G)"
   ]
  },
  {
   "cell_type": "code",
   "execution_count": 22,
   "id": "66daee29-eeb9-4ad9-8da6-c81ac62513ed",
   "metadata": {},
   "outputs": [
    {
     "data": {
      "text/plain": [
       "{(1, 3): 205.59491,\n",
       " (1, 2): 395.3394,\n",
       " (2, 3): 8.32158,\n",
       " (2, 1): 0.25334,\n",
       " (3, 1): 0.19346,\n",
       " (3, 2): 0.00396}"
      ]
     },
     "execution_count": 22,
     "metadata": {},
     "output_type": "execute_result"
    }
   ],
   "source": [
    "label_dict"
   ]
  },
  {
   "cell_type": "code",
   "execution_count": 23,
   "id": "32c53073-7063-4746-ab93-587ec2493d9a",
   "metadata": {},
   "outputs": [],
   "source": [
    "all_labels = np.zeros((1000,6))\n",
    "all_eigvals_real = np.zeros((1000,3))\n",
    "all_eigvals_complex = np.zeros((1000,3))\n",
    "all_affinities = np.zeros((1000,1))"
   ]
  },
  {
   "cell_type": "code",
   "execution_count": 24,
   "id": "a1f27836-7df6-46ed-bea8-a850cbdd32b7",
   "metadata": {},
   "outputs": [],
   "source": [
    "for i in range(1000):\n",
    "    label_dict, label_list = get_labels(G)\n",
    "    all_labels[i] = label_list\n",
    "    cycle_edges_forward,cycle_edges_backward,cycle_labels_forward,cycle_labels_backward = get_cycle_labels_edges(cycle_list,label_dict)\n",
    "    products_f, products_b = calculate_cycle_products(cycle_labels_forward,cycle_labels_backward)\n",
    "    total_affinities = calculate_affinities(products_f, products_b, cycle_list)\n",
    "    all_affinities[i] = total_affinities\n",
    "    L = Laplacian_all(edge_list,label_list,node_list)\n",
    "    eigvals, eigvecs = scipy.linalg.eig(L)\n",
    "    eigvals_sorted = np.sort(eigvals)\n",
    "    all_eigvals_real[i] = eigvals_sorted.real\n",
    "    all_eigvals_complex[i] = eigvals_sorted.imag"
   ]
  },
  {
   "cell_type": "code",
   "execution_count": 25,
   "id": "e8b7e38b-044c-499b-975d-f773d2102691",
   "metadata": {},
   "outputs": [
    {
     "data": {
      "text/plain": [
       "<matplotlib.legend.Legend at 0x7fcd19e31ac0>"
      ]
     },
     "execution_count": 25,
     "metadata": {},
     "output_type": "execute_result"
    },
    {
     "data": {
      "image/png": "[encoded data removed]",
      "text/plain": [
       "<Figure size 432x288 with 1 Axes>"
      ]
     },
     "metadata": {
      "needs_background": "light"
     },
     "output_type": "display_data"
    }
   ],
   "source": [
    "plt.scatter(all_affinities, all_eigvals_real[:,0], label='lambda_1')\n",
    "plt.scatter(all_affinities, all_eigvals_real[:,1], label='lambda_2')\n",
    "plt.scatter(all_affinities, all_eigvals_real[:,2], label='lambda_3')\n",
    "plt.xlabel('A')\n",
    "plt.ylabel('Lambda_R')\n",
    "plt.legend()"
   ]
  },
  {
   "cell_type": "code",
   "execution_count": 26,
   "id": "d1825c11-990f-428a-a84f-32c65f917267",
   "metadata": {},
   "outputs": [
    {
     "data": {
      "text/plain": [
       "<matplotlib.legend.Legend at 0x7fcd19e0c3d0>"
      ]
     },
     "execution_count": 26,
     "metadata": {},
     "output_type": "execute_result"
    },
    {
     "data": {
      "image/png": "[encoded data removed]",
      "text/plain": [
       "<Figure size 432x288 with 1 Axes>"
      ]
     },
     "metadata": {
      "needs_background": "light"
     },
     "output_type": "display_data"
    }
   ],
   "source": [
    "plt.scatter(all_affinities, all_eigvals_complex[:,0], label='lambda_1')\n",
    "plt.scatter(all_affinities, all_eigvals_complex[:,1], label='lambda_2')\n",
    "plt.scatter(all_affinities, all_eigvals_complex[:,2], label='lambda_3')\n",
    "plt.xlabel('A')\n",
    "plt.ylabel('Lambda_C')\n",
    "plt.legend()"
   ]
  },
  {
   "cell_type": "markdown",
   "id": "aaf3dffd-772d-4b66-b6e1-6349414816ff",
   "metadata": {},
   "source": [
    "Find a parameter set that has complex eigenvalues and a particular affinity."
   ]
  },
  {
   "cell_type": "code",
   "execution_count": 27,
   "id": "43c0873b-9e4a-4550-950e-d2a22e975072",
   "metadata": {},
   "outputs": [
    {
     "data": {
      "text/plain": [
       "(array([ 12,  12,  13,  13,  98,  98, 173, 173, 231, 231, 276, 276, 281,\n",
       "        281, 398, 398, 403, 403, 474, 474, 492, 492, 517, 517, 518, 518,\n",
       "        547, 547, 573, 573, 593, 593, 610, 610, 640, 640, 679, 679, 730,\n",
       "        730, 875, 875, 877, 877, 897, 897, 899, 899, 912, 912, 964, 964,\n",
       "        990, 990]),\n",
       " array([0, 1, 0, 1, 0, 1, 0, 1, 0, 1, 0, 1, 0, 1, 0, 1, 0, 1, 0, 1, 0, 1,\n",
       "        0, 1, 0, 1, 0, 1, 0, 1, 0, 1, 0, 1, 0, 1, 0, 1, 0, 1, 0, 1, 0, 1,\n",
       "        0, 1, 0, 1, 0, 1, 0, 1, 0, 1]))"
      ]
     },
     "execution_count": 27,
     "metadata": {},
     "output_type": "execute_result"
    }
   ],
   "source": [
    "np.nonzero(all_eigvals_complex)"
   ]
  },
  {
   "cell_type": "code",
   "execution_count": 29,
   "id": "71e2928e-249c-4e64-87f7-61a5871b5112",
   "metadata": {},
   "outputs": [
    {
     "data": {
      "text/plain": [
       "array([18.83621977])"
      ]
     },
     "execution_count": 29,
     "metadata": {},
     "output_type": "execute_result"
    }
   ],
   "source": [
    "all_affinities[12]"
   ]
  },
  {
   "cell_type": "code",
   "execution_count": 31,
   "id": "e8b45a7d-3e11-41f3-b2df-246fb579c23c",
   "metadata": {},
   "outputs": [
    {
     "data": {
      "text/plain": [
       "array([-8.21559947,  8.21559947,  0.        ])"
      ]
     },
     "execution_count": 31,
     "metadata": {},
     "output_type": "execute_result"
    }
   ],
   "source": [
    "all_eigvals_complex[12]"
   ]
  },
  {
   "cell_type": "code",
   "execution_count": 32,
   "id": "5916e40f-0475-4c8e-ab42-dbf051edb1f7",
   "metadata": {},
   "outputs": [
    {
     "data": {
      "text/plain": [
       "array([1.160000e-03, 1.330766e+01, 8.319220e+00, 3.330000e-03,\n",
       "       1.046221e+01, 1.978970e+00])"
      ]
     },
     "execution_count": 32,
     "metadata": {},
     "output_type": "execute_result"
    }
   ],
   "source": [
    "all_labels[12,:]"
   ]
  },
  {
   "cell_type": "code",
   "execution_count": 33,
   "id": "17771a58-287b-45a7-a959-e2ed083da5cc",
   "metadata": {},
   "outputs": [
    {
     "data": {
      "text/plain": [
       "{(1, 3): 0.85838,\n",
       " (1, 2): 2.81255,\n",
       " (2, 3): 23.04062,\n",
       " (2, 1): 0.01257,\n",
       " (3, 1): 0.06076,\n",
       " (3, 2): 0.82315}"
      ]
     },
     "execution_count": 33,
     "metadata": {},
     "output_type": "execute_result"
    }
   ],
   "source": [
    "label_dict"
   ]
  },
  {
   "cell_type": "code",
   "execution_count": null,
   "id": "544bcb96-03c7-44ce-ac9f-099697cacfde",
   "metadata": {},
   "outputs": [],
   "source": []
  },
  {
   "cell_type": "code",
   "execution_count": null,
   "id": "455b001f-ebd1-472f-8370-24ff4144f3b7",
   "metadata": {},
   "outputs": [],
   "source": []
  },
  {
   "cell_type": "markdown",
   "id": "20b39730-8411-4ca6-b749-c8266b233b02",
   "metadata": {},
   "source": [
    "More formal workflow"
   ]
  },
  {
   "cell_type": "code",
   "execution_count": 57,
   "id": "abe9650e-14f9-4f29-96f6-29277a92f19c",
   "metadata": {},
   "outputs": [],
   "source": [
    "G = nx.DiGraph()\n",
    "G_size = 3\n",
    "nodes = np.arange(1,G_size+1,step=1)\n",
    "G.add_nodes_from(nodes)\n",
    "\n",
    "G.add_edge(1,3, weight = k_1m)\n",
    "G.add_edge(3,1, weight = k_3p)\n",
    "G.add_edge(2,3, weight = k_2p)\n",
    "G.add_edge(3,2, weight = k_3m)\n",
    "G.add_edge(1,2, weight = k_1p)\n",
    "G.add_edge(2,1, weight = k_2m)\n",
    "\n",
    "G_ud = nx.Graph()\n",
    "G_ud.add_node(1)\n",
    "G_ud.add_node(2)\n",
    "G_ud.add_node(3)\n",
    "G_ud.add_edge(3, 2)\n",
    "G_ud.add_edge(2, 3)\n",
    "G_ud.add_edge(1, 2)\n",
    "G_ud.add_edge(2, 1)\n",
    "G_ud.add_edge(1, 3)\n",
    "G_ud.add_edge(3, 1)"
   ]
  },
  {
   "cell_type": "code",
   "execution_count": 58,
   "id": "a7d3dadb-6f96-42d5-be1a-faaf500be46f",
   "metadata": {},
   "outputs": [
    {
     "data": {
      "image/png": "[encoded data removed]",
      "text/plain": [
       "<Figure size 432x288 with 1 Axes>"
      ]
     },
     "metadata": {},
     "output_type": "display_data"
    }
   ],
   "source": [
    "node_labels = {}\n",
    "node_labels[1] = \"1\"\n",
    "node_labels[2] = \"2\"\n",
    "node_labels[3] = \"3\"\n",
    "nx.draw(G, pos=nx.circular_layout(G), labels=node_labels, with_labels=True,node_size=2000, node_color = 'lightgray', font_size=18, font_color='black', font_family='sans-serif')"
   ]
  },
  {
   "cell_type": "markdown",
   "id": "c1e8f50f-0214-4455-aaef-2c2eb6836672",
   "metadata": {},
   "source": [
    "Next, we calculate some data structures encoding information about the graph."
   ]
  },
  {
   "cell_type": "code",
   "execution_count": 59,
   "id": "178bc02b-bf1e-41bf-abb4-bb96d0ffff95",
   "metadata": {},
   "outputs": [],
   "source": [
    "node_list = get_nodes(G)\n",
    "num_nodes = G_size\n",
    "edge_list = get_edges(G)\n",
    "\n",
    "# not needed for 3-cycle graph but we need the data structures\n",
    "cycle_list = get_cycles(G_ud)\n",
    "num_cycles = len(cycle_list)"
   ]
  },
  {
   "cell_type": "code",
   "execution_count": 60,
   "id": "adf9ae8b-e975-4ff0-a64f-68c754cd16d2",
   "metadata": {},
   "outputs": [],
   "source": [
    "label_dict, label_list = get_labels(G)"
   ]
  },
  {
   "cell_type": "code",
   "execution_count": 61,
   "id": "c7128df9-67fe-43f5-80fe-17f969c51b09",
   "metadata": {},
   "outputs": [
    {
     "data": {
      "text/plain": [
       "{(1, 3): 1.0,\n",
       " (1, 2): 4.607186634331275e+28,\n",
       " (2, 3): 4.607186634331275e+28,\n",
       " (2, 1): 1.0,\n",
       " (3, 1): 4.607186634331275e+28,\n",
       " (3, 2): 1.0}"
      ]
     },
     "execution_count": 61,
     "metadata": {},
     "output_type": "execute_result"
    }
   ],
   "source": [
    "label_dict"
   ]
  },
  {
   "cell_type": "code",
   "execution_count": 62,
   "id": "b3b4cf2a-2815-444b-9d24-7c31a3a9ce9b",
   "metadata": {},
   "outputs": [
    {
     "data": {
      "text/plain": [
       "array([1.00000000e+00, 4.60718663e+28, 4.60718663e+28, 1.00000000e+00,\n",
       "       4.60718663e+28, 1.00000000e+00])"
      ]
     },
     "execution_count": 62,
     "metadata": {},
     "output_type": "execute_result"
    }
   ],
   "source": [
    "label_list"
   ]
  },
  {
   "cell_type": "markdown",
   "id": "ad79fa54-92c3-46c6-ae37-3fe71c80e4e2",
   "metadata": {},
   "source": [
    "Then, we calculate the cycle affinity using the general graphs framework (overkill for the 3-vertex graph, but it works)."
   ]
  },
  {
   "cell_type": "code",
   "execution_count": 63,
   "id": "4ed93966-e932-456a-aec5-ed59e565dad5",
   "metadata": {},
   "outputs": [],
   "source": [
    "cycle_edges_forward,cycle_edges_backward,cycle_labels_forward,cycle_labels_backward = get_cycle_labels_edges(cycle_list,label_dict)"
   ]
  },
  {
   "cell_type": "code",
   "execution_count": 64,
   "id": "8d52f5e8-9a0a-4ba4-abea-7150db4cd7bc",
   "metadata": {},
   "outputs": [
    {
     "name": "stdout",
     "output_type": "stream",
     "text": [
      "[198.]\n"
     ]
    }
   ],
   "source": [
    "products_f, products_b = calculate_cycle_products(cycle_labels_forward,cycle_labels_backward)\n",
    "total_affinities = calculate_affinities(products_f, products_b, cycle_list)\n",
    "print(total_affinities)"
   ]
  },
  {
   "cell_type": "markdown",
   "id": "ef74ec1b-b003-4651-ab87-51987e317dde",
   "metadata": {},
   "source": [
    "For fun, we can calculate the steady state distribution using the spectrum of the Laplacian."
   ]
  },
  {
   "cell_type": "code",
   "execution_count": 65,
   "id": "8ab2d678-e808-4d19-89da-eb6e8178c3ce",
   "metadata": {},
   "outputs": [],
   "source": [
    "L = Laplacian_all(edge_list,label_list,node_list)\n",
    "pi = steady_state_spectrum(L)"
   ]
  },
  {
   "cell_type": "code",
   "execution_count": 66,
   "id": "4094c1bb-73e6-417b-b2f6-c1ea2b5a0e1f",
   "metadata": {},
   "outputs": [
    {
     "data": {
      "text/plain": [
       "array([[-4.60718663e+28,  4.60718663e+28,  1.00000000e+00],\n",
       "       [ 1.00000000e+00, -4.60718663e+28,  4.60718663e+28],\n",
       "       [ 4.60718663e+28,  1.00000000e+00, -4.60718663e+28]],\n",
       "      dtype=float128)"
      ]
     },
     "execution_count": 66,
     "metadata": {},
     "output_type": "execute_result"
    }
   ],
   "source": [
    "L"
   ]
  },
  {
   "cell_type": "markdown",
   "id": "0147e1ff-7de1-4b5c-b38d-50505922e84a",
   "metadata": {},
   "source": [
    "Let's grab the eigenvalues and eigenvectors of the Laplacian matrix."
   ]
  },
  {
   "cell_type": "code",
   "execution_count": 39,
   "id": "d7365db9-4ed4-4118-a781-190838e97e6d",
   "metadata": {},
   "outputs": [],
   "source": [
    "eigvals, eigvecs = scipy.linalg.eig(L)"
   ]
  },
  {
   "cell_type": "code",
   "execution_count": 40,
   "id": "51ddfd09-d13a-4313-b5ef-e09694821643",
   "metadata": {},
   "outputs": [
    {
     "data": {
      "text/plain": [
       "array([-6.91077995e+28+3.98994067e+28j, -6.91077995e+28-3.98994067e+28j,\n",
       "       -6.55378477e+12+0.00000000e+00j])"
      ]
     },
     "execution_count": 40,
     "metadata": {},
     "output_type": "execute_result"
    }
   ],
   "source": [
    "eigvals"
   ]
  },
  {
   "cell_type": "code",
   "execution_count": 41,
   "id": "161c9102-fbc0-467b-a26a-a16d5a35b326",
   "metadata": {},
   "outputs": [
    {
     "data": {
      "text/plain": [
       "array([[-0.28867513+0.5j, -0.28867513-0.5j, -0.57735027+0.j ],\n",
       "       [-0.28867513-0.5j, -0.28867513+0.5j, -0.57735027+0.j ],\n",
       "       [ 0.57735027+0.j ,  0.57735027-0.j , -0.57735027+0.j ]])"
      ]
     },
     "execution_count": 41,
     "metadata": {},
     "output_type": "execute_result"
    }
   ],
   "source": [
    "eigvecs"
   ]
  },
  {
   "cell_type": "markdown",
   "id": "88c975e8-d771-4225-b84b-707efdfbcdcd",
   "metadata": {},
   "source": [
    "Calculate the correlation function $C_{1,1}(t)$"
   ]
  },
  {
   "cell_type": "code",
   "execution_count": 42,
   "id": "acaf70f6-1406-4bd1-b4b4-2212be52ddc6",
   "metadata": {},
   "outputs": [],
   "source": [
    "t = np.around(np.arange(100.0,250.0,step=.01), decimals = 2)"
   ]
  },
  {
   "cell_type": "code",
   "execution_count": 43,
   "id": "f8ad6f26-9609-4bdb-929e-d75221ceab39",
   "metadata": {},
   "outputs": [
    {
     "name": "stderr",
     "output_type": "stream",
     "text": [
      "/Users/sabinahaque/opt/anaconda3/lib/python3.9/site-packages/scipy/sparse/linalg/matfuncs.py:437: RuntimeWarning: overflow encountered in longdouble_scalars\n",
      "  self._d10_exact = _onenorm(self.A10)**(1/10.)\n"
     ]
    }
   ],
   "source": [
    "list_result = list(map(lambda i: scipy.linalg.expm(L*i), t))"
   ]
  },
  {
   "cell_type": "code",
   "execution_count": 44,
   "id": "413de39f-3e4a-4ed2-a06b-ccc51696ef7b",
   "metadata": {},
   "outputs": [
    {
     "data": {
      "text/plain": [
       "array([[-4.60718663e+28,  4.60718663e+28,  1.00000000e+00],\n",
       "       [ 1.00000000e+00, -4.60718663e+28,  4.60718663e+28],\n",
       "       [ 4.60718663e+28,  1.00000000e+00, -4.60718663e+28]],\n",
       "      dtype=float128)"
      ]
     },
     "execution_count": 44,
     "metadata": {},
     "output_type": "execute_result"
    }
   ],
   "source": [
    "L"
   ]
  },
  {
   "cell_type": "code",
   "execution_count": 45,
   "id": "95d00d6e-64a1-4be5-a888-d2cd49667ce7",
   "metadata": {},
   "outputs": [
    {
     "name": "stderr",
     "output_type": "stream",
     "text": [
      "/var/folders/ch/f1rl6h5x4fx2wbg2_f5bj5dw0000gn/T/ipykernel_8972/908813237.py:8: RuntimeWarning: invalid value encountered in multiply\n",
      "  new_list[i] = ((list_result[i]*P_0)[0])[0]\n"
     ]
    }
   ],
   "source": [
    "list_result = list(map(lambda i: scipy.linalg.expm(L*i), t))\n",
    "\n",
    "P_0 = np.array([1,0,0])\n",
    "\n",
    "new_list = np.zeros((len(t),3))\n",
    "\n",
    "for i in range(len(t)):\n",
    "    new_list[i] = ((list_result[i]*P_0)[0])[0]"
   ]
  },
  {
   "cell_type": "code",
   "execution_count": 46,
   "id": "f22df1f2-af29-41b6-be13-314351a88100",
   "metadata": {},
   "outputs": [
    {
     "data": {
      "text/plain": [
       "array([inf, inf, inf])"
      ]
     },
     "execution_count": 46,
     "metadata": {},
     "output_type": "execute_result"
    }
   ],
   "source": [
    "new_list[0]"
   ]
  },
  {
   "cell_type": "code",
   "execution_count": 47,
   "id": "f4cb5b5f-ec8e-48b6-8205-db82cb29f433",
   "metadata": {},
   "outputs": [
    {
     "data": {
      "text/plain": [
       "array([-4.60718663e+28,  1.00000000e+00,  4.60718663e+28], dtype=float128)"
      ]
     },
     "execution_count": 47,
     "metadata": {},
     "output_type": "execute_result"
    }
   ],
   "source": [
    "((L*P_0)[:,0])"
   ]
  },
  {
   "cell_type": "code",
   "execution_count": 50,
   "id": "abab6bd1-9774-42f3-a1bd-7fbc53363586",
   "metadata": {},
   "outputs": [
    {
     "data": {
      "text/plain": [
       "Text(0, 0.5, 'C_1,1(t)')"
      ]
     },
     "execution_count": 50,
     "metadata": {},
     "output_type": "execute_result"
    },
    {
     "data": {
      "image/png": "[encoded data removed]",
      "text/plain": [
       "<Figure size 432x288 with 1 Axes>"
      ]
     },
     "metadata": {
      "needs_background": "light"
     },
     "output_type": "display_data"
    }
   ],
   "source": [
    "plt.plot(t, new_list)\n",
    "plt.xlabel('t')\n",
    "plt.ylabel('C_1,1(t)')\n",
    "#plt.legend()"
   ]
  },
  {
   "cell_type": "code",
   "execution_count": null,
   "id": "e8f688c8-77ef-42d4-85c0-7045156d817a",
   "metadata": {},
   "outputs": [],
   "source": []
  },
  {
   "cell_type": "code",
   "execution_count": null,
   "id": "122697a5-a658-4b4b-8d0e-ceba7590790d",
   "metadata": {},
   "outputs": [],
   "source": []
  }
 ],
 "metadata": {
  "kernelspec": {
   "display_name": "Python 3 (ipykernel)",
   "language": "python",
   "name": "python3"
  },
  "language_info": {
   "codemirror_mode": {
    "name": "ipython",
    "version": 3
   },
   "file_extension": ".py",
   "mimetype": "text/x-python",
   "name": "python",
   "nbconvert_exporter": "python",
   "pygments_lexer": "ipython3",
   "version": "3.9.19"
  }
 },
 "nbformat": 4,
 "nbformat_minor": 5
}
